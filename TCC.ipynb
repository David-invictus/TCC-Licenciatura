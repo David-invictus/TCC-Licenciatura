{
  "nbformat": 4,
  "nbformat_minor": 0,
  "metadata": {
    "colab": {
      "provenance": [],
      "collapsed_sections": [
        "eVN8bosz4520",
        "hIMoM-_q9-t8",
        "uZ8k--7h-E_r",
        "nNvmTNBp7ckZ",
        "afoBo1za_UFO",
        "POp0XeZ57yZe",
        "NbJfMxZwPVgN",
        "EyTeuZAjizz9",
        "lQrdbGf6oAM9",
        "Q-e13NiDq9Wu",
        "jmroKvc5uhJk",
        "Ujd-BKZfuxtE",
        "kSda3cjov74L",
        "jON7OfKDwfZP",
        "E8ok9x9AomAu",
        "FwDOiWvnyYty",
        "zlcMxhbc61y9",
        "36EyBpAyAB8O",
        "TB-PAHWUJfKr",
        "bMH5dHCELvCn",
        "9DiUiuyDNcLv",
        "gMXdnFvry26B",
        "OyV12GjsXcNw",
        "OgY6r6vaXm8P",
        "WJjzAIYXYEov",
        "njPOBmOyX23G",
        "VSi5Ax-5YAK1",
        "Ym0sz4hioowt",
        "uCLBnvLb6yCn",
        "RdPbFbSC642W",
        "uQjrK07Rz1pC",
        "BK-zZaYV2eCc",
        "-gOP3BhV-lC4",
        "KJpMo2EK-dy_",
        "ntBuJg5BnGBa",
        "74CZ0v7q60xv",
        "RPc-iK976oIH",
        "NOqijrnv6PAP",
        "udJmco-t6ZKn",
        "QOcziXBH3FyG",
        "YBCrRAuQ3Uae",
        "_16hAsqNVkC8",
        "HLfzSWqfSl3m",
        "_KlJLi2AUYd4",
        "D9f3fJXlC0a_",
        "KTQmkphuC0bA",
        "FKrLyvkBC0bF",
        "01bqhQp0C0bI",
        "noEOBiDJC0bK",
        "UWcxJDJuC0bK",
        "iSaut5KsC0bL",
        "CmFwJYiWC0bN",
        "Zsrf12zXC0bO",
        "VzsN22xVC0bO",
        "BEUP-LkbC0bP",
        "3q8ULKmcC0bR",
        "9OEy2z86C0bT",
        "VdPpcM_0nbpv",
        "ktQxlduGnVkh",
        "GOUZlCEgpl2a",
        "mr8pcvrunQsf",
        "eQKIo-bh1mPW",
        "oxia1XVF9LV6",
        "wfs9rDC7JN6B",
        "edEg7n8Y3mdr",
        "jY8HQl1xEmfW",
        "xhnc5fdK1MJJ",
        "j3VOtSLK1XYZ",
        "hNa6Yb8j5gcH",
        "ZltqkK_75gcL",
        "TO46WWGX5gcN",
        "BOBgXeNF5gcN",
        "q4LD5IaO9Atz",
        "SRp6SL-B3HB7",
        "vpwNDuOS9hFm",
        "iZGq9m_19hFn",
        "d1V7qD_64E-w",
        "Ei4fBiMe9Ats",
        "9oE3zGZGmiMh",
        "DfdJum5bmiMm",
        "dJeBnLPomiMn",
        "XijtZ5SdmKT0",
        "CMJUQ_oXD7_B",
        "_lXlxuu2G-Im",
        "0sOM5A7FeW_q",
        "BbPIUvGVi9T0",
        "NTgPWZm3I4Lf",
        "XkIyMiE-mIjV",
        "5K6VvW4JHlZb",
        "TQkuX-cIMlJn",
        "fRuV7BN8MlJp"
      ],
      "include_colab_link": true
    },
    "kernelspec": {
      "name": "python3",
      "display_name": "Python 3"
    },
    "language_info": {
      "name": "python"
    },
    "gpuClass": "standard"
  },
  "cells": [
    {
      "cell_type": "markdown",
      "metadata": {
        "id": "view-in-github",
        "colab_type": "text"
      },
      "source": [
        "<a href=\"https://colab.research.google.com/github/David-invictus/TCC-Licenciatura/blob/Notebook-do-Colab/TCC.ipynb\" target=\"_parent\"><img src=\"https://colab.research.google.com/assets/colab-badge.svg\" alt=\"Open In Colab\"/></a>"
      ]
    },
    {
      "cell_type": "markdown",
      "source": [
        "#TCC"
      ],
      "metadata": {
        "id": "pwVQmaKvoG04"
      }
    },
    {
      "cell_type": "markdown",
      "source": [
        "##Importações!!!"
      ],
      "metadata": {
        "id": "eVN8bosz4520"
      }
    },
    {
      "cell_type": "markdown",
      "source": [
        "###Bibliotecas!!!"
      ],
      "metadata": {
        "id": "hIMoM-_q9-t8"
      }
    },
    {
      "cell_type": "code",
      "source": [
        "#----------------- Importação necessária para compilar os dados ----------------\n",
        "\n",
        "#--------- Importamos o Warnings para previnir alertas desnecessários. ---------\n",
        "import warnings\n",
        "warnings.filterwarnings(\"ignore\")\n",
        "#-------------------------------------------------------------------------------\n",
        "\n",
        "#---------------- Introduce the basic package of data science. -----------------\n",
        "#   Importamos a biblioteca Pandas para trabalhar com os dados\n",
        "import pandas as pd\n",
        "#   Importamos a biblioteca MatPlotLib ...\n",
        "import matplotlib as mpl\n",
        "#   Importamos a Stats da biblioteca SciPy ...\n",
        "import scipy.stats as st\n",
        "#   Importamos a biblioteca SeaBorn para desenhar melhor os gráficos\n",
        "import seaborn as sns\n",
        "\n",
        "# Import the required modules, numpy for calculation, and Matplotlib for drawing\n",
        "#   Importamos a biblioteca NumPy\n",
        "import numpy as np\n",
        "#   Importamos o PyPlot da biblioteca MatPlotLib ...\n",
        "import matplotlib.pyplot as plt\n",
        "#-------------------------------------------------------------------------------\n",
        "\n",
        "import statsmodels.api as sm\n",
        "\n",
        "#- Introduce machine learning, preprocessing, model selection, and evaluation indicators. -\n",
        "#   Importamos a biblioteca Scikit Learn (SkLearn)\n",
        "import sklearn as sk\n",
        "from sklearn.linear_model import LinearRegression\n",
        "#   Importamos o pacote StandardScaler da biblioteca Preprocessing do SkLearn, para normalizar os dados.\n",
        "from sklearn.preprocessing import StandardScaler\n",
        "#   Importamos o pacote train_test_split da biblioteca model_select do SkLearn, para separar os dados de Treino e Test\n",
        "from sklearn.model_selection import train_test_split\n",
        "#   Importamos o pacote GridSearchCV da biblioteca Model_Selection do SkLearn\n",
        "from sklearn.model_selection import GridSearchCV\n",
        "#   Importamos o pacote R2_Score da biblioteca Metrics do SkLearn\n",
        "from sklearn.metrics import r2_score\n",
        "#-------------------------------------------------------------------------------\n",
        "\n",
        "#---------------------------- Introduce algorithms. ----------------------------\n",
        "from sklearn.linear_model import RidgeCV, LassoCV, LinearRegression, ElasticNet\n",
        "#-------------------------------------------------------------------------------\n",
        "\n",
        "#------------ Compared with SVC, it is the regression form of SVM. -------------\n",
        "from sklearn.svm import SVR\n",
        "#-------------------------------------------------------------------------------\n",
        "\n",
        "#---------------------------- Integrate algorithms. ----------------------------\n",
        "from sklearn.ensemble import RandomForestRegressor, GradientBoostingRegressor\n",
        "from xgboost import XGBRegressor\n",
        "#-------------------------------------------------------------------------------\n",
        "\n",
        "\n",
        "#   Instanciamos um objeto e vamos chamar o Scaler\n",
        "scaler = StandardScaler()"
      ],
      "metadata": {
        "id": "d-rgxZqN57ui"
      },
      "execution_count": 3,
      "outputs": []
    },
    {
      "cell_type": "markdown",
      "source": [
        "###Importando e testando os dados!!!"
      ],
      "metadata": {
        "id": "KffVn7an7P34"
      }
    },
    {
      "cell_type": "code",
      "source": [
        "#uri = \"/content/Dados_para_treinamento.csv\"\n",
        "#uri = \"/content/drive/MyDrive/Graduação em Licenciatura da Computação - UFERSA (2018-2022)/Semestre 10 - 2022.2/10 - TCC/TCC/Dados_para_treinamento.csv\"\n",
        "uri = \"https://gml.noaa.gov/webdata/ccgg/trends/co2/co2_mm_mlo.txt\"\n",
        "\n",
        "#df = pd.read_csv('file_location\\filename.txt', delimiter = \"\\t\")\n",
        "\n",
        "dados = pd.read_csv(uri, delimiter = \"\\s+\", header=54) \n",
        "dados.head()"
      ],
      "metadata": {
        "colab": {
          "base_uri": "https://localhost:8080/",
          "height": 270
        },
        "id": "TYZlkcgo45E6",
        "outputId": "c7b1ffb2-07a9-410e-a3c4-75ac8255431d"
      },
      "execution_count": 4,
      "outputs": [
        {
          "output_type": "execute_result",
          "data": {
            "text/plain": [
              "   1958  3  1958.2027  315.70  314.43  -1  -9.99  -0.99\n",
              "0  1958  4  1958.2877  317.45  315.16  -1  -9.99  -0.99\n",
              "1  1958  5  1958.3699  317.51  314.71  -1  -9.99  -0.99\n",
              "2  1958  6  1958.4548  317.24  315.14  -1  -9.99  -0.99\n",
              "3  1958  7  1958.5370  315.86  315.18  -1  -9.99  -0.99\n",
              "4  1958  8  1958.6219  314.93  316.18  -1  -9.99  -0.99"
            ],
            "text/html": [
              "\n",
              "  <div id=\"df-a4250654-1a0e-47f4-8631-34ebbc8ae49c\">\n",
              "    <div class=\"colab-df-container\">\n",
              "      <div>\n",
              "<style scoped>\n",
              "    .dataframe tbody tr th:only-of-type {\n",
              "        vertical-align: middle;\n",
              "    }\n",
              "\n",
              "    .dataframe tbody tr th {\n",
              "        vertical-align: top;\n",
              "    }\n",
              "\n",
              "    .dataframe thead th {\n",
              "        text-align: right;\n",
              "    }\n",
              "</style>\n",
              "<table border=\"1\" class=\"dataframe\">\n",
              "  <thead>\n",
              "    <tr style=\"text-align: right;\">\n",
              "      <th></th>\n",
              "      <th>1958</th>\n",
              "      <th>3</th>\n",
              "      <th>1958.2027</th>\n",
              "      <th>315.70</th>\n",
              "      <th>314.43</th>\n",
              "      <th>-1</th>\n",
              "      <th>-9.99</th>\n",
              "      <th>-0.99</th>\n",
              "    </tr>\n",
              "  </thead>\n",
              "  <tbody>\n",
              "    <tr>\n",
              "      <th>0</th>\n",
              "      <td>1958</td>\n",
              "      <td>4</td>\n",
              "      <td>1958.2877</td>\n",
              "      <td>317.45</td>\n",
              "      <td>315.16</td>\n",
              "      <td>-1</td>\n",
              "      <td>-9.99</td>\n",
              "      <td>-0.99</td>\n",
              "    </tr>\n",
              "    <tr>\n",
              "      <th>1</th>\n",
              "      <td>1958</td>\n",
              "      <td>5</td>\n",
              "      <td>1958.3699</td>\n",
              "      <td>317.51</td>\n",
              "      <td>314.71</td>\n",
              "      <td>-1</td>\n",
              "      <td>-9.99</td>\n",
              "      <td>-0.99</td>\n",
              "    </tr>\n",
              "    <tr>\n",
              "      <th>2</th>\n",
              "      <td>1958</td>\n",
              "      <td>6</td>\n",
              "      <td>1958.4548</td>\n",
              "      <td>317.24</td>\n",
              "      <td>315.14</td>\n",
              "      <td>-1</td>\n",
              "      <td>-9.99</td>\n",
              "      <td>-0.99</td>\n",
              "    </tr>\n",
              "    <tr>\n",
              "      <th>3</th>\n",
              "      <td>1958</td>\n",
              "      <td>7</td>\n",
              "      <td>1958.5370</td>\n",
              "      <td>315.86</td>\n",
              "      <td>315.18</td>\n",
              "      <td>-1</td>\n",
              "      <td>-9.99</td>\n",
              "      <td>-0.99</td>\n",
              "    </tr>\n",
              "    <tr>\n",
              "      <th>4</th>\n",
              "      <td>1958</td>\n",
              "      <td>8</td>\n",
              "      <td>1958.6219</td>\n",
              "      <td>314.93</td>\n",
              "      <td>316.18</td>\n",
              "      <td>-1</td>\n",
              "      <td>-9.99</td>\n",
              "      <td>-0.99</td>\n",
              "    </tr>\n",
              "  </tbody>\n",
              "</table>\n",
              "</div>\n",
              "      <button class=\"colab-df-convert\" onclick=\"convertToInteractive('df-a4250654-1a0e-47f4-8631-34ebbc8ae49c')\"\n",
              "              title=\"Convert this dataframe to an interactive table.\"\n",
              "              style=\"display:none;\">\n",
              "        \n",
              "  <svg xmlns=\"http://www.w3.org/2000/svg\" height=\"24px\"viewBox=\"0 0 24 24\"\n",
              "       width=\"24px\">\n",
              "    <path d=\"M0 0h24v24H0V0z\" fill=\"none\"/>\n",
              "    <path d=\"M18.56 5.44l.94 2.06.94-2.06 2.06-.94-2.06-.94-.94-2.06-.94 2.06-2.06.94zm-11 1L8.5 8.5l.94-2.06 2.06-.94-2.06-.94L8.5 2.5l-.94 2.06-2.06.94zm10 10l.94 2.06.94-2.06 2.06-.94-2.06-.94-.94-2.06-.94 2.06-2.06.94z\"/><path d=\"M17.41 7.96l-1.37-1.37c-.4-.4-.92-.59-1.43-.59-.52 0-1.04.2-1.43.59L10.3 9.45l-7.72 7.72c-.78.78-.78 2.05 0 2.83L4 21.41c.39.39.9.59 1.41.59.51 0 1.02-.2 1.41-.59l7.78-7.78 2.81-2.81c.8-.78.8-2.07 0-2.86zM5.41 20L4 18.59l7.72-7.72 1.47 1.35L5.41 20z\"/>\n",
              "  </svg>\n",
              "      </button>\n",
              "      \n",
              "  <style>\n",
              "    .colab-df-container {\n",
              "      display:flex;\n",
              "      flex-wrap:wrap;\n",
              "      gap: 12px;\n",
              "    }\n",
              "\n",
              "    .colab-df-convert {\n",
              "      background-color: #E8F0FE;\n",
              "      border: none;\n",
              "      border-radius: 50%;\n",
              "      cursor: pointer;\n",
              "      display: none;\n",
              "      fill: #1967D2;\n",
              "      height: 32px;\n",
              "      padding: 0 0 0 0;\n",
              "      width: 32px;\n",
              "    }\n",
              "\n",
              "    .colab-df-convert:hover {\n",
              "      background-color: #E2EBFA;\n",
              "      box-shadow: 0px 1px 2px rgba(60, 64, 67, 0.3), 0px 1px 3px 1px rgba(60, 64, 67, 0.15);\n",
              "      fill: #174EA6;\n",
              "    }\n",
              "\n",
              "    [theme=dark] .colab-df-convert {\n",
              "      background-color: #3B4455;\n",
              "      fill: #D2E3FC;\n",
              "    }\n",
              "\n",
              "    [theme=dark] .colab-df-convert:hover {\n",
              "      background-color: #434B5C;\n",
              "      box-shadow: 0px 1px 3px 1px rgba(0, 0, 0, 0.15);\n",
              "      filter: drop-shadow(0px 1px 2px rgba(0, 0, 0, 0.3));\n",
              "      fill: #FFFFFF;\n",
              "    }\n",
              "  </style>\n",
              "\n",
              "      <script>\n",
              "        const buttonEl =\n",
              "          document.querySelector('#df-a4250654-1a0e-47f4-8631-34ebbc8ae49c button.colab-df-convert');\n",
              "        buttonEl.style.display =\n",
              "          google.colab.kernel.accessAllowed ? 'block' : 'none';\n",
              "\n",
              "        async function convertToInteractive(key) {\n",
              "          const element = document.querySelector('#df-a4250654-1a0e-47f4-8631-34ebbc8ae49c');\n",
              "          const dataTable =\n",
              "            await google.colab.kernel.invokeFunction('convertToInteractive',\n",
              "                                                     [key], {});\n",
              "          if (!dataTable) return;\n",
              "\n",
              "          const docLinkHtml = 'Like what you see? Visit the ' +\n",
              "            '<a target=\"_blank\" href=https://colab.research.google.com/notebooks/data_table.ipynb>data table notebook</a>'\n",
              "            + ' to learn more about interactive tables.';\n",
              "          element.innerHTML = '';\n",
              "          dataTable['output_type'] = 'display_data';\n",
              "          await google.colab.output.renderOutput(dataTable, element);\n",
              "          const docLink = document.createElement('div');\n",
              "          docLink.innerHTML = docLinkHtml;\n",
              "          element.appendChild(docLink);\n",
              "        }\n",
              "      </script>\n",
              "    </div>\n",
              "  </div>\n",
              "  "
            ]
          },
          "metadata": {},
          "execution_count": 4
        }
      ]
    },
    {
      "cell_type": "markdown",
      "source": [
        "###Outras importações"
      ],
      "metadata": {
        "id": "uZ8k--7h-E_r"
      }
    },
    {
      "cell_type": "code",
      "execution_count": 5,
      "metadata": {
        "id": "ykVNpKlf4G6c"
      },
      "outputs": [],
      "source": [
        "#----------------- Importação secundárias para testar os dados -----------------\n",
        "\n",
        "#   Importamos o pacote Accuracy_Score da biblioteca Metrics do SkLearn, para ver a acurácia do modelo.\n",
        "from sklearn.metrics import accuracy_score\n",
        "#   Importamos o pacote MLPClassifier da biblioteca Neural_Network do SkLearn\n",
        "from sklearn.neural_network import MLPClassifier\n",
        "\n",
        "#   Importamos o pacote LinearSVC da biblioteca svm do SkLearn, para gerar um Cérebro vázio.\n",
        "#from sklearn.svm import LinearSVC\n",
        "#   Importamos a biblioteca DataSet do SkLearn\n",
        "#from sklearn import datasets\n",
        "\n",
        "#   Instanciamos um objeto e vamos chamar o LinearSVC\n",
        "#modelo = LinearSVC()\n",
        "\n",
        "#from pandas.core.arrays.sparse import array"
      ]
    },
    {
      "cell_type": "markdown",
      "source": [
        "#Testes com os dados do TCC"
      ],
      "metadata": {
        "id": "qmY1sbmAhi8Y"
      }
    },
    {
      "cell_type": "markdown",
      "source": [
        "##Modificando os dados!!!"
      ],
      "metadata": {
        "id": "nNvmTNBp7ckZ"
      }
    },
    {
      "cell_type": "code",
      "source": [
        "dados.columns"
      ],
      "metadata": {
        "colab": {
          "base_uri": "https://localhost:8080/"
        },
        "id": "mnPwta-jwcti",
        "outputId": "a34c8d73-ac47-48d7-82ac-a8b9b969b1c2"
      },
      "execution_count": 6,
      "outputs": [
        {
          "output_type": "execute_result",
          "data": {
            "text/plain": [
              "Index(['1958', '3', '1958.2027', '315.70', '314.43', '-1', '-9.99', '-0.99'], dtype='object')"
            ]
          },
          "metadata": {},
          "execution_count": 6
        }
      ]
    },
    {
      "cell_type": "code",
      "source": [
        "dados.columns = ['Ano', 'Mês', 'Dados decimais','Média mês','Dados ajustados','Dias','Desvio padrão-Dados','Dados incertos' ]"
      ],
      "metadata": {
        "id": "ZlQhcULtJqaA"
      },
      "execution_count": 7,
      "outputs": []
    },
    {
      "cell_type": "code",
      "source": [
        "dadosT = dados\n",
        "dadosT.head(1)"
      ],
      "metadata": {
        "id": "QUn-jj3O_K6n",
        "colab": {
          "base_uri": "https://localhost:8080/",
          "height": 81
        },
        "outputId": "743536d0-9e8a-45b3-b33e-2370c91efb43"
      },
      "execution_count": 8,
      "outputs": [
        {
          "output_type": "execute_result",
          "data": {
            "text/plain": [
              "    Ano  Mês  Dados decimais  Média mês  Dados ajustados  Dias  \\\n",
              "0  1958    4       1958.2877     317.45           315.16    -1   \n",
              "\n",
              "   Desvio padrão-Dados  Dados incertos  \n",
              "0                -9.99           -0.99  "
            ],
            "text/html": [
              "\n",
              "  <div id=\"df-7d55e25c-5c5d-409d-bd04-31c244183931\">\n",
              "    <div class=\"colab-df-container\">\n",
              "      <div>\n",
              "<style scoped>\n",
              "    .dataframe tbody tr th:only-of-type {\n",
              "        vertical-align: middle;\n",
              "    }\n",
              "\n",
              "    .dataframe tbody tr th {\n",
              "        vertical-align: top;\n",
              "    }\n",
              "\n",
              "    .dataframe thead th {\n",
              "        text-align: right;\n",
              "    }\n",
              "</style>\n",
              "<table border=\"1\" class=\"dataframe\">\n",
              "  <thead>\n",
              "    <tr style=\"text-align: right;\">\n",
              "      <th></th>\n",
              "      <th>Ano</th>\n",
              "      <th>Mês</th>\n",
              "      <th>Dados decimais</th>\n",
              "      <th>Média mês</th>\n",
              "      <th>Dados ajustados</th>\n",
              "      <th>Dias</th>\n",
              "      <th>Desvio padrão-Dados</th>\n",
              "      <th>Dados incertos</th>\n",
              "    </tr>\n",
              "  </thead>\n",
              "  <tbody>\n",
              "    <tr>\n",
              "      <th>0</th>\n",
              "      <td>1958</td>\n",
              "      <td>4</td>\n",
              "      <td>1958.2877</td>\n",
              "      <td>317.45</td>\n",
              "      <td>315.16</td>\n",
              "      <td>-1</td>\n",
              "      <td>-9.99</td>\n",
              "      <td>-0.99</td>\n",
              "    </tr>\n",
              "  </tbody>\n",
              "</table>\n",
              "</div>\n",
              "      <button class=\"colab-df-convert\" onclick=\"convertToInteractive('df-7d55e25c-5c5d-409d-bd04-31c244183931')\"\n",
              "              title=\"Convert this dataframe to an interactive table.\"\n",
              "              style=\"display:none;\">\n",
              "        \n",
              "  <svg xmlns=\"http://www.w3.org/2000/svg\" height=\"24px\"viewBox=\"0 0 24 24\"\n",
              "       width=\"24px\">\n",
              "    <path d=\"M0 0h24v24H0V0z\" fill=\"none\"/>\n",
              "    <path d=\"M18.56 5.44l.94 2.06.94-2.06 2.06-.94-2.06-.94-.94-2.06-.94 2.06-2.06.94zm-11 1L8.5 8.5l.94-2.06 2.06-.94-2.06-.94L8.5 2.5l-.94 2.06-2.06.94zm10 10l.94 2.06.94-2.06 2.06-.94-2.06-.94-.94-2.06-.94 2.06-2.06.94z\"/><path d=\"M17.41 7.96l-1.37-1.37c-.4-.4-.92-.59-1.43-.59-.52 0-1.04.2-1.43.59L10.3 9.45l-7.72 7.72c-.78.78-.78 2.05 0 2.83L4 21.41c.39.39.9.59 1.41.59.51 0 1.02-.2 1.41-.59l7.78-7.78 2.81-2.81c.8-.78.8-2.07 0-2.86zM5.41 20L4 18.59l7.72-7.72 1.47 1.35L5.41 20z\"/>\n",
              "  </svg>\n",
              "      </button>\n",
              "      \n",
              "  <style>\n",
              "    .colab-df-container {\n",
              "      display:flex;\n",
              "      flex-wrap:wrap;\n",
              "      gap: 12px;\n",
              "    }\n",
              "\n",
              "    .colab-df-convert {\n",
              "      background-color: #E8F0FE;\n",
              "      border: none;\n",
              "      border-radius: 50%;\n",
              "      cursor: pointer;\n",
              "      display: none;\n",
              "      fill: #1967D2;\n",
              "      height: 32px;\n",
              "      padding: 0 0 0 0;\n",
              "      width: 32px;\n",
              "    }\n",
              "\n",
              "    .colab-df-convert:hover {\n",
              "      background-color: #E2EBFA;\n",
              "      box-shadow: 0px 1px 2px rgba(60, 64, 67, 0.3), 0px 1px 3px 1px rgba(60, 64, 67, 0.15);\n",
              "      fill: #174EA6;\n",
              "    }\n",
              "\n",
              "    [theme=dark] .colab-df-convert {\n",
              "      background-color: #3B4455;\n",
              "      fill: #D2E3FC;\n",
              "    }\n",
              "\n",
              "    [theme=dark] .colab-df-convert:hover {\n",
              "      background-color: #434B5C;\n",
              "      box-shadow: 0px 1px 3px 1px rgba(0, 0, 0, 0.15);\n",
              "      filter: drop-shadow(0px 1px 2px rgba(0, 0, 0, 0.3));\n",
              "      fill: #FFFFFF;\n",
              "    }\n",
              "  </style>\n",
              "\n",
              "      <script>\n",
              "        const buttonEl =\n",
              "          document.querySelector('#df-7d55e25c-5c5d-409d-bd04-31c244183931 button.colab-df-convert');\n",
              "        buttonEl.style.display =\n",
              "          google.colab.kernel.accessAllowed ? 'block' : 'none';\n",
              "\n",
              "        async function convertToInteractive(key) {\n",
              "          const element = document.querySelector('#df-7d55e25c-5c5d-409d-bd04-31c244183931');\n",
              "          const dataTable =\n",
              "            await google.colab.kernel.invokeFunction('convertToInteractive',\n",
              "                                                     [key], {});\n",
              "          if (!dataTable) return;\n",
              "\n",
              "          const docLinkHtml = 'Like what you see? Visit the ' +\n",
              "            '<a target=\"_blank\" href=https://colab.research.google.com/notebooks/data_table.ipynb>data table notebook</a>'\n",
              "            + ' to learn more about interactive tables.';\n",
              "          element.innerHTML = '';\n",
              "          dataTable['output_type'] = 'display_data';\n",
              "          await google.colab.output.renderOutput(dataTable, element);\n",
              "          const docLink = document.createElement('div');\n",
              "          docLink.innerHTML = docLinkHtml;\n",
              "          element.appendChild(docLink);\n",
              "        }\n",
              "      </script>\n",
              "    </div>\n",
              "  </div>\n",
              "  "
            ]
          },
          "metadata": {},
          "execution_count": 8
        }
      ]
    },
    {
      "cell_type": "markdown",
      "source": [
        "###Outras modificações teste"
      ],
      "metadata": {
        "id": "afoBo1za_UFO"
      }
    },
    {
      "cell_type": "code",
      "source": [
        "#renomear = {\n",
        "#    ' year' : 'Ano',\n",
        "#    ' month' : 'Mês',\n",
        "#    ' decimal date' : 'Dados decimais',\n",
        "#    ' monthly average' : 'Média mês',\n",
        "#    ' de-season alized' : 'Dados ajustados',\n",
        "#    ' days' : 'Dias',\n",
        "#    ' st.dev of days' : 'Desvio padrão-Dados',\n",
        "#    ' unc. of mon mean' : 'Dados incertos'\n",
        "#}\n",
        "#dadosT = dados.rename(columns = renomear)\n",
        "#dadosT = dados\n",
        "#dadosT.head(1)"
      ],
      "metadata": {
        "id": "oCrA1OC8foMF"
      },
      "execution_count": null,
      "outputs": []
    },
    {
      "cell_type": "code",
      "source": [
        "#dadosT[['Ano', 'Mês', 'Dados decimais', 'Média mês', 'Dados ajustados']]"
      ],
      "metadata": {
        "id": "0q4Jnc3OJnnO"
      },
      "execution_count": null,
      "outputs": []
    },
    {
      "cell_type": "code",
      "source": [
        "#dadosC1 = dadosT[['Ano', 'Mês', 'Dados decimais', 'Média mês']]\n",
        "#dadosC1.head(1)\n",
        "\n",
        "#dadosC = dadosT[['Ano', 'Mês', 'Dados decimais']]\n",
        "#dadosC.head(1)"
      ],
      "metadata": {
        "id": "y5hji3JGf8c5"
      },
      "execution_count": null,
      "outputs": []
    },
    {
      "cell_type": "code",
      "source": [
        "#DAjust1 = dadosT['Dados ajustados']\n",
        "#DAjust1.head(1)\n",
        "\n",
        "#DAjust = dadosT['Média mês']\n",
        "#DAjust.head(1)"
      ],
      "metadata": {
        "id": "T5jGfrQoivek"
      },
      "execution_count": null,
      "outputs": []
    },
    {
      "cell_type": "markdown",
      "source": [
        "##Começando a trabalhar com os dados!"
      ],
      "metadata": {
        "id": "POp0XeZ57yZe"
      }
    },
    {
      "cell_type": "markdown",
      "source": [
        "####Trabalhando as característica 'X' e 'Y'!!!"
      ],
      "metadata": {
        "id": "NbJfMxZwPVgN"
      }
    },
    {
      "cell_type": "code",
      "source": [
        "print('A base de dados contém {} registros \\n'.format(dadosT.shape[0]))\n",
        "print('Registros não nulos')\n",
        "dadosT.count()"
      ],
      "metadata": {
        "colab": {
          "base_uri": "https://localhost:8080/"
        },
        "id": "3MIfnyiJ7MmV",
        "outputId": "1fb3560b-9627-41f7-fb88-777b87d77a34"
      },
      "execution_count": 9,
      "outputs": [
        {
          "output_type": "stream",
          "name": "stdout",
          "text": [
            "A base de dados contém 775 registros \n",
            "\n",
            "Registros não nulos\n"
          ]
        },
        {
          "output_type": "execute_result",
          "data": {
            "text/plain": [
              "Ano                    775\n",
              "Mês                    775\n",
              "Dados decimais         775\n",
              "Média mês              775\n",
              "Dados ajustados        775\n",
              "Dias                   775\n",
              "Desvio padrão-Dados    775\n",
              "Dados incertos         775\n",
              "dtype: int64"
            ]
          },
          "metadata": {},
          "execution_count": 9
        }
      ]
    },
    {
      "cell_type": "code",
      "source": [
        "#   'x' características e 'y' etiqueta.\n",
        "x = dadosT['Dados decimais']\n",
        "y = dadosT['Média mês']\n",
        "caput = dadosT.head(0)\n",
        "\n",
        "#x.head(1)\n",
        "#y.head(1)\n",
        "#caput"
      ],
      "metadata": {
        "id": "oTmWHQMT2mVt"
      },
      "execution_count": 18,
      "outputs": []
    },
    {
      "cell_type": "code",
      "source": [
        "#   Exibir atributos relacionados.\n",
        "print('Nome da coluna de características')\n",
        "print(caput)\n",
        "#print(\"Amostra de volume de dados: %d, número de características: %d\"% x.shape)\n",
        "print(\"Volume de dados das amostras de destino: %d\"% y.shape[0])"
      ],
      "metadata": {
        "colab": {
          "base_uri": "https://localhost:8080/"
        },
        "id": "lTNBoNF3gRBD",
        "outputId": "1c16daf8-d043-45ec-d537-0690bbe3e955"
      },
      "execution_count": 23,
      "outputs": [
        {
          "output_type": "stream",
          "name": "stdout",
          "text": [
            "Nome da coluna de características\n",
            "Empty DataFrame\n",
            "Columns: [Ano, Mês, Dados decimais, Média mês, Dados ajustados, Dias, Desvio padrão-Dados, Dados incertos]\n",
            "Index: []\n",
            "Volume de dados das amostras de destino: 775\n"
          ]
        }
      ]
    },
    {
      "cell_type": "markdown",
      "source": [
        "####Trabalhando com SeaBorn"
      ],
      "metadata": {
        "id": "EyTeuZAjizz9"
      }
    },
    {
      "cell_type": "code",
      "source": [
        "#--------------------- Remanejar para área de importações ----------------------\n",
        "#   Importamos a biblioteca SeaBorn para desenhar melhor os gráficos\n",
        "import seaborn as sns\n",
        "from seaborn.relational import scatterplot\n",
        "#-------------------------------------------------------------------------------\n",
        "\n",
        "#indCO2 = sns.scatterplot(x='Dados decimais', y='Média mês', data=dadosT, palette= 'green')\n",
        "#co2Ano = sns.scatterplot(x= 'Ano', y= 'Média mês', data = dadosT)"
      ],
      "metadata": {
        "id": "bvATUdtQgLlC"
      },
      "execution_count": 22,
      "outputs": []
    },
    {
      "cell_type": "code",
      "source": [
        "#indCO2_2 = sns.relplot(x= 'Dados decimais', y= 'Média mês', data= dadosT, palette= 'green', kind= 'line')\n",
        "#co2Ano_2 = sns.relplot(x= 'Ano', y= 'Média mês', data = dadosT, palette= 'red', kind= 'line')"
      ],
      "metadata": {
        "id": "lWl6MrnQaVhd"
      },
      "execution_count": 13,
      "outputs": []
    },
    {
      "cell_type": "code",
      "source": [
        "#--------------------- Remanejar para área de importações ----------------------\n",
        "#   Importamos a Stats da biblioteca SciPy ...\n",
        "import scipy.stats as st\n",
        "#-------------------------------------------------------------------------------\n",
        "\n",
        "#sns.distplot(tuple(y), kde=False, fit=st.norm)"
      ],
      "metadata": {
        "id": "vkATCr8PnYtg"
      },
      "execution_count": 14,
      "outputs": []
    },
    {
      "cell_type": "markdown",
      "source": [
        "##Pré-processamento!!!"
      ],
      "metadata": {
        "id": "lQrdbGf6oAM9"
      }
    },
    {
      "cell_type": "code",
      "source": [
        "x_ = np.array(x)\n",
        "x_ = x_.reshape((-1, 1))\n",
        "x_[:2]"
      ],
      "metadata": {
        "colab": {
          "base_uri": "https://localhost:8080/"
        },
        "id": "8gSiKewN5ZRO",
        "outputId": "970d04de-b778-4f94-ec47-4fd55b7a34d7"
      },
      "execution_count": 35,
      "outputs": [
        {
          "output_type": "execute_result",
          "data": {
            "text/plain": [
              "array([[1958.2877],\n",
              "       [1958.3699]])"
            ]
          },
          "metadata": {},
          "execution_count": 35
        }
      ]
    },
    {
      "cell_type": "code",
      "source": [
        "#--------------------- Remanejar para área de importações ----------------------\n",
        "#   Importamos o pacote train_test_split da biblioteca model_select do SkLearn, para separar os dados de Treino e Test\n",
        "#from sklearn.model_selection import train_test_split\n",
        "#-------------------------------------------------------------------------------\n",
        "\n",
        "#   segmentamos os dados\n",
        "treino_x, teste_x, treino_y, teste_y = train_test_split(x_, y, test_size=0.2, random_state=28)\n",
        "#treino_x\n",
        "#treino_x.shape\n",
        "#treino_y\n",
        "#treino_y.shape\n",
        "#teste_x\n",
        "#teste_x.shape\n",
        "#teste_y\n",
        "#teste_y.shape\n",
        "print('Os dados de treino em X tem:', treino_x.shape,\n",
        "      '\\nOs dados de treino em Y tem:', treino_y.shape,\n",
        "      '\\nOs dados de teste em X tem:', teste_x.shape,\n",
        "      '\\nOs dados de teste em Y tem:', teste_y.shape)"
      ],
      "metadata": {
        "colab": {
          "base_uri": "https://localhost:8080/"
        },
        "id": "zV5ZRZVBoI5o",
        "outputId": "216e7339-d0a1-4ca5-8c8c-95c8018d0eda"
      },
      "execution_count": 36,
      "outputs": [
        {
          "output_type": "stream",
          "name": "stdout",
          "text": [
            "Os dados de treino em X tem: (620, 1) \n",
            "Os dados de treino em Y tem: (620,) \n",
            "Os dados de teste em X tem: (155, 1) \n",
            "Os dados de teste em Y tem: (155,)\n"
          ]
        }
      ]
    },
    {
      "cell_type": "code",
      "source": [
        "#--------------------- Remanejar para área de importações ----------------------\n",
        "#   Importamos o pacote StandardScaler da biblioteca Preprocessing do SkLearn, para normalizar os dados.\n",
        "#from sklearn.preprocessing import StandardScaler\n",
        "\n",
        "#   Instanciamos um objeto da classe Scaler\n",
        "#scaler = StandardScaler()\n",
        "#-------------------------------------------------------------------------------\n",
        "\n",
        "#   Padronizamos os dados\n",
        "treino_x = scaler.fit_transform(treino_x)\n",
        "teste_x = scaler.fit_transform(teste_x)\n",
        "\n",
        "print(treino_x[:5])\n",
        "teste_x[:5]"
      ],
      "metadata": {
        "id": "jDSQp6eap15S",
        "colab": {
          "base_uri": "https://localhost:8080/"
        },
        "outputId": "0a610ec7-874f-4adb-ecfa-33e23861a14a"
      },
      "execution_count": 41,
      "outputs": [
        {
          "output_type": "stream",
          "name": "stdout",
          "text": [
            "[[-0.40240094]\n",
            " [ 1.05596079]\n",
            " [-0.35794041]\n",
            " [-0.38906225]\n",
            " [ 0.16226852]]\n"
          ]
        },
        {
          "output_type": "execute_result",
          "data": {
            "text/plain": [
              "array([[-0.30132121],\n",
              "       [-1.60813993],\n",
              "       [ 1.54005183],\n",
              "       [ 0.81355405],\n",
              "       [ 0.19671632]])"
            ]
          },
          "metadata": {},
          "execution_count": 41
        }
      ]
    },
    {
      "cell_type": "markdown",
      "source": [
        "##Implementação com Regressão Linear - SciKit Learn (SKLearn)"
      ],
      "metadata": {
        "id": "xMPA4GVQJCcm"
      }
    },
    {
      "cell_type": "markdown",
      "source": [],
      "metadata": {
        "id": "c_qZ3mvT_RH-"
      }
    },
    {
      "cell_type": "code",
      "source": [
        "modeloLin = LinearRegression()\n",
        "modeloLin.fit(x_, y)"
      ],
      "metadata": {
        "colab": {
          "base_uri": "https://localhost:8080/"
        },
        "id": "Y0rj9aLV_X_w",
        "outputId": "0fa09f41-0b05-4824-a962-5dafa0bdf1d7"
      },
      "execution_count": 76,
      "outputs": [
        {
          "output_type": "execute_result",
          "data": {
            "text/plain": [
              "LinearRegression()"
            ]
          },
          "metadata": {},
          "execution_count": 76
        }
      ]
    },
    {
      "cell_type": "code",
      "source": [
        "#     Definindo os coeficientes\n",
        "A = modeloLin.coef_\n",
        "B = modeloLin.intercept_\n",
        "print(\"Coeficiente: \\nLinear: {}\\nAngular: {}\".format(A, B))\n",
        "\n",
        "#     Erro dos mínimos quadratícos - R²\n",
        "r2 = modeloLin.score(x_, y)*100\n",
        "print(\"Coeficiente de determinação - R²: {:.4f}%\".format(r2))"
      ],
      "metadata": {
        "colab": {
          "base_uri": "https://localhost:8080/"
        },
        "id": "D2XPugPR_4vx",
        "outputId": "aebf95d5-8f3b-4206-8241-2bd94a8ed0cb"
      },
      "execution_count": 82,
      "outputs": [
        {
          "output_type": "stream",
          "name": "stdout",
          "text": [
            "Coeficiente: \n",
            "Linear: [1.61449209]\n",
            "Angular: -2856.07243574807\n",
            "Coeficiente de determinação - R²: 97.6674%\n"
          ]
        }
      ]
    },
    {
      "cell_type": "markdown",
      "source": [
        "##Usando vários modelos de Regressão para modelar os Data Sets!!!"
      ],
      "metadata": {
        "id": "Q-e13NiDq9Wu"
      }
    },
    {
      "cell_type": "code",
      "source": [
        "#--------------------- Remanejar para área de importações ----------------------\n",
        "#Introduce algorithms.\n",
        "#from sklearn.linear_model import RidgeCV, LassoCV, LinearRegression, ElasticNet\n",
        "\n",
        "#Compared with SVC, it is the regression form of SVM.\n",
        "#from sklearn.svm import SVR\n",
        "\n",
        "#Integrate algorithms.\n",
        "#from sklearn.ensemble import RandomForestRegressor, GradientBoostingRegressor\n",
        "#from xgboost import XGBRegressor\n",
        "#-------------------------------------------------------------------------------\n",
        "\n",
        "#   Configurar o nome do modelo.\n",
        "nomes = ['LinerRegression',\n",
        "  'Ridge',\n",
        "  'Lasso',\n",
        "  'Random Forrest',\n",
        "  'GBDT',\n",
        "  'Support Vector Regression',\n",
        "  'ElasticNet',\n",
        "  'XgBoost']\n",
        "\n",
        "#   Definir o modelo.\n",
        "#   cv é o cross-validation (Validação cruzada).\n",
        "modelos = [LinearRegression(),\n",
        "  RidgeCV(alphas=(0.001,0.1,1),cv=3),\n",
        "  LassoCV(alphas=(0.001,0.1,1),cv=5),\n",
        "  RandomForestRegressor(n_estimators=10),\n",
        "  GradientBoostingRegressor(n_estimators=30),\n",
        "  SVR(),\n",
        "  ElasticNet(alpha=0.001,max_iter=10000),\n",
        "  XGBRegressor()]"
      ],
      "metadata": {
        "id": "Th2RtkLurAX_"
      },
      "execution_count": 44,
      "outputs": []
    },
    {
      "cell_type": "code",
      "source": [
        "#--------------------- Remanejar para área de importações ----------------------\n",
        "#Introduce machine learning, preprocessing, model selection, and evaluation indicators.\n",
        "#from sklearn.metrics import r2_score\n",
        "#-------------------------------------------------------------------------------\n",
        "\n",
        "#   Retorna ass pontuações em R2 de todos os modelos de regressão.\n",
        "#   Define a função de pontuação R2.\n",
        "def R2(model, treino_x, teste_x, treino_y, teste_y):\n",
        "  model_fitted = model.fit(treino_x, treino_y)\n",
        "  y_pred = model_fitted.predict(teste_x)\n",
        "  score = r2_score(teste_y, y_pred)\n",
        "  return score*100\n",
        "  \n",
        "#   Percorre todos os modelos para pontuar.\n",
        "for name, model in zip(nomes, modelos):\n",
        "  score = R2(model, treino_x, teste_x, treino_y, teste_y)\n",
        "  print(\"{}: {:.6f}%\".format(name, score.mean()))"
      ],
      "metadata": {
        "colab": {
          "base_uri": "https://localhost:8080/"
        },
        "id": "9fN_TzygsjDi",
        "outputId": "09fae3e9-d08f-490d-949a-89aa4ed37ca9"
      },
      "execution_count": 47,
      "outputs": [
        {
          "output_type": "stream",
          "name": "stdout",
          "text": [
            "LinerRegression: 97.421021%\n",
            "Ridge: 97.421733%\n",
            "Lasso: 97.421168%\n",
            "Random Forrest: 98.791737%\n",
            "GBDT: 99.200746%\n",
            "Support Vector Regression: 98.586343%\n",
            "ElasticNet: 97.423281%\n",
            "[14:54:36] WARNING: /workspace/src/objective/regression_obj.cu:152: reg:linear is now deprecated in favor of reg:squarederror.\n",
            "XgBoost: 99.116196%\n"
          ]
        }
      ]
    },
    {
      "cell_type": "markdown",
      "source": [
        "###Ajustando os Hiperparâmetros com Grid Search!"
      ],
      "metadata": {
        "id": "jmroKvc5uhJk"
      }
    },
    {
      "cell_type": "markdown",
      "source": [
        "####Construindo o modelo!!!"
      ],
      "metadata": {
        "id": "Ujd-BKZfuxtE"
      }
    },
    {
      "cell_type": "code",
      "source": [
        "#--------------------- Remanejar para área de importações ----------------------\n",
        "#Introduce machine learning, preprocessing, model selection, and evaluation indicators.\n",
        "#from sklearn.model_selection import GridSearchCV\n",
        "#-------------------------------------------------------------------------------\n",
        "#treino_x = treino_x.array.reshape((-1, 1))\n",
        "'''\n",
        "  'kernel': kernel function\n",
        "  'C': SVR regularization factor\n",
        "  'gamma': 'rbf', 'poly' and 'sigmoid' kernel function coefficient, which affects the model performance\n",
        "'''\n",
        "parameters = {\n",
        "  'kernel': ['linear', 'rbf'],\n",
        "  'C': [0.1, 0.5,0.9,1,5],\n",
        "  'gamma': [0.001,0.01,0.1,1]\n",
        "}\n",
        "\n",
        "#Use grid search and perform cross validation.\n",
        "modelo = GridSearchCV(SVR(), param_grid=parameters, cv=3)\n",
        "modelo.fit(treino_x, treino_y)"
      ],
      "metadata": {
        "colab": {
          "base_uri": "https://localhost:8080/"
        },
        "id": "yK0aoq6Tu2VL",
        "outputId": "3074a0e3-1858-4a79-a66e-08dd8ae353c0"
      },
      "execution_count": 48,
      "outputs": [
        {
          "output_type": "execute_result",
          "data": {
            "text/plain": [
              "GridSearchCV(cv=3, estimator=SVR(),\n",
              "             param_grid={'C': [0.1, 0.5, 0.9, 1, 5],\n",
              "                         'gamma': [0.001, 0.01, 0.1, 1],\n",
              "                         'kernel': ['linear', 'rbf']})"
            ]
          },
          "metadata": {},
          "execution_count": 48
        }
      ]
    },
    {
      "cell_type": "markdown",
      "source": [
        "####Obtendo os parâmetros ideais!!!"
      ],
      "metadata": {
        "id": "kSda3cjov74L"
      }
    },
    {
      "cell_type": "code",
      "source": [
        "print(\"Listar parâmetros ideais:\", modelo.best_params_)\n",
        "print(\"Modelo ideal:\", modelo.best_estimator_)\n",
        "print(\"Valor R2 ideal:\", modelo.best_score_)"
      ],
      "metadata": {
        "colab": {
          "base_uri": "https://localhost:8080/"
        },
        "id": "rYmFAoL9wC9I",
        "outputId": "6e1d0b4c-ff99-4a06-f64d-dbdfec8b4026"
      },
      "execution_count": 49,
      "outputs": [
        {
          "output_type": "stream",
          "name": "stdout",
          "text": [
            "Listar parâmetros ideais: {'C': 5, 'gamma': 1, 'kernel': 'rbf'}\n",
            "Modelo ideal: SVR(C=5, gamma=1)\n",
            "Valor R2 ideal: 0.9937094833950569\n"
          ]
        }
      ]
    },
    {
      "cell_type": "markdown",
      "source": [
        "####Visualizar dados"
      ],
      "metadata": {
        "id": "jON7OfKDwfZP"
      }
    },
    {
      "cell_type": "code",
      "source": [
        "#--------------------- Remanejar para área de importações ----------------------\n",
        "#Introduce the basic package of data science.\n",
        "#import matplotlib.pyplot as plt\n",
        "#-------------------------------------------------------------------------------\n",
        "\n",
        "##visualização dos dados.\n",
        "ln_x_test = range(len(teste_x))\n",
        "y_predict = modelo.predict(teste_x)\n",
        "\n",
        "#Configurar o canvas.\n",
        "plt.figure(figsize = (30,15), facecolor = 'c', edgecolor = 'r')\n",
        "\n",
        "#Desenhar com uma linha vermelha.\n",
        "plt.plot (ln_x_test, teste_y, 'r-', lw = 3, label = u'Valores')\n",
        "\n",
        "#Desenhar com uma linha azul.\n",
        "plt.plot (ln_x_test, y_predict, 'b', lw = 2, label = u'Estimativa de valor do algoritmo SVR, $R^2$=%.3f' %\n",
        "(modelo.best_score_))\n",
        "\n",
        "#Configurar o diagrama.\n",
        "plt.legend(loc ='upper center')\n",
        "plt.grid(True)\n",
        "plt.title(u\"Previsão do índice de CO2 (SVM)\")\n",
        "plt.xlim(-1, 156)\n",
        "plt.show()"
      ],
      "metadata": {
        "colab": {
          "base_uri": "https://localhost:8080/",
          "height": 737
        },
        "id": "PlbziQHfwj48",
        "outputId": "beb07a9c-1e22-424f-ea40-f87ccf211eff"
      },
      "execution_count": 74,
      "outputs": [
        {
          "output_type": "display_data",
          "data": {
            "text/plain": [
              "<Figure size 2160x1080 with 1 Axes>"
            ],
            "image/png": "[encoded data removed]"
          },
          "metadata": {}
        }
      ]
    },
    {
      "cell_type": "markdown",
      "source": [
        "#Testes com dados de validação do experimento!!!?"
      ],
      "metadata": {
        "id": "E8ok9x9AomAu"
      }
    },
    {
      "cell_type": "markdown",
      "source": [
        "##Detalhe da Regressão Linear!!!"
      ],
      "metadata": {
        "id": "lWbTE23Xx-3d"
      }
    },
    {
      "cell_type": "markdown",
      "source": [
        "###Preparação de dados!!!"
      ],
      "metadata": {
        "id": "FwDOiWvnyYty"
      }
    },
    {
      "cell_type": "code",
      "source": [
        "#--------------------- Remanejar para área de importações ----------------------\n",
        "#Import the required modules, numpy for calculation, and Matplotlib for drawing\n",
        "#import numpy as np\n",
        "#import matplotlib.pyplot as plt\n",
        "#-------------------------------------------------------------------------------\n",
        "\n",
        "# Definir dados,e modificar a lista para array\n",
        "xe = [1960, 1965, 1970, 1975, 1980, 1990, 1995, 2000, 2005, 2010, 2015, 2020]\n",
        "xe = np.array(xe)\n",
        "\n",
        "ye = [316.9100, 320.0358, 325.6817, 331.1158, 338.7625, 354.4533, 360.9683, 369.7075, 379.9833, 390.1017, 401.0125, 414.2383]\n",
        "ye = np.array(ye)\n",
        "\n",
        "#Mostar o efeito de um scatter plot\n",
        "plt.scatter(xe, ye, c='g')\n",
        "plt.title(u\"Figure 1 - Scatter Plot\")"
      ],
      "metadata": {
        "colab": {
          "base_uri": "https://localhost:8080/",
          "height": 298
        },
        "id": "P50UupxQyUeT",
        "outputId": "63def033-41e1-43fc-b011-a089312de332"
      },
      "execution_count": null,
      "outputs": [
        {
          "output_type": "execute_result",
          "data": {
            "text/plain": [
              "Text(0.5, 1.0, 'Figure 1 - Scatter Plot')"
            ]
          },
          "metadata": {},
          "execution_count": 5
        },
        {
          "output_type": "display_data",
          "data": {
            "text/plain": [
              "<Figure size 432x288 with 1 Axes>"
            ],
            "image/png": "[encoded data removed]"
          },
          "metadata": {
            "needs_background": "light"
          }
        }
      ]
    },
    {
      "cell_type": "markdown",
      "source": [
        "###Definir funções relacionadas!!!"
      ],
      "metadata": {
        "id": "zlcMxhbc61y9"
      }
    },
    {
      "cell_type": "markdown",
      "source": [
        "Função modelo: Definição do modelo de Regreção Linear 'wx+b'.\n",
        "\n",
        "Função perda: Função perda de erro quadrático médio.\n",
        "\n",
        "Função de otimização: Método de Gradiente descendente encontra derivadas parciais de 'w' e 'b'."
      ],
      "metadata": {
        "id": "6-5aq1lU7W-6"
      }
    },
    {
      "cell_type": "code",
      "source": [
        "#O modelo básico de Regressão linear é 'wx+ b', e como este é um espaço bidimensional, o modelo é 'ax+ b'\n",
        "def model(a, b, x):\n",
        "  return a * x + b\n",
        "\n",
        "#The most commonly used loss function of linear regression model is the loss function of mean variance difference\n",
        "def loss_function(a, b, x, y):\n",
        "  num = len(xe)\n",
        "  prediction = model(a, b, x)\n",
        "  return (0.5/num) * (np.square(prediction - ye)).sum()\n",
        "\n",
        "#The optimization function mainly USES partial derivatives to update two parameters a and b\n",
        "def optimize(a, b, x, y):\n",
        "  num = len(xe)\n",
        "  prediction = model(a, b, x)\n",
        "  \n",
        "  #Update the values of A and B by finding the partial derivatives of the loss function on a and b\n",
        "  da = (1.0/num) * ((prediction - ye) * xe).sum()\n",
        "  db = (1.0/num) * ((prediction - ye).sum())\n",
        "  a = a - Lre * da\n",
        "  b = b - Lre * db\n",
        "  return a, b\n",
        "\n",
        "#Função de iteração, retorna 'a' e 'b'.\n",
        "def iterate(a, b, x, y, times):\n",
        "  for i in range(times):\n",
        "    a, b = optimize(ae, be, xe, ye)\n",
        "  return a, b"
      ],
      "metadata": {
        "id": "3fNmPqIW8reO"
      },
      "execution_count": null,
      "outputs": []
    },
    {
      "cell_type": "markdown",
      "source": [
        "###Iniciando a iteração!!!"
      ],
      "metadata": {
        "id": "36EyBpAyAB8O"
      }
    },
    {
      "cell_type": "markdown",
      "source": [
        "Modelo de inicialização e otimização iterativa"
      ],
      "metadata": {
        "id": "fTh0tRcDAKgg"
      }
    },
    {
      "cell_type": "code",
      "source": [
        "#Inicializando os parametetros e exibindo-os\n",
        "ne = len(xe)\n",
        "#a = np.random.rand(1)\n",
        "#b = np.random.rand(1)\n",
        "ae = (ye[ne-1] - ye[0]) / (xe[ne-1] - xe[0])\n",
        "be = (ye[0] * xe[ne-1] - ye[ne-1] * xe[0]) / (xe[ne-1] - xe[0])\n",
        "print(\"Valor gerado de 'a':\", ae)\n",
        "print(\"Valor gerado de 'b':\", be)\n",
        "Lre = 1e-8\n",
        "print(\"Parâmetro/Valor em 'Lr' passado\", Lre)\n",
        "\n",
        "#Para a primeira interação, os valores de parâmetro, perdas e visualização depois da iteração são exibidos.\n",
        "ae, be = iterate(ae, be, xe, ye, 1000)\n",
        "prediction = model(ae, be, xe)\n",
        "loss = loss_function(ae, be, xe, ye)\n",
        "#print(\"\\nNovo valor de 'a':\", ae, \"\\nNovo valor de 'b':\", be, \"\\nNovo valor da Perda:\", loss)\n",
        "print()\n",
        "\n",
        "plt.scatter(xe, ye)\n",
        "plt.plot(xe, prediction)\n",
        "plt.title(u\"Figure 2 - 1.000 iterações\")"
      ],
      "metadata": {
        "colab": {
          "base_uri": "https://localhost:8080/",
          "height": 368
        },
        "id": "qIqXNmhlqNlK",
        "outputId": "ab2bfb09-5bbf-4492-f370-85a2ece45d51"
      },
      "execution_count": null,
      "outputs": [
        {
          "output_type": "stream",
          "name": "stdout",
          "text": [
            "Valor gerado de 'a': 1.6221383333333326\n",
            "Valor gerado de 'b': -2862.481133333332\n",
            "Parâmetro/Valor em 'Lr' passado 1e-08\n",
            "\n"
          ]
        },
        {
          "output_type": "execute_result",
          "data": {
            "text/plain": [
              "Text(0.5, 1.0, 'Figure 2 - 1.000 iterações')"
            ]
          },
          "metadata": {},
          "execution_count": 7
        },
        {
          "output_type": "display_data",
          "data": {
            "text/plain": [
              "<Figure size 432x288 with 1 Axes>"
            ],
            "image/png": "[encoded data removed]"
          },
          "metadata": {
            "needs_background": "light"
          }
        }
      ]
    },
    {
      "cell_type": "markdown",
      "source": [
        "###Alterando dados!!!"
      ],
      "metadata": {
        "id": "TB-PAHWUJfKr"
      }
    },
    {
      "cell_type": "markdown",
      "source": [
        "Implementando função para imprimir as iterações..."
      ],
      "metadata": {
        "id": "HOFIn7MVFvew"
      }
    },
    {
      "cell_type": "code",
      "source": [
        "ni = 2\n",
        "def imprirIterações(ae, be, xe, ye, ni):\n",
        "  ae, be = iterate(ae, be, xe, ye, ni)\n",
        "  prediction = model(ae, be, xe)\n",
        "  loss = loss_function(ae, be, xe, ye)\n",
        "  print(\"Novo valor de 'a':\", ae, \"\\nNovo valor de 'b':\", be, \"\\nNovo valor da Perda:\", loss)\n",
        "  print()\n",
        "\n",
        "  plt.scatter(xe, ye)\n",
        "  plt.plot(xe, prediction)\n",
        "  plt.title(u\"Figure 2 - {} iterações\".format(ni))\n",
        "\n",
        "  #return imprirIterações\n",
        "\n",
        "#imprirIterações(a, b, x, y, n)"
      ],
      "metadata": {
        "id": "Ja6HV88VBIte"
      },
      "execution_count": null,
      "outputs": []
    },
    {
      "cell_type": "markdown",
      "source": [
        "Implementando função para manipular e imprimir a inicialização de parâmetros"
      ],
      "metadata": {
        "id": "pfOKmnUeJmNf"
      }
    },
    {
      "cell_type": "code",
      "source": [
        "w = 1\n",
        "k = 1\n",
        "j = 1e-4\n",
        "\n",
        "def iniPar(w, k, j):\n",
        "  a = np.random.rand(w)\n",
        "  print(\"Valor gerado de 'a':\", ae)\n",
        "  b = np.random.rand(k)\n",
        "  print(\"Valor gerado de 'b':\", be)\n",
        "  Lr = j\n",
        "  print(\"Parâmetro/Valor em 'Lr' passado\", Lre)\n",
        "  print()\n",
        "\n",
        "#iniPar(w, k, j)"
      ],
      "metadata": {
        "id": "NaxwAOG6J5bV"
      },
      "execution_count": null,
      "outputs": []
    },
    {
      "cell_type": "code",
      "source": [
        "iniPar(w, k, 1e-3)\n",
        "imprirIterações(ae, be, xe, ye, 100)"
      ],
      "metadata": {
        "colab": {
          "base_uri": "https://localhost:8080/",
          "height": 420
        },
        "id": "IguZoiZbL5RB",
        "outputId": "b9b7a68f-b578-4328-ffb2-b1eb745bd23d"
      },
      "execution_count": null,
      "outputs": [
        {
          "output_type": "stream",
          "name": "stdout",
          "text": [
            "Valor gerado de 'a': 1.6219856438653117\n",
            "Valor gerado de 'b': -2862.481133410023\n",
            "Parâmetro/Valor em 'Lr' passado 1e-08\n",
            "\n",
            "Novo valor de 'a': 1.6218390041623074 \n",
            "Novo valor de 'b': -2862.4811334836754 \n",
            "Novo valor da Perda: 33.68313383313909\n",
            "\n"
          ]
        },
        {
          "output_type": "display_data",
          "data": {
            "text/plain": [
              "<Figure size 432x288 with 1 Axes>"
            ],
            "image/png": "[encoded data removed]"
          },
          "metadata": {
            "needs_background": "light"
          }
        }
      ]
    },
    {
      "cell_type": "markdown",
      "source": [
        "##Fazendo via SK LEARN!!!"
      ],
      "metadata": {
        "id": "bMH5dHCELvCn"
      }
    },
    {
      "cell_type": "code",
      "source": [
        "#import sklearn as sk\n",
        "#from sklearn.linear_model import LinearRegression"
      ],
      "metadata": {
        "id": "c7IdVGjlMAex"
      },
      "execution_count": null,
      "outputs": []
    },
    {
      "cell_type": "code",
      "source": [
        "modelSk = LinearRegression() \n",
        "x_e = xe.reshape((-1, 1))\n",
        "modelSk.fit(x_e,ye)"
      ],
      "metadata": {
        "colab": {
          "base_uri": "https://localhost:8080/"
        },
        "id": "PjJzhgmRLsh4",
        "outputId": "4f6ef6f2-3d15-4ef4-882f-1fed7ae3ac1f"
      },
      "execution_count": null,
      "outputs": [
        {
          "output_type": "execute_result",
          "data": {
            "text/plain": [
              "LinearRegression()"
            ]
          },
          "metadata": {},
          "execution_count": 11
        }
      ]
    },
    {
      "cell_type": "code",
      "source": [
        "# Os Coeficientes\n",
        "Ae = modelSk.coef_\n",
        "Be = modelSk.intercept_\n",
        "print(\"Coeficientes: \\n\", Ae, Be)\n",
        "\n",
        "# Erro quadrático médio\n",
        "r_2e = modelSk.score(x_e, ye)\n",
        "print('Coeficientes de determinação:', r_2e)"
      ],
      "metadata": {
        "colab": {
          "base_uri": "https://localhost:8080/"
        },
        "id": "_UdVMLb5L1ta",
        "outputId": "01ace41e-c63a-47b5-f7b3-46dffc98f826"
      },
      "execution_count": null,
      "outputs": [
        {
          "output_type": "stream",
          "name": "stdout",
          "text": [
            "Coeficientes: \n",
            " [1.61114311] -2848.2652143712567\n",
            "Coeficientes de determinação: 0.9826340048272604\n"
          ]
        }
      ]
    },
    {
      "cell_type": "code",
      "source": [
        "# Saídas plotadas\n",
        "plt.scatter(xe, ye)\n",
        "plt.plot(xe, modelSk.predict(x_e))\n",
        "\n",
        "plt.show()"
      ],
      "metadata": {
        "colab": {
          "base_uri": "https://localhost:8080/",
          "height": 265
        },
        "id": "OXlBSDLkL5Xg",
        "outputId": "f14905bc-9755-4413-cd2e-3624ffe57752"
      },
      "execution_count": null,
      "outputs": [
        {
          "output_type": "display_data",
          "data": {
            "text/plain": [
              "<Figure size 432x288 with 1 Axes>"
            ],
            "image/png": "[encoded data removed]"
          },
          "metadata": {
            "needs_background": "light"
          }
        }
      ]
    },
    {
      "cell_type": "markdown",
      "source": [
        "###Treino a IA"
      ],
      "metadata": {
        "id": "9DiUiuyDNcLv"
      }
    },
    {
      "cell_type": "code",
      "source": [
        "#modelo.fit(x_, y)\n",
        "#y_ = y.reshape((-1, 1))\n",
        "#previsoes = model.predict(x_)\n",
        "#accuracy_score(y_, previsoes) * 100"
      ],
      "metadata": {
        "id": "NEJ2rMy8Lvw4"
      },
      "execution_count": null,
      "outputs": []
    },
    {
      "cell_type": "markdown",
      "source": [
        "##Trabalhando com o Método dos Mínimos Quadrados Linear [MMQ]!"
      ],
      "metadata": {
        "id": "gMXdnFvry26B"
      }
    },
    {
      "cell_type": "markdown",
      "source": [
        "Retorne a solução de mínimos quadrados para uma equação de matriz linear.\n",
        "\n",
        "np.linalg.lstsq(a, b[, rcond])\n",
        "\n",
        "Resolver uma equação de matriz linear ou sistema de equações escalares lineares.\n",
        "\n",
        "np.linalg.solve(a, b)"
      ],
      "metadata": {
        "id": "rRboCL5qDVTc"
      }
    },
    {
      "cell_type": "markdown",
      "source": [
        "###Breve explicação dos modelos e equações trabalhadas."
      ],
      "metadata": {
        "id": "OyV12GjsXcNw"
      }
    },
    {
      "cell_type": "markdown",
      "source": [
        "Equação da reta que melhor se ajusta aos pontos (Função de Regressão Linear):\n",
        "\n",
        "####g(x) = ax + b"
      ],
      "metadata": {
        "id": "OgY6r6vaXm8P"
      }
    },
    {
      "cell_type": "markdown",
      "source": [
        "Fórmula geral do MMQ:\n",
        "\n"
      ],
      "metadata": {
        "id": "FxPTnwODXri3"
      }
    },
    {
      "cell_type": "markdown",
      "source": [
        "Equação do Erro, determina g(x) com o menor Erro possível; sendo a diferênça entre 'yi' ('y' em 'i') e 'g(xi)' (função 'g(x)' em 'i' - onde o ponta na reta g(x), se aproxima mais do ponto/índice escolhido)\n",
        "\n",
        "####Erro = |yi - g(xi)| -------> Onde i é o índice escolhido, que é representado pelo ponto disperso qualquer na reta.\n",
        "mod(x1, x2, /[, out, where, casting, order, ...]) --> Retorna o restante elemento da divisão.\n",
        "\n",
        "Então definimos a equação do Erro como sendo:\n",
        "\n",
        "####Erro = nΣi-1  |yi - g(xi)| -------> Onde 'n' é o número/quantidade de pontos do tabelamento.\n",
        "\n",
        "Onde o erro total é dado pela soma de todos os Erros em módulo.\n",
        "\n",
        "Função do mínimo Erro (MinErro):\n",
        "\n",
        "####MinErro = nΣi-1 (yi - g(xi))² == nΣi-1 (yi - axi - b)²"
      ],
      "metadata": {
        "id": "WJjzAIYXYEov"
      }
    },
    {
      "cell_type": "markdown",
      "source": [
        "Fórmula da equação do Somatório xy (Σxy):\n",
        "\n",
        "#####A) aΣx² + bΣx = Σxy"
      ],
      "metadata": {
        "id": "njPOBmOyX23G"
      }
    },
    {
      "cell_type": "markdown",
      "source": [
        "Fórmula da equação do Somatório y (Σy):\n",
        "\n",
        "#####B) aΣx + n.b = Σy"
      ],
      "metadata": {
        "id": "zCNYMDZZX2mO"
      }
    },
    {
      "cell_type": "markdown",
      "source": [
        "Equação para encontrar o 'b' (Isolando a variável 'a' em 'B', na equação 'B'):\n",
        "\n",
        "#####C) b = (Σy - aΣx) / n"
      ],
      "metadata": {
        "id": "N7ljWTTce9u9"
      }
    },
    {
      "cell_type": "markdown",
      "source": [
        "Equação para determinar o valor de 'a' sem a necessidade de 'b' (Substituindo a variável 'b' pela equação 'C' na equação 'A'): \n",
        "\n",
        "aΣx² + [(Σy - aΣx) / n] . Σn = Σxy\n",
        "\n",
        "Trabalhando/resolvendo essa equação, temos que (chegamos a seguinte equação):\n",
        "\n",
        "####D) a = (nΣxy - ΣxΣy) / nΣx² - (Σx)²"
      ],
      "metadata": {
        "id": "VSi5Ax-5YAK1"
      }
    },
    {
      "cell_type": "markdown",
      "source": [
        "Equação para encontrar o 'a' (Isolando o 'a' em 'B', equação 'B'):\n",
        "\n",
        "#####E) a = (Σy - nb) / Σx"
      ],
      "metadata": {
        "id": "uluzYUL4X2Q-"
      }
    },
    {
      "cell_type": "markdown",
      "source": [
        "Função para determinar o valor de 'b' sem a necessidade de 'a' (Substituindo a variável 'a' pela equação 'E' na equação 'A'): \n",
        "\n",
        "[(Σy - nb) / Σx].Σx² + bΣn = Σxy\n",
        "\n",
        "Trabalhando/resolvendo essa equação, temos que (chegamos a seguinte equação):\n",
        "####F) b = (ΣxΣxy - ΣyΣx²) / (Σx)² - nΣx²"
      ],
      "metadata": {
        "id": "Uag1FA6IS4VV"
      }
    },
    {
      "cell_type": "markdown",
      "source": [
        "###Definindo as variáveis!!!"
      ],
      "metadata": {
        "id": "Ym0sz4hioowt"
      }
    },
    {
      "cell_type": "code",
      "source": [
        "#from pandas.core.arrays.sparse import array\n",
        "\n",
        "#   Valor de 'n'\n",
        "n_ = np.size(xe)\n",
        "\n",
        "#   Somatótio de 'x'\n",
        "s_x = sum(xe)\n",
        "#s_x\n",
        "\n",
        "#   Somatório de 'y'\n",
        "s_y = sum(ye)\n",
        "#s_y\n",
        "\n",
        "#   Somatório de 'xy'\n",
        "#s_xy = np.multiply(s_x, s_y)          #NÃO é o mesmo que: s_xy = sum(x) * sum(y)\n",
        "s_xy = np.matmul(xe, ye)\n",
        "\n",
        "#   Somatório de 'x²'\n",
        "x2 = np.square(xe)\n",
        "#print(x)\n",
        "#print(x2)\n",
        "s_x2 = np.sum(x2)\n",
        "#s_x2\n",
        "\n",
        "print('Valor de n:', n_, '\\nSomatório de x:  ', s_x, '\\nSomatório de y:  ', s_y, '\\nSomatorio de xy: ', s_xy, '\\nSomatório de x²: ', s_x2)"
      ],
      "metadata": {
        "id": "w6oDXc_uoxPO",
        "colab": {
          "base_uri": "https://localhost:8080/"
        },
        "outputId": "97249bf9-9e79-416a-a7a5-02884a30dd25"
      },
      "execution_count": null,
      "outputs": [
        {
          "output_type": "stream",
          "name": "stdout",
          "text": [
            "Valor de n: 12 \n",
            "Somatório de x:   23885 \n",
            "Somatório de y:   4302.9707 \n",
            "Somatorio de xy:  8571991.6635 \n",
            "Somatório de x²:  47545625\n"
          ]
        }
      ]
    },
    {
      "cell_type": "markdown",
      "source": [
        "###Aplicando a equação D!!!\n",
        "\n",
        "D) a = (nΣxy - ΣxΣy) / nΣx² - (Σx)²"
      ],
      "metadata": {
        "id": "uCLBnvLb6yCn"
      }
    },
    {
      "cell_type": "code",
      "source": [
        "#D) a = (nΣxy - ΣxΣy) / nΣx² - (Σx)²\n",
        "a_ = ((n_ * s_xy) - (s_x * s_y)) / ((n_ * s_x2) - np.square(s_x))\n",
        "\n",
        "print(\"\\nValor de 'a' = \", a_)"
      ],
      "metadata": {
        "colab": {
          "base_uri": "https://localhost:8080/"
        },
        "id": "wxa52uq360xx",
        "outputId": "0a064b76-f943-48ef-b1a0-adb36184988a"
      },
      "execution_count": null,
      "outputs": [
        {
          "output_type": "stream",
          "name": "stdout",
          "text": [
            "\n",
            "Valor de 'a' =  1.611143113772532\n"
          ]
        }
      ]
    },
    {
      "cell_type": "markdown",
      "source": [
        "###Aplicando a equação F!!!\n",
        "\n",
        "F) b = (ΣxΣxy - ΣyΣx²) / (Σx)² - nΣx²"
      ],
      "metadata": {
        "id": "RdPbFbSC642W"
      }
    },
    {
      "cell_type": "code",
      "source": [
        "#F) b = (ΣxΣxy - ΣyΣx²) / (Σx)² - nΣx²\n",
        "b_ = ((s_x * s_xy) - (s_y * s_x2)) / (np.square(s_x) - (n_ * s_x2))\n",
        "print(\"Valor de 'b' = \", b_)"
      ],
      "metadata": {
        "colab": {
          "base_uri": "https://localhost:8080/"
        },
        "id": "TYJ5bJ94642X",
        "outputId": "9151cca4-23a1-4ee2-da9a-4793abb1d60a"
      },
      "execution_count": null,
      "outputs": [
        {
          "output_type": "stream",
          "name": "stdout",
          "text": [
            "Valor de 'b' =  -2848.265214371437\n"
          ]
        }
      ]
    },
    {
      "cell_type": "markdown",
      "source": [
        "###Aplicando a função Regressão Linear\n",
        "g(x) = ax + b"
      ],
      "metadata": {
        "id": "uQjrK07Rz1pC"
      }
    },
    {
      "cell_type": "code",
      "source": [
        "#f(x) = ax + b\n",
        "ix = 0\n",
        "def fRL(a, x, ix, b):\n",
        "  f = a * x[ix] + b\n",
        "  return f\n",
        "\n",
        "#fRL(a_, x, 0, b_)\n",
        "\n",
        "#f(x) = ax + b\n",
        "def fx(a, x, b):\n",
        "  f = np.multiply(a, x)\n",
        "  f = f  + b\n",
        "  return f\n",
        "\n",
        "#fx(a_t, x_teste, b_t)"
      ],
      "metadata": {
        "id": "PU14OI0F0B7b"
      },
      "execution_count": null,
      "outputs": []
    },
    {
      "cell_type": "code",
      "source": [
        "#f(x) = ax + b\n",
        "fx_ = np.multiply(a_, xe)\n",
        "fx_ = fx_ + b_\n",
        "print(\"Array de f(x):\\n\", fx_)\n",
        "\n",
        "print()\n",
        "fx(a_, xe, b_)"
      ],
      "metadata": {
        "colab": {
          "base_uri": "https://localhost:8080/"
        },
        "id": "3yoPxboH4f51",
        "outputId": "4be19d8b-6858-44ad-c4ff-78f6d74bb6a6"
      },
      "execution_count": null,
      "outputs": [
        {
          "output_type": "stream",
          "name": "stdout",
          "text": [
            "Array de f(x):\n",
            " [309.57528862 317.63100419 325.68671976 333.74243533 341.7981509\n",
            " 357.90958204 365.9652976  374.02101317 382.07672874 390.13244431\n",
            " 398.18815988 406.24387545]\n",
            "\n"
          ]
        },
        {
          "output_type": "execute_result",
          "data": {
            "text/plain": [
              "array([309.57528862, 317.63100419, 325.68671976, 333.74243533,\n",
              "       341.7981509 , 357.90958204, 365.9652976 , 374.02101317,\n",
              "       382.07672874, 390.13244431, 398.18815988, 406.24387545])"
            ]
          },
          "metadata": {},
          "execution_count": 226
        }
      ]
    },
    {
      "cell_type": "code",
      "source": [
        "#f(x) = ax + b\n",
        "fRL(a_, xe, 0, b_)"
      ],
      "metadata": {
        "colab": {
          "base_uri": "https://localhost:8080/"
        },
        "id": "t1NMwjyM1P7T",
        "outputId": "a8775abf-6aab-4a34-e77c-1e7bddc391f6"
      },
      "execution_count": null,
      "outputs": [
        {
          "output_type": "execute_result",
          "data": {
            "text/plain": [
              "309.57528862272557"
            ]
          },
          "metadata": {},
          "execution_count": 222
        }
      ]
    },
    {
      "cell_type": "code",
      "source": [
        "#np.linalg.lstsq(a_, b_)\n",
        "#np.linalg.solve(a_, b_)"
      ],
      "metadata": {
        "id": "S7deymLl8jDN"
      },
      "execution_count": null,
      "outputs": []
    },
    {
      "cell_type": "markdown",
      "source": [
        "###Trabalhando as funções de Erro"
      ],
      "metadata": {
        "id": "BK-zZaYV2eCc"
      }
    },
    {
      "cell_type": "markdown",
      "source": [
        "####Função de Erro quadrático\n",
        "Erro = nΣi-1 |yi - g(xi)|"
      ],
      "metadata": {
        "id": "-gOP3BhV-lC4"
      }
    },
    {
      "cell_type": "code",
      "source": [
        "q = 0\n",
        "Er = np.power(ye[q] - fRL(a_, xe, q, b_),2)\n",
        "#Er1 = (y[q] - fRL(a_, x, q, b_))**2\n",
        "\n",
        "Er\n",
        "#print('\\t', Er, '\\n\\t', Er1)"
      ],
      "metadata": {
        "colab": {
          "base_uri": "https://localhost:8080/"
        },
        "id": "sFbSWeoS-rh_",
        "outputId": "09ad41bd-908a-4f8a-c52d-2678be84fe3d"
      },
      "execution_count": null,
      "outputs": [
        {
          "output_type": "execute_result",
          "data": {
            "text/plain": [
              "53.79799098791939"
            ]
          },
          "metadata": {},
          "execution_count": 230
        }
      ]
    },
    {
      "cell_type": "markdown",
      "source": [
        "####MinErro = nΣi-1 (yi - g(xi))² == nΣi-1 (yi - axi - b)²"
      ],
      "metadata": {
        "id": "KJpMo2EK-dy_"
      }
    },
    {
      "cell_type": "code",
      "source": [
        "#MinErro = nΣi-1 (yi - g(xi))² == nΣi-1 (yi - axi - b)²\n",
        "v = 0\n",
        "mE = np.sum(np.square(ye[v] - (a_ * xe[v]) - b_))\n",
        "\n",
        "mE"
      ],
      "metadata": {
        "colab": {
          "base_uri": "https://localhost:8080/"
        },
        "id": "iVD67Pxj2ya0",
        "outputId": "b29db2f1-8c5a-4155-a0e8-35c43b1db9f7"
      },
      "execution_count": null,
      "outputs": [
        {
          "output_type": "execute_result",
          "data": {
            "text/plain": [
              "53.79799098791689"
            ]
          },
          "metadata": {},
          "execution_count": 231
        }
      ]
    },
    {
      "cell_type": "markdown",
      "source": [
        "###Outras equações para achar 'a' e 'b'"
      ],
      "metadata": {
        "id": "ntBuJg5BnGBa"
      }
    },
    {
      "cell_type": "markdown",
      "source": [
        "####Aplicando a equação E!\n",
        "\n",
        "E) a = (Σy - nb) / Σx"
      ],
      "metadata": {
        "id": "74CZ0v7q60xv"
      }
    },
    {
      "cell_type": "code",
      "source": [
        "a_Pv = (s_y - (n_ * b_)) / s_x\n",
        "a_Pv1 = (s_y - (n_ * b_Pv)) / s_x\n",
        "print(\"Valor de 'a', 'prova 1': \", a_Pv, \"\\nValor de 'a', 'prova 2': \", a_Pv1)"
      ],
      "metadata": {
        "colab": {
          "base_uri": "https://localhost:8080/"
        },
        "id": "9vW7zoS06yCo",
        "outputId": "2bcc1740-6125-4a10-aa48-9a4ed9beb71e"
      },
      "execution_count": null,
      "outputs": [
        {
          "output_type": "stream",
          "name": "stdout",
          "text": [
            "Valor de 'a', 'prova 1':  286647.44817747525 \n",
            "Valor de 'a', 'prova 2':  -570493224.9998467\n"
          ]
        }
      ]
    },
    {
      "cell_type": "markdown",
      "source": [
        "####Aplicando a equação C!\n",
        "\n",
        "C) b = (Σy - aΣx) / n"
      ],
      "metadata": {
        "id": "RPc-iK976oIH"
      }
    },
    {
      "cell_type": "code",
      "source": [
        "b_Pv = (s_y - (a_ * s_x)) / n_\n",
        "b_Pv1 = (s_y - (a_Pv * s_x)) / n_\n",
        "print(\"Valor de 'b', 'prova 1': \", b_Pv, \"\\nValor de 'b', 'prova 2': \", b_Pv1)"
      ],
      "metadata": {
        "colab": {
          "base_uri": "https://localhost:8080/"
        },
        "id": "WrLdkPEq6u8k",
        "outputId": "f8690b3d-1032-4bcf-e947-437e5fc53a9c"
      },
      "execution_count": null,
      "outputs": [
        {
          "output_type": "stream",
          "name": "stdout",
          "text": [
            "Valor de 'b', 'prova 1':  1135519223618.6924 \n",
            "Valor de 'b', 'prova 2':  -570547499.7290246\n"
          ]
        }
      ]
    },
    {
      "cell_type": "markdown",
      "source": [
        "####Aplicando a equação A!\n",
        "\n",
        "A) aΣx² + bΣx = Σxy"
      ],
      "metadata": {
        "id": "NOqijrnv6PAP"
      }
    },
    {
      "cell_type": "code",
      "source": [
        "#------------ Deu errado?!? ------------\n",
        "s_xyPv = (a_ * s_x2) + (b_ * s_x)\n",
        "s_xyPv1 = (a_Pv * s_x2) + (b_Pv * s_x)\n",
        "print(\"Somatório 'xy', 'prova 1': \", s_xyPv, \"\\nSomatório 'xy', 'prova 2': \", s_xyPv1)"
      ],
      "metadata": {
        "colab": {
          "base_uri": "https://localhost:8080/"
        },
        "id": "PovAgmwM6WpX",
        "outputId": "b99a71f6-2616-453a-c9b9-bb9a2f61f741"
      },
      "execution_count": null,
      "outputs": [
        {
          "output_type": "stream",
          "name": "stdout",
          "text": [
            "Somatório 'xy', 'prova 1':  -2.7138084467914364e+16 \n",
            "Somatório 'xy', 'prova 2':  2.713550548821072e+16\n"
          ]
        }
      ]
    },
    {
      "cell_type": "markdown",
      "source": [
        "####Aplicando a equação B!\n",
        "\n",
        "B) aΣx + n.b = Σy"
      ],
      "metadata": {
        "id": "udJmco-t6ZKn"
      }
    },
    {
      "cell_type": "code",
      "source": [
        "s_yPv = (a_ * s_x) + (n_ * b_)\n",
        "s_yPv1 = (a_Pv * s_x) + (n_ * b_Pv)\n",
        "print(\"Somatório 'y', 'prova 1': \", s_yPv, \"\\nSomatório 'y', 'prova 2': \", s_yPv1)"
      ],
      "metadata": {
        "colab": {
          "base_uri": "https://localhost:8080/"
        },
        "id": "FstyHI2S6nrO",
        "outputId": "2a1c20dd-7686-40dd-9534-072645de9092"
      },
      "execution_count": null,
      "outputs": [
        {
          "output_type": "stream",
          "name": "stdout",
          "text": [
            "Somatório 'y', 'prova 1':  -13633077249118.086 \n",
            "Somatório 'y', 'prova 2':  13633077257724.027\n"
          ]
        }
      ]
    },
    {
      "cell_type": "markdown",
      "source": [
        "##Trabalhando com outros métodos NÃO lineares!!!"
      ],
      "metadata": {
        "id": "QOcziXBH3FyG"
      }
    },
    {
      "cell_type": "markdown",
      "source": [
        "###Aplicando as equações 'D' e 'F' em Regressão Logarítmica!!!\n",
        "f(x) = a.ln(x) + b"
      ],
      "metadata": {
        "id": "YBCrRAuQ3Uae"
      }
    },
    {
      "cell_type": "markdown",
      "source": [
        "####Definindo o Logarítimo em 'x'"
      ],
      "metadata": {
        "id": "_16hAsqNVkC8"
      }
    },
    {
      "cell_type": "code",
      "source": [
        "x_l = np.log(xe)\n",
        "\n",
        "#print(\"Logarítimo de 'x': {} \\nLogarítmo de 'x_': {}\".format(x_l, x_l1) )\n",
        "x_l"
      ],
      "metadata": {
        "colab": {
          "base_uri": "https://localhost:8080/"
        },
        "id": "i3LCB3stugUq",
        "outputId": "395b05b4-0b7e-4b9a-f53e-bbb7c4792a79"
      },
      "execution_count": null,
      "outputs": [
        {
          "output_type": "execute_result",
          "data": {
            "text/plain": [
              "array([7.58069975, 7.58324752, 7.58578882, 7.58832368, 7.59085212,\n",
              "       7.59588992, 7.59839933, 7.60090246, 7.60339934, 7.60589   ,\n",
              "       7.60837447, 7.61085279])"
            ]
          },
          "metadata": {},
          "execution_count": 233
        }
      ]
    },
    {
      "cell_type": "code",
      "source": [
        "#   Novo Somatório de 'X' em Logarítmo.\n",
        "s_xl = sum(x_l)\n",
        "\n",
        "#   Redefinindo 'XY' com 'X' em Logarítmo.\n",
        "s_xly = np.matmul(x_l, ye)\n",
        "\n",
        "#   Novo Somatório de 'X²' em Logarítmo.\n",
        "x2_l = np.square(x_l)\n",
        "print(\"Novo array de ln(x) [Logarítimo Natural]:\\n\", x_l)\n",
        "print(\"\\nNovo array de ln(x)² [Logarítimo Natural]:\\n\",x2_l)\n",
        "s_x2l = np.sum(x2_l)\n",
        "\n",
        "print(\"\\nValor de 'n': {}\\nSomatório de 'x': {}\\nSomatório de 'y': {}\\nSomatorio de 'xy': {}\\nSomatório de 'x²': {}\".format(n_, s_xl, s_y, s_xly, s_x2l))"
      ],
      "metadata": {
        "id": "9W9-IsN3OULC",
        "colab": {
          "base_uri": "https://localhost:8080/"
        },
        "outputId": "568f604b-bfb9-4bc8-f27b-c1c9cfbab68b"
      },
      "execution_count": null,
      "outputs": [
        {
          "output_type": "stream",
          "name": "stdout",
          "text": [
            "Novo array de ln(x) [Logarítimo Natural]:\n",
            " [7.58069975 7.58324752 7.58578882 7.58832368 7.59085212 7.59588992\n",
            " 7.59839933 7.60090246 7.60339934 7.60589    7.60837447 7.61085279]\n",
            "\n",
            "Novo array de ln(x)² [Logarítimo Natural]:\n",
            " [57.46700873 57.50564301 57.54419205 57.58265623 57.62103596 57.69754364\n",
            " 57.73567237 57.7737182  57.81168152 57.84956271 57.88736214 57.9250802 ]\n",
            "\n",
            "Valor de 'n': 12\n",
            "Somatório de 'x': 91.15262021143819\n",
            "Somatório de 'y': 4302.9707\n",
            "Somatorio de 'xy': 32689.24831801741\n",
            "Somatório de 'x²': 692.4011567684659\n"
          ]
        }
      ]
    },
    {
      "cell_type": "markdown",
      "source": [
        "####Aplicando as equações D e F com Logarítimo de 'x'!!!\n",
        "\n",
        "D) a = (nΣxy - ΣxΣy) / nΣx² - (Σx)²\n",
        "\n",
        "F) b = (ΣxΣxy - ΣyΣx²) / (Σx)² - nΣx²"
      ],
      "metadata": {
        "id": "HLfzSWqfSl3m"
      }
    },
    {
      "cell_type": "code",
      "source": [
        "#   Com Logarítmo de 'x'\n",
        "#D) a = (nΣxy - ΣxΣy) / nΣx² - (Σx)²\n",
        "a_l = ((n_ * s_xly) - (s_xl * s_y)) / ((n_ * s_x2l) - np.square(s_xl))\n",
        "print(\"\\nValor de 'a' = \", a_l)\n",
        "\n",
        "#F) b = (ΣxΣxy - ΣyΣx²) / (Σx)² - nΣx²\n",
        "b_l = ((s_xl * s_xly) - (s_y * s_x2l)) / (np.square(s_xl) - (n_ * s_x2l))\n",
        "print(\"Valor de 'b' = \", b_l)\n",
        "\n",
        "# a_l1 = ((n_ * s_xly) - (s_xl * s_y)) / ((n_ * s_x2l) - np.square(s_xl))\n",
        "# a_l1"
      ],
      "metadata": {
        "colab": {
          "base_uri": "https://localhost:8080/"
        },
        "outputId": "924d8ac3-c883-4651-ce04-9b9598446927",
        "id": "nSRG1ud5Sl3p"
      },
      "execution_count": null,
      "outputs": [
        {
          "output_type": "stream",
          "name": "stdout",
          "text": [
            "\n",
            "Valor de 'a' =  3203.969659433718\n",
            "Valor de 'b' =  -23978.938236251837\n"
          ]
        },
        {
          "output_type": "execute_result",
          "data": {
            "text/plain": [
              "3203.969659433718"
            ]
          },
          "metadata": {},
          "execution_count": 238
        }
      ]
    },
    {
      "cell_type": "markdown",
      "source": [
        "####Aplicando a função!!!\n",
        "f(x) = a.ln(x) + b"
      ],
      "metadata": {
        "id": "_KlJLi2AUYd4"
      }
    },
    {
      "cell_type": "code",
      "source": [
        "#     Função Logarítima para retornar um valor no array de ln(x[i]) - índice específico.\n",
        "def ln(a, x, i, b):\n",
        "  f = a * np.log(xe[i]) + b\n",
        "  print(\"Valor de x[{}] é = {}\".format(i, f))\n",
        "  #return f\n",
        "\n",
        "#ln(a_, x, 0, b_)\n",
        "\n",
        "#     Função Logarítima para retornar um novo array de ln(x).\n",
        "def f_ln(a, x, b):\n",
        "  fl = np.multiply(a, np.log(x))\n",
        "  fl = fl + b\n",
        "  print(\"Novo array de ln(x) é:\\n {}\".format(fl))\n",
        "  return fl\n",
        "\n",
        "#f_ln(a_l, xe, b_l)"
      ],
      "metadata": {
        "id": "t4wmxvJz3tyV"
      },
      "execution_count": null,
      "outputs": []
    },
    {
      "cell_type": "code",
      "source": [
        "#f(x) = a.ln(x) + b\n",
        "fxl_ = a_l * np.log(xe[5]) + b_l\n",
        "print(fxl_)\n",
        "\n",
        "ln(a_l, xe, 5, b_l)\n",
        "f_ln(a_l, xe, b_l)"
      ],
      "metadata": {
        "colab": {
          "base_uri": "https://localhost:8080/"
        },
        "id": "pv0WOa-smbQa",
        "outputId": "ba33235b-eb95-42b2-9c42-9011585ba009"
      },
      "execution_count": null,
      "outputs": [
        {
          "output_type": "stream",
          "name": "stdout",
          "text": [
            "358.06259651684013\n",
            "Valor de x[5] é = 358.06259651684013\n",
            "Novo array de ln(x) é:\n",
            " [309.39376715 317.55675159 325.69899145 333.82059189 341.92165729\n",
            " 358.06259652 366.10267516 374.12262844 382.12255684 390.10256011\n",
            " 398.06273727 406.00318659]\n"
          ]
        }
      ]
    },
    {
      "cell_type": "markdown",
      "source": [
        "###Aplicando as equações 'D' e 'F' em Regressão Exponencial!!!?\n",
        "g(x) = b.e^(ax)"
      ],
      "metadata": {
        "id": "D9f3fJXlC0a_"
      }
    },
    {
      "cell_type": "markdown",
      "source": [
        "####Redefinindo os dados em Logarítimo em 'y'!!!"
      ],
      "metadata": {
        "id": "KTQmkphuC0bA"
      }
    },
    {
      "cell_type": "code",
      "source": [
        "y_l = np.log(ye)\n",
        "\n",
        "#print(\"Novo array com ln(y):\\n {}\".format(y_l) )\n",
        "ye"
      ],
      "metadata": {
        "colab": {
          "base_uri": "https://localhost:8080/"
        },
        "outputId": "74c37188-8de2-463b-d757-0f7d38533054",
        "id": "H-Ny6RuxC0bC"
      },
      "execution_count": null,
      "outputs": [
        {
          "output_type": "execute_result",
          "data": {
            "text/plain": [
              "array([316.91  , 320.0358, 325.6817, 331.1158, 338.7625, 354.4533,\n",
              "       360.9683, 369.7075, 379.9833, 390.1017, 401.0125, 414.2383])"
            ]
          },
          "metadata": {},
          "execution_count": 263
        }
      ]
    },
    {
      "cell_type": "code",
      "source": [
        "#   Novo Somatório de 'Y' em Logarítmo.\n",
        "s_yl = np.sum(y_l)\n",
        "\n",
        "#   Redefinindo 'XY' com Y' em Logarítmo.\n",
        "xyl = np.multiply(xe, y_l)\n",
        "\n",
        "#   Novo Somatório de 'XY' com Y' em Logarítmo.\n",
        "s_xyl = np.matmul(xe, y_l)\n",
        "\n",
        "print(\"\\nNovo array de ln(y) [Logarítimo Natural]:\\n\", y_l)\n",
        "print(\"\\nNovo array 'xy', com ln(y) [Logarítimo Natural]:\\n\", xyl)\n",
        "print(\"\\nValor de n: {}\\nSomatório de x: {}\\nSomatório de y: {}\\nSomatorio de xy: {}\\nSomatório de x²: {}\".format(n_, s_x, s_yl, s_xyl, s_x2))"
      ],
      "metadata": {
        "colab": {
          "base_uri": "https://localhost:8080/"
        },
        "outputId": "813952df-0fc4-4cbb-a1a2-2ecdade5c16e",
        "id": "mHvQ-IR-C0bE"
      },
      "execution_count": null,
      "outputs": [
        {
          "output_type": "stream",
          "name": "stdout",
          "text": [
            "\n",
            "Novo array de ln(y) [Logarítimo Natural]:\n",
            " [5.75861782 5.76843286 5.78592052 5.80246816 5.82529927 5.8705766\n",
            " 5.88879014 5.91271215 5.9401273  5.96640747 5.9939926  6.02644141]\n",
            "\n",
            "Novo array 'xy', com ln(y) [Logarítimo Natural]:\n",
            " [11286.89093091 11334.97057881 11398.26343234 11459.8746222\n",
            " 11534.09255833 11682.44743889 11748.13633497 11825.42430491\n",
            " 11909.95524529 11992.47902346 12077.89508676 12173.41165243]\n",
            "\n",
            "Valor de n: 12\n",
            "Somatório de x: 23885\n",
            "Somatório de y: 70.53978633296458\n",
            "Somatorio de xy: 140423.84120930964\n",
            "Somatório de x²: 47545625\n"
          ]
        }
      ]
    },
    {
      "cell_type": "markdown",
      "source": [
        "####Aplicando as equações D e F com Logarítimo de 'y'!!!\n",
        "\n",
        "D) a = (nΣxy - ΣxΣy) / nΣx² - (Σx)²\n",
        "\n",
        "F) b = (ΣxΣxy - ΣyΣx²) / (Σx)² - nΣx²"
      ],
      "metadata": {
        "id": "FKrLyvkBC0bF"
      }
    },
    {
      "cell_type": "code",
      "source": [
        "#   Em Exponencial, com Logarítmo de 'y'\n",
        "#D) a = (nΣxy - ΣxΣy) / nΣx² - (Σx)²\n",
        "a_e = ((n_ * s_xyl) - (s_x * s_yl)) / ((n_ * s_x2) - np.square(s_x))\n",
        "a_e\n",
        "print(\"\\nValor de 'a' = \", a_l)\n",
        "\n",
        "#F) b = (ΣxΣxy - ΣyΣx²) / (Σx)² - nΣx²\n",
        "b_e = ((s_x * s_xyl) - (s_yl * s_x2)) / (np.square(s_x) - (n_ * s_x2))\n",
        "B_e = np.exp(b_e)\n",
        "\n",
        "print(\"Valor de 'b' = \", b_e)\n",
        "print(\"Valor de 'B' = \", B_e)\n",
        "\n",
        "# b_e1 = ((s_x * s_xyl) - (s_yl * s_x2)) / (np.square(s_x) - (n_ * s_x2))\n",
        "# b_e2 = np.exp(b_e1)\n",
        "# print(\"Valor de 'b1' = \", b_e1)"
      ],
      "metadata": {
        "colab": {
          "base_uri": "https://localhost:8080/"
        },
        "outputId": "413efe45-e382-4f1d-cdab-331812af2ee9",
        "id": "V_7xCdlJC0bG"
      },
      "execution_count": null,
      "outputs": [
        {
          "output_type": "stream",
          "name": "stdout",
          "text": [
            "\n",
            "Valor de 'a' =  3203.969659433718\n",
            "Valor de 'b' =  -3.0441034933500495\n",
            "Valor de 'B' =  0.04763900153061066\n"
          ]
        }
      ]
    },
    {
      "cell_type": "markdown",
      "source": [
        "####Aplicandoa função da Regressão Exponencial!!!?\n",
        "g(x) = b.e^(ax)"
      ],
      "metadata": {
        "id": "01bqhQp0C0bI"
      }
    },
    {
      "cell_type": "code",
      "source": [
        "#     Função Exponencial para retornar um valor no array de e^x[i] - índice específico.\n",
        "def expo(b, a, x, i):\n",
        "  y = b * np.exp(a * x[i])\n",
        "  print(\"f(x) = y = {} * e^({}*{})\".format(b, a, x[i]))\n",
        "  print(\"Valor de x[{}] é = {}\".format(i, y))\n",
        "  #return y\n",
        "\n",
        "#     Função Exponencial para retornar um novo array de e^x.\n",
        "def Expo(b, a, x):\n",
        "  y = np.multiply(b, np.exp(np.multiply(x, a)))\n",
        "  print(\"Novo array de y = {} * e^({}*{}) é:\\n {}\".format(b, a, x, y))\n",
        "  #return y\n",
        "\n",
        "# expo(b_e, a_e, xe, 0)\n",
        "# print()\n",
        "# Expo(b_e, a_e, xe)"
      ],
      "metadata": {
        "id": "Jn4GX0v2C0bI"
      },
      "execution_count": null,
      "outputs": []
    },
    {
      "cell_type": "code",
      "source": [
        "# g = a*b^x\n",
        "Expo(b_e, a_e, xe)\n",
        "print()\n",
        "expo(b_e, a_e, xe, 3)"
      ],
      "metadata": {
        "colab": {
          "base_uri": "https://localhost:8080/"
        },
        "outputId": "2b34fc74-a6b9-4e82-9144-ff298a9e61fd",
        "id": "DMoKTRSaC0bK"
      },
      "execution_count": null,
      "outputs": [
        {
          "output_type": "stream",
          "name": "stdout",
          "text": [
            "Novo array de y = 0.04763900153061066 * e^(0.004482689062305025*[1960 1965 1970 1975 1980 1990 1995 2000 2005 2010 2015 2020]) é:\n",
            " [311.67689827 318.74152697 325.96628618 333.35480549 340.91079677\n",
            " 356.54046533 364.62199469 372.88670414 381.33874575 389.98236567\n",
            " 398.82190633 407.86180855]\n",
            "\n",
            "f(x) = y = 0.04763900153061066 * e^(0.004482689062305025*1975)\n",
            "Valor de x[3] é = 333.3548054876661\n"
          ]
        }
      ]
    },
    {
      "cell_type": "markdown",
      "source": [
        "###Aplicando as equações 'D' e 'F' em Regressão Potência!!!\n",
        "g(x) = b.a^x"
      ],
      "metadata": {
        "id": "noEOBiDJC0bK"
      }
    },
    {
      "cell_type": "markdown",
      "source": [
        "####Redefinindo os dados em Logarítimo em 'x' e 'y'!!!"
      ],
      "metadata": {
        "id": "UWcxJDJuC0bK"
      }
    },
    {
      "cell_type": "code",
      "source": [
        "print(\"'x' = {}\".format(xe))\n",
        "print(\"Logarítimo de 'x':\\n {}\".format(x_l) )\n",
        "print()\n",
        "print(\"'y' = {}\".format(ye))\n",
        "print(\"Logarítimo de 'y':\\n {}\".format(y_l) )"
      ],
      "metadata": {
        "colab": {
          "base_uri": "https://localhost:8080/"
        },
        "outputId": "9d8fa8a8-7206-445b-ad40-6b9570e6b49b",
        "id": "LA83xel2C0bL"
      },
      "execution_count": null,
      "outputs": [
        {
          "output_type": "stream",
          "name": "stdout",
          "text": [
            "'x' = [1960 1965 1970 1975 1980 1990 1995 2000 2005 2010 2015 2020]\n",
            "Logarítimo de 'x':\n",
            " [7.58069975 7.58324752 7.58578882 7.58832368 7.59085212 7.59588992\n",
            " 7.59839933 7.60090246 7.60339934 7.60589    7.60837447 7.61085279]\n",
            "\n",
            "'y' = [316.91   320.0358 325.6817 331.1158 338.7625 354.4533 360.9683 369.7075\n",
            " 379.9833 390.1017 401.0125 414.2383]\n",
            "Logarítimo de 'y':\n",
            " [5.75861782 5.76843286 5.78592052 5.80246816 5.82529927 5.8705766\n",
            " 5.88879014 5.91271215 5.9401273  5.96640747 5.9939926  6.02644141]\n"
          ]
        }
      ]
    },
    {
      "cell_type": "code",
      "source": [
        "#   Redefinindo 'XY' com 'X' e 'Y' em Logarítmo.\n",
        "xlyl = np.multiply(x_l, y_l)\n",
        "\n",
        "#   Novo Somatório de 'XY' com 'X' e 'Y' em Logarítmo.\n",
        "s_xlyl = np.matmul(x_l, y_l)\n",
        "\n",
        "print(\"\\nNovo array de ln(x) [Logarítimo Natural]:\\n\", x_l)\n",
        "print(\"\\nNovo array de ln(y) [Logarítimo Natural]:\\n\", y_l)\n",
        "print(\"\\nNovo array 'xy', com ln(x) e ln(y) [Logarítimo Natural]:\\n\", xlyl)\n",
        "print(\"\\nValor de n: {}\\nSomatório de x: {}\\nSomatório de y: {}\\nSomatorio de xy: {}\\nSomatório de x²: {}\".format(n_, s_xl, s_yl, s_xlyl, s_x2l))"
      ],
      "metadata": {
        "colab": {
          "base_uri": "https://localhost:8080/"
        },
        "outputId": "d82a8ebf-9ead-4fcc-b736-a75b27160080",
        "id": "5rmtPggOC0bL"
      },
      "execution_count": null,
      "outputs": [
        {
          "output_type": "stream",
          "name": "stdout",
          "text": [
            "\n",
            "Novo array de ln(x) [Logarítimo Natural]:\n",
            " [7.58069975 7.58324752 7.58578882 7.58832368 7.59085212 7.59588992\n",
            " 7.59839933 7.60090246 7.60339934 7.60589    7.60837447 7.61085279]\n",
            "\n",
            "Novo array de ln(y) [Logarítimo Natural]:\n",
            " [5.75861782 5.76843286 5.78592052 5.80246816 5.82529927 5.8705766\n",
            " 5.88879014 5.91271215 5.9401273  5.96640747 5.9939926  6.02644141]\n",
            "\n",
            "Novo array 'xy', com ln(x) e ln(y) [Logarítimo Natural]:\n",
            " [43.6543527  43.74345424 43.89077123 44.03100655 44.21898535 44.59225363\n",
            " 44.74537907 44.94194834 45.16516002 45.37983895 45.60454029 45.86635844]\n",
            "\n",
            "Valor de n: 12\n",
            "Somatório de x: 91.15262021143819\n",
            "Somatório de y: 70.53978633296458\n",
            "Somatorio de xy: 535.8340488095785\n",
            "Somatório de x²: 692.4011567684659\n"
          ]
        }
      ]
    },
    {
      "cell_type": "markdown",
      "source": [
        "####Aplicando as equações D e F com Logarítimo de 'x' e 'y'!!!\n",
        "\n",
        "D) a = (nΣxy - ΣxΣy) / nΣx² - (Σx)²\n",
        "\n",
        "F) b = (ΣxΣxy - ΣyΣx²) / (Σx)² - nΣx²"
      ],
      "metadata": {
        "id": "iSaut5KsC0bL"
      }
    },
    {
      "cell_type": "code",
      "source": [
        "#   Em Potência, com Logarítmo de 'x' e 'y'\n",
        "#D) a = (nΣxy - ΣxΣy) / nΣx² - (Σx)²\n",
        "a_p = ((n_ * s_xlyl) - (s_xl * s_yl)) / ((n_ * s_x2l) - np.square(s_xl))\n",
        "a_p\n",
        "print(\"\\nValor de 'a' = \", a_l)\n",
        "\n",
        "#F) b = (ΣxΣxy - ΣyΣx²) / (Σx)² - nΣx²\n",
        "b_p = ((s_xl * s_xlyl) - (s_yl * s_x2l)) / (np.square(s_xl) - (n_ * s_x2l))\n",
        "B_p = np.exp(b_p)\n",
        "\n",
        "print(\"Valor de 'b' = \", b_p)\n",
        "print(\"Valor de 'B' = \", B_p)"
      ],
      "metadata": {
        "colab": {
          "base_uri": "https://localhost:8080/"
        },
        "outputId": "5cf7a303-d676-4440-d380-44a0e7f75e7d",
        "id": "vctkfXflC0bL"
      },
      "execution_count": null,
      "outputs": [
        {
          "output_type": "stream",
          "name": "stdout",
          "text": [
            "\n",
            "Valor de 'a' =  3203.969659433718\n",
            "Valor de 'b' =  -61.845663502021495\n",
            "Valor de 'B' =  1.3828326064660522e-27\n"
          ]
        }
      ]
    },
    {
      "cell_type": "markdown",
      "source": [
        "####Aplicandoa função de Regressão Potência!!!\n",
        "g(x) = b.x^a"
      ],
      "metadata": {
        "id": "CmFwJYiWC0bN"
      }
    },
    {
      "cell_type": "code",
      "source": [
        "#     Função Potência para retornar um valor no array de b.x[i]^a - índice específico.\n",
        "def pot(b, x, i, a):\n",
        "  g = b * np.power(x[i], a)\n",
        "  return g\n",
        "\n",
        "#pot(b_, a_, xe, 1)\n",
        "\n",
        "#     Função Potência para retornar um novo array de b.x^a.\n",
        "def Pot(b, x, a):\n",
        "  g = np.multiply(b, np.power(x, a))\n",
        "  print(\"Novo array de f(x) = {} * {}^{} é:\\n {}\".format(b, x, a, g))\n",
        "  #return g\n",
        "\n",
        "Pot(b_p, xe, a_p)"
      ],
      "metadata": {
        "colab": {
          "base_uri": "https://localhost:8080/"
        },
        "id": "AE5ZPJYWC0bN",
        "outputId": "cac0fff3-7281-4866-82b4-4565a7eacede"
      },
      "execution_count": null,
      "outputs": [
        {
          "output_type": "stream",
          "name": "stdout",
          "text": [
            "Novo array de f(x) = -61.845663502021495 * [1960 1965 1970 1975 1980 1990 1995 2000 2005 2010 2015 2020]^8.915681704704491 é:\n",
            " [-1.39320966e+31 -1.42521876e+31 -1.45787911e+31 -1.49120226e+31\n",
            " -1.52519993e+31 -1.59526660e+31 -1.63135994e+31 -1.66817647e+31\n",
            " -1.70572883e+31 -1.74402983e+31 -1.78309248e+31 -1.82292997e+31]\n"
          ]
        }
      ]
    },
    {
      "cell_type": "code",
      "source": [
        "#g(x) = b.x^a\n",
        "ixp = 4\n",
        "print(\"{} * ({} ^ {})\".format(B_p, xe[ixp], a_p))\n",
        "g = B_p * np.power(xe[ixp], a_p)\n",
        "print(g)\n",
        "\n",
        "pot(b_p, xe, ixp, a_p)"
      ],
      "metadata": {
        "colab": {
          "base_uri": "https://localhost:8080/"
        },
        "outputId": "bbb1752c-f167-4d6e-95fc-dfa6b2611eb4",
        "id": "2zBribK3C0bN"
      },
      "execution_count": null,
      "outputs": [
        {
          "output_type": "stream",
          "name": "stdout",
          "text": [
            "1.3828326064660522e-27 * (1980 ^ 8.915681704704491)\n",
            "341.0257202069692\n"
          ]
        },
        {
          "output_type": "execute_result",
          "data": {
            "text/plain": [
              "-1.5251999293938056e+31"
            ]
          },
          "metadata": {},
          "execution_count": 328
        }
      ]
    },
    {
      "cell_type": "markdown",
      "source": [
        "###R²"
      ],
      "metadata": {
        "id": "Zsrf12zXC0bO"
      }
    },
    {
      "cell_type": "markdown",
      "source": [
        "####R² - Regressão Linear!!!\n",
        "R² = SQReq / SQTot"
      ],
      "metadata": {
        "id": "VzsN22xVC0bO"
      }
    },
    {
      "cell_type": "code",
      "source": [
        "#     Apresentando os dados\n",
        "print(\"a = {}\\nb = {}\".format(a_, b_))\n",
        "\n",
        "#Definindo Y\n",
        "Y_r2 = s_y / n_\n",
        "print(\"Y = {} / {}\".format(s_y, n_))\n",
        "Y_r2"
      ],
      "metadata": {
        "colab": {
          "base_uri": "https://localhost:8080/"
        },
        "outputId": "16bb37f9-1c2d-4e8f-fded-9e715991319e",
        "id": "_DKAc7qyC0bO"
      },
      "execution_count": null,
      "outputs": [
        {
          "output_type": "stream",
          "name": "stdout",
          "text": [
            "a = 1.611143113772532\n",
            "b = -2848.265214371437\n",
            "Y = 4302.9707 / 12\n"
          ]
        },
        {
          "output_type": "execute_result",
          "data": {
            "text/plain": [
              "358.5808916666667"
            ]
          },
          "metadata": {},
          "execution_count": 332
        }
      ]
    },
    {
      "cell_type": "code",
      "source": [
        "#SQReq = (g(x) - Y)²\n",
        "SQReq_ = np.square(fx_ - Y_r2)\n",
        "print(\"Array de SQReq:\\n\", SQReq_)\n",
        "\n",
        "s_SQReq_ = np.sum(SQReq_)\n",
        "print(\"Somatória de SQReq: \", s_SQReq_)"
      ],
      "metadata": {
        "colab": {
          "base_uri": "https://localhost:8080/"
        },
        "outputId": "45983dac-8f56-4c2a-efd4-2b1f4226a960",
        "id": "1_-5nL0sC0bO"
      },
      "execution_count": null,
      "outputs": [
        {
          "output_type": "stream",
          "name": "stdout",
          "text": [
            "Array de SQReq:\n",
            " [2.40154913e+03 1.67689328e+03 1.08202655e+03 6.16948913e+02\n",
            " 2.81660388e+02 4.50656620e-01 5.45294511e+01 2.38397352e+02\n",
            " 5.52054360e+02 9.95500474e+02 1.56873570e+03 2.27176002e+03]\n",
            "Somatória de SQReq:  11740.506272637494\n"
          ]
        }
      ]
    },
    {
      "cell_type": "code",
      "source": [
        "#SQTot = (yi - Y)²\n",
        "SQTot_ = np.square(ye - Y_r2)\n",
        "print(\"Array de SQTot:\\n\", SQTot_)\n",
        "\n",
        "s_SQTot_ = np.sum(SQTot_)\n",
        "print(\"Somatória de SQTot: \", s_SQTot_)"
      ],
      "metadata": {
        "colab": {
          "base_uri": "https://localhost:8080/"
        },
        "outputId": "95825d45-e17c-46af-ef88-c77756e598cb",
        "id": "jQdHM0FfC0bO"
      },
      "execution_count": null,
      "outputs": [
        {
          "output_type": "stream",
          "name": "stdout",
          "text": [
            "Array de SQTot:\n",
            " [1736.4632123  1485.72409159 1082.35681232  754.33126026  392.76864825\n",
            "   17.03701297    5.69971855  123.801413    458.06308247  993.56135799\n",
            " 1800.44138575 3097.74710238]\n",
            "Somatória de SQTot:  11947.995097829164\n"
          ]
        }
      ]
    },
    {
      "cell_type": "code",
      "source": [
        "#R² = SQReq / SQTot\n",
        "R2_ = s_SQReq_ / s_SQTot_\n",
        "R2_"
      ],
      "metadata": {
        "colab": {
          "base_uri": "https://localhost:8080/"
        },
        "outputId": "08460c61-a963-4a5a-ff65-12d4d1069593",
        "id": "ipU5EuIEC0bP"
      },
      "execution_count": null,
      "outputs": [
        {
          "output_type": "execute_result",
          "data": {
            "text/plain": [
              "0.9826340048273565"
            ]
          },
          "metadata": {},
          "execution_count": 336
        }
      ]
    },
    {
      "cell_type": "markdown",
      "source": [
        "####R² - Regressão Logarítimica!!!\n",
        "R² = SQReq / SQTot"
      ],
      "metadata": {
        "id": "BEUP-LkbC0bP"
      }
    },
    {
      "cell_type": "code",
      "source": [
        "#     Apresentando os dados\n",
        "print(\"a = {}\\nb = {}\".format(a_l, b_l))\n",
        "\n",
        "#Definindo Y\n",
        "#Y_r2 = s_y / n_\n",
        "print(\"Y = {} / {}\".format(s_y, n_))\n",
        "Y_r2"
      ],
      "metadata": {
        "colab": {
          "base_uri": "https://localhost:8080/"
        },
        "outputId": "f0374ee8-b986-4662-b94d-e68159309ede",
        "id": "huHIaqNZC0bP"
      },
      "execution_count": null,
      "outputs": [
        {
          "output_type": "stream",
          "name": "stdout",
          "text": [
            "a = 3203.969659433718\n",
            "b = -23978.938236251837\n",
            "Y = 4302.9707 / 12\n"
          ]
        },
        {
          "output_type": "execute_result",
          "data": {
            "text/plain": [
              "358.5808916666667"
            ]
          },
          "metadata": {},
          "execution_count": 348
        }
      ]
    },
    {
      "cell_type": "code",
      "source": [
        "#SQReq = (g(ln(x)) - Y)²\n",
        "SQReq_l = np.square(f_ln(a_l, xe, b_l) - Y_r2)\n",
        "print(\"Array de SQReq:\\n\", SQReq_l)\n",
        "\n",
        "s_SQReq_l = np.sum(SQReq_l)\n",
        "print(\"Somatória de SQReq: \", s_SQReq_l)"
      ],
      "metadata": {
        "colab": {
          "base_uri": "https://localhost:8080/"
        },
        "outputId": "3953d31d-9c4a-4479-8c9a-5ea53427e92c",
        "id": "Cdmw_2JWC0bQ"
      },
      "execution_count": null,
      "outputs": [
        {
          "output_type": "stream",
          "name": "stdout",
          "text": [
            "Novo array de ln(x) é:\n",
            " [309.39376715 317.55675159 325.69899145 333.82059189 341.92165729\n",
            " 358.06259652 366.10267516 374.12262844 382.12255684 390.10256011\n",
            " 398.06273727 406.00318659]\n",
            "Array de SQReq:\n",
            " [2.41937322e+03 1.68298007e+03 1.08121936e+03 6.13072445e+02\n",
            " 2.77530090e+02 2.68629862e-01 5.65772270e+01 2.41545582e+02\n",
            " 5.54209999e+02 9.93615582e+02 1.55881613e+03 2.24887406e+03]\n",
            "Somatória de SQReq:  11728.082391198664\n"
          ]
        }
      ]
    },
    {
      "cell_type": "code",
      "source": [
        "#SQTot = (yi - Y)²\n",
        "SQTot_l = np.square(ye - Y_r2)\n",
        "print(\"Array de SQTot:\\n\", SQTot_l)\n",
        "\n",
        "s_SQTot_l = np.sum(SQTot_l)\n",
        "print(\"Somatória de SQTot: \", s_SQTot_l)"
      ],
      "metadata": {
        "colab": {
          "base_uri": "https://localhost:8080/"
        },
        "outputId": "1e50d978-55dd-4b43-f51b-675ad84157bd",
        "id": "qMFmYtb-C0bQ"
      },
      "execution_count": null,
      "outputs": [
        {
          "output_type": "stream",
          "name": "stdout",
          "text": [
            "Array de SQTot:\n",
            " [1736.4632123  1485.72409159 1082.35681232  754.33126026  392.76864825\n",
            "   17.03701297    5.69971855  123.801413    458.06308247  993.56135799\n",
            " 1800.44138575 3097.74710238]\n",
            "Somatória de SQTot:  11947.995097829164\n"
          ]
        }
      ]
    },
    {
      "cell_type": "code",
      "source": [
        "#R² = SQReq / SQTot\n",
        "R2_l = s_SQReq_l / s_SQTot_l\n",
        "R2_l"
      ],
      "metadata": {
        "colab": {
          "base_uri": "https://localhost:8080/"
        },
        "outputId": "928799fd-0e60-468e-d999-4af36e911081",
        "id": "_aq_xfcPC0bR"
      },
      "execution_count": null,
      "outputs": [
        {
          "output_type": "execute_result",
          "data": {
            "text/plain": [
              "0.981594175020171"
            ]
          },
          "metadata": {},
          "execution_count": 356
        }
      ]
    },
    {
      "cell_type": "markdown",
      "source": [
        "####R² - Regressão Exponencial!!!\n",
        "R² = SQReq / SQTot"
      ],
      "metadata": {
        "id": "3q8ULKmcC0bR"
      }
    },
    {
      "cell_type": "code",
      "source": [
        "#     Apresentando os dados\n",
        "print(\"a = {}\\nb = {}\".format(a_e, b_e))\n",
        "\n",
        "#Definindo Y\n",
        "Y_r2e = s_yl / n_\n",
        "print(\"Y = {} / {}\".format(s_yl, n_))\n",
        "Y_r2e"
      ],
      "metadata": {
        "colab": {
          "base_uri": "https://localhost:8080/"
        },
        "outputId": "8002a2fc-1e87-429d-d876-311e14f5b396",
        "id": "BMpccwHgC0bR"
      },
      "execution_count": null,
      "outputs": [
        {
          "output_type": "stream",
          "name": "stdout",
          "text": [
            "a = 0.004482689062305025\n",
            "b = -3.0441034933500495\n",
            "Y = 70.53978633296458 / 12\n"
          ]
        },
        {
          "output_type": "execute_result",
          "data": {
            "text/plain": [
              "5.8783155277470485"
            ]
          },
          "metadata": {},
          "execution_count": 357
        }
      ]
    },
    {
      "cell_type": "code",
      "source": [
        "#SQReq = (g(x) - Y)²\n",
        "SQReq_e = np.square( fx(a_e, xe, b_e) - Y_r2e)\n",
        "print(\"Array de SQReq:\\n\", SQReq_e)\n",
        "\n",
        "s_SQReq_e = np.sum(SQReq_e)\n",
        "print(\"Somatória de SQReq: \", s_SQReq_e)"
      ],
      "metadata": {
        "colab": {
          "base_uri": "https://localhost:8080/"
        },
        "outputId": "585e9b17-1109-43af-ec70-9df48c99794a",
        "id": "h9URPBBwC0bS"
      },
      "execution_count": null,
      "outputs": [
        {
          "output_type": "stream",
          "name": "stdout",
          "text": [
            "Array de SQReq:\n",
            " [1.85909023e-02 1.29811873e-02 8.37619747e-03 4.77593267e-03\n",
            " 2.18039293e-03 3.48862869e-06 4.22124071e-04 1.84548457e-03\n",
            " 4.27357014e-03 7.70638077e-03 1.21439165e-02 1.75861772e-02]\n",
            "Somatória de SQReq:  0.09088575451839619\n"
          ]
        }
      ]
    },
    {
      "cell_type": "code",
      "source": [
        "#SQTot = (yi - Y)²\n",
        "SQTot_e = np.square(y_l - Y_r2e)\n",
        "print(\"Array de SQTot:\\n\", SQTot_e)\n",
        "\n",
        "s_SQTot_e = np.sum(SQTot_e)\n",
        "print(\"Somatória de SQTot: \", s_SQTot_e)"
      ],
      "metadata": {
        "colab": {
          "base_uri": "https://localhost:8080/"
        },
        "outputId": "cd5ef369-0730-434f-bcb4-62cb90fabb1a",
        "id": "PYorjXvMC0bS"
      },
      "execution_count": null,
      "outputs": [
        {
          "output_type": "stream",
          "name": "stdout",
          "text": [
            "Array de SQTot:\n",
            " [1.43275408e-02 1.20741997e-02 8.53683671e-03 5.75282272e-03\n",
            " 2.81072339e-03 5.98909647e-05 1.09717561e-04 1.18312779e-03\n",
            " 3.82069573e-03 7.76019106e-03 1.33811848e-02 2.19412776e-02]\n",
            "Somatória de SQTot:  0.09175820878554006\n"
          ]
        }
      ]
    },
    {
      "cell_type": "code",
      "source": [
        "#R² = SQReq / SQTot\n",
        "R2_e = s_SQReq_e / s_SQTot_e\n",
        "R2_e"
      ],
      "metadata": {
        "colab": {
          "base_uri": "https://localhost:8080/"
        },
        "outputId": "a69bd7ea-c1b1-456c-ddfd-366bbbfb536b",
        "id": "OQMDOB64C0bT"
      },
      "execution_count": null,
      "outputs": [
        {
          "output_type": "execute_result",
          "data": {
            "text/plain": [
              "0.9904918123545438"
            ]
          },
          "metadata": {},
          "execution_count": 360
        }
      ]
    },
    {
      "cell_type": "markdown",
      "source": [
        "####R² - Regressão Potência\n",
        "R² = SQReq / SQTot"
      ],
      "metadata": {
        "id": "9OEy2z86C0bT"
      }
    },
    {
      "cell_type": "code",
      "source": [
        "#     Apresentando os dados\n",
        "print(\"a = {}\\nb = {}\".format(a_p, b_p))\n",
        "\n",
        "#Definindo Y\n",
        "Y_r2p = s_yl / n_\n",
        "print(\"Y = {} / {}\".format(s_yl, n_))\n",
        "Y_r2p"
      ],
      "metadata": {
        "colab": {
          "base_uri": "https://localhost:8080/"
        },
        "outputId": "8f4120b9-87bd-4a9f-cf80-81e2c637daf1",
        "id": "fquXftJZC0bU"
      },
      "execution_count": null,
      "outputs": [
        {
          "output_type": "stream",
          "name": "stdout",
          "text": [
            "a = 8.915681704704491\n",
            "b = -61.845663502021495\n",
            "Y = 70.53978633296458 / 12\n"
          ]
        },
        {
          "output_type": "execute_result",
          "data": {
            "text/plain": [
              "5.8783155277470485"
            ]
          },
          "metadata": {},
          "execution_count": 361
        }
      ]
    },
    {
      "cell_type": "code",
      "source": [
        "#SQReq = (g(x) - Y)²\n",
        "SQReq_p = np.square( fx(a_p, xe, b_p) - Y_r2p)\n",
        "print(\"Array de SQReq:\\n\", SQReq_p)\n",
        "\n",
        "s_SQReq_p = np.sum(SQReq_p)\n",
        "print(\"Somatória de SQReq: \", s_SQReq_p)"
      ],
      "metadata": {
        "colab": {
          "base_uri": "https://localhost:8080/"
        },
        "outputId": "1a238d4a-64c3-42e1-e594-50a361a6b0d5",
        "id": "40ZnGYikC0bV"
      },
      "execution_count": null,
      "outputs": [
        {
          "output_type": "stream",
          "name": "stdout",
          "text": [
            "Array de SQReq:\n",
            " [3.03004072e+08 3.04558013e+08 3.06115929e+08 3.07677819e+08\n",
            " 3.09243683e+08 3.12387336e+08 3.13965123e+08 3.15546886e+08\n",
            " 3.17132623e+08 3.18722334e+08 3.20316020e+08 3.21913680e+08]\n",
            "Somatória de SQReq:  3750583517.8462057\n"
          ]
        }
      ]
    },
    {
      "cell_type": "code",
      "source": [
        "#SQTot = (yi - Y)²\n",
        "SQTot_p = np.square(y_l - Y_r2p)\n",
        "print(\"Array de SQTot:\\n\", SQTot_p)\n",
        "\n",
        "s_SQTot_p = np.sum(SQTot_p)\n",
        "print(\"Somatória de SQTot: \", s_SQTot_p)"
      ],
      "metadata": {
        "colab": {
          "base_uri": "https://localhost:8080/"
        },
        "outputId": "c58d7fcf-9696-4da4-9539-033e2631d17c",
        "id": "3p1mKbu2C0bV"
      },
      "execution_count": null,
      "outputs": [
        {
          "output_type": "stream",
          "name": "stdout",
          "text": [
            "Array de SQTot:\n",
            " [1.43275408e-02 1.20741997e-02 8.53683671e-03 5.75282272e-03\n",
            " 2.81072339e-03 5.98909647e-05 1.09717561e-04 1.18312779e-03\n",
            " 3.82069573e-03 7.76019106e-03 1.33811848e-02 2.19412776e-02]\n",
            "Somatória de SQTot:  0.09175820878554006\n"
          ]
        }
      ]
    },
    {
      "cell_type": "code",
      "source": [
        "#R² = SQReq / SQTot\n",
        "R2_p = s_SQReq_p / s_SQTot_p\n",
        "R2_p"
      ],
      "metadata": {
        "colab": {
          "base_uri": "https://localhost:8080/"
        },
        "outputId": "3e0cab87-11b3-464e-8928-74c8f1816461",
        "id": "6_CZl1y5C0bW"
      },
      "execution_count": null,
      "outputs": [
        {
          "output_type": "execute_result",
          "data": {
            "text/plain": [
              "40874637457.36556"
            ]
          },
          "metadata": {},
          "execution_count": 364
        }
      ]
    },
    {
      "cell_type": "markdown",
      "source": [
        "##Regressão Polinomial"
      ],
      "metadata": {
        "id": "VdPpcM_0nbpv"
      }
    },
    {
      "cell_type": "markdown",
      "source": [
        "###Definir funções Polinomial de 2º grau"
      ],
      "metadata": {
        "id": "ktQxlduGnVkh"
      }
    },
    {
      "cell_type": "markdown",
      "source": [
        "Função modelo: Definição do modelo de Regreção Polinomial de 2º grau ax²+bx+c."
      ],
      "metadata": {
        "id": "KX3IdbpFnVki"
      }
    },
    {
      "cell_type": "code",
      "source": [
        "#\n",
        "def poli2(a, b, x, c):\n",
        "  return np.square(a*x) + (b*x) + c"
      ],
      "metadata": {
        "id": "dhDm6LaZnVkj"
      },
      "execution_count": null,
      "outputs": []
    },
    {
      "cell_type": "code",
      "source": [
        "poli2(Ae, Be, xe, 2)"
      ],
      "metadata": {
        "id": "wupizR_5q2IM",
        "colab": {
          "base_uri": "https://localhost:8080/"
        },
        "outputId": "fd21fffa-b882-4b16-e4a1-ff7ae02b905a"
      },
      "execution_count": null,
      "outputs": [
        {
          "output_type": "execute_result",
          "data": {
            "text/plain": [
              "array([12930.52581363, 12963.50922858, 12996.49265615, 13029.47609636,\n",
              "       13062.45954919, 13128.42649274, 13161.40998347, 13194.39348682,\n",
              "       13227.3770028 , 13260.36053141, 13293.34407265, 13326.32762653])"
            ]
          },
          "metadata": {},
          "execution_count": 152
        }
      ]
    },
    {
      "cell_type": "markdown",
      "source": [
        "###Definir funções Polinomial de 3º grau"
      ],
      "metadata": {
        "id": "GOUZlCEgpl2a"
      }
    },
    {
      "cell_type": "markdown",
      "source": [
        "Função modelo: Definição do modelo de Regreção Polinomial de 3º grau ax³+bx²+cx+d."
      ],
      "metadata": {
        "id": "4Pk3peqppfrL"
      }
    },
    {
      "cell_type": "code",
      "source": [
        "#\n",
        "def poli3(a, b, x, c, d):\n",
        "  return (np.cbrt(a*x)) + (np.square(b*x)) + (c*x) + d"
      ],
      "metadata": {
        "id": "EtXIjnX4pfrM"
      },
      "execution_count": null,
      "outputs": []
    },
    {
      "cell_type": "code",
      "source": [
        "poli3(Ae, Be, xe, 2, 5)"
      ],
      "metadata": {
        "id": "zS6Txo8Kq2-j",
        "colab": {
          "base_uri": "https://localhost:8080/"
        },
        "outputId": "cd67ebde-d2b9-4c90-e14e-7d22cc9500bc"
      },
      "execution_count": null,
      "outputs": [
        {
          "output_type": "execute_result",
          "data": {
            "text/plain": [
              "array([1.67125616e+08, 1.67979375e+08, 1.68835309e+08, 1.69693419e+08,\n",
              "       1.70553704e+08, 1.72280799e+08, 1.73147609e+08, 1.74016594e+08,\n",
              "       1.74887755e+08, 1.75761090e+08, 1.76636601e+08, 1.77514287e+08])"
            ]
          },
          "metadata": {},
          "execution_count": 153
        }
      ]
    },
    {
      "cell_type": "markdown",
      "source": [
        "##..."
      ],
      "metadata": {
        "id": "A1FhTpVZtWf-"
      }
    },
    {
      "cell_type": "markdown",
      "source": [
        "###.."
      ],
      "metadata": {
        "id": "mr8pcvrunQsf"
      }
    },
    {
      "cell_type": "code",
      "source": [
        "#--------------------- Remanejar para área de importações ----------------------\n",
        "\n",
        "#-------------------------------------------------------------------------------\n",
        "\n"
      ],
      "metadata": {
        "id": "2NkqNIZbplqT"
      },
      "execution_count": null,
      "outputs": []
    },
    {
      "cell_type": "markdown",
      "source": [
        "#Outros testes"
      ],
      "metadata": {
        "id": "eQKIo-bh1mPW"
      }
    },
    {
      "cell_type": "markdown",
      "source": [
        "##Trabalhando com aplicação SkLearn"
      ],
      "metadata": {
        "id": "oxia1XVF9LV6"
      }
    },
    {
      "cell_type": "code",
      "source": [
        "#--------------------- Remanejar para área de importações ----------------------\n",
        "#   Importamos o pacote LinearSVC da biblioteca svm do SkLearn, para gerar um Cérebro vázio.\n",
        "#from sklearn.svm import LinearSVC\n",
        "\n",
        "#   Importamos o pacote train_test_split da biblioteca model_select do SkLearn, para separar os dados de Treino e Test\n",
        "#from sklearn.model_selection import train_test_split\n",
        "#-------------------------------------------------------------------------------\n",
        "\n",
        "#modelo = LinearSVC()\n",
        "\n",
        "#   x características e y etiqueta.\n",
        "#x = dadosC['Dados decimais']\n",
        "#y = DAjust\n",
        "\n",
        "#x.head(1)\n",
        "#y.head(1)\n",
        "\n",
        "#   Separamos os dados de Treino e Teste\n",
        "#tre_x, tes_x, tre_y, tes_y = train_test_split(x, y, test_size=0.2, random_state=28)"
      ],
      "metadata": {
        "id": "X3xNSm2TcoP9"
      },
      "execution_count": null,
      "outputs": []
    },
    {
      "cell_type": "code",
      "source": [
        "#---------- NÃO CONSEGUI ----------\n",
        "\n",
        "#modelo.fit(tre_x, tre_y)                     #Não funciona\n",
        "#previsoes = modelo.predict(teste_x)\n",
        "#accuracy_score(teste_y, previsoes) * 100"
      ],
      "metadata": {
        "id": "r3A7jNgPT78K"
      },
      "execution_count": null,
      "outputs": []
    },
    {
      "cell_type": "code",
      "source": [
        "#---------- NÃO CONSEGUI TESTAR ----------\n",
        "#   Padronizamos os dados\n",
        "#treino_x = scaler.fit_transform(treino_x)\n",
        "#treino_x[:5]\n",
        "#teste_x = scaler.fit_transform(teste_x)\n",
        "#teste_x[:5]"
      ],
      "metadata": {
        "id": "912E19MueYHv"
      },
      "execution_count": null,
      "outputs": []
    },
    {
      "cell_type": "code",
      "source": [
        "#---------- NÃO CONSEGUI ----------\n",
        "\n",
        "sufInd = np.arange(150)         #Sequencia de 150 números geradas.\n",
        "np.random.shuffle(sufInd)       #Torno aleatório os números gerados.\n",
        "\n",
        "#x_train = x[sufInd[:100], :]   #Pega os dados de 0 até 100.          #Não funciona\n",
        "#x_test = x[sufInd[100:], :]    #Pega os dados de 100 em diante.      #Não funciona\n",
        "y_train = y[sufInd[:100]]       #Pega os dados de 0 até 100.\n",
        "y_test = y[sufInd[100:]]        #Pega os dados de 100 em diante."
      ],
      "metadata": {
        "id": "vKhbEf5PiQfl"
      },
      "execution_count": null,
      "outputs": []
    },
    {
      "cell_type": "code",
      "source": [
        "#--------------------- Remanejar para área de importações ----------------------\n",
        "#   Importamos o pacote MLPClassifier da biblioteca Neural_Network do SkLearn\n",
        "from sklearn.neural_network import MLPClassifier\n",
        "#-------------------------------------------------------------------------------\n",
        "\n",
        "clf = MLPClassifier(solver='sgd', hidden_layer_sizes=(3,), learning_rate_init=0.001, activation='logistic', max_iter=1500, random_state=1)\n",
        "#clf.fit(x_train, y_train)\n",
        "#y_pred = clf.predict_proba(x_test)\n",
        "#y_pred"
      ],
      "metadata": {
        "id": "S_UOcdP8gX2i"
      },
      "execution_count": null,
      "outputs": []
    },
    {
      "cell_type": "code",
      "source": [
        "#---------- NÃO CONSEGUI TESTAR ----------\n",
        "\n",
        "#--------------------- Remanejar para área de importações ----------------------\n",
        "#   Importamos o pacote Accuracy_Score da biblioteca Metrics do SkLearn, para ver a acurácia do modelo.\n",
        "from sklearn.metrics import accuracy_score\n",
        "\n",
        "#   Importamos a biblioteca DataSet do SkLearn\n",
        "from sklearn import datasets\n",
        "#-------------------------------------------------------------------------------\n",
        "\n",
        "#y_aux = np.argmax(y_pred, 1)\n",
        "accuracy_score(y_test, y_aux)"
      ],
      "metadata": {
        "id": "PllfNVClkkMh"
      },
      "execution_count": null,
      "outputs": []
    },
    {
      "cell_type": "markdown",
      "source": [
        "##Testes complementares"
      ],
      "metadata": {
        "id": "wfs9rDC7JN6B"
      }
    },
    {
      "cell_type": "code",
      "source": [
        "#Inicializando os parametetros e exibindo-os\n",
        "#a = np.random.rand(1)\n",
        "#b = np.random.rand(1)\n",
        "#b = -2000\n",
        "#print(b)\n",
        "#Lr = 1e1\n",
        "\n",
        "#Para a primeira interação, os valores de parâmetro, perdas e visualização depois da iteração são exibidos.\n",
        "#, b = iterate(a, b, x, y, 10)\n",
        "#prediction = model(a, b, x)\n",
        "#loss = loss_function(a, b, x, y)\n",
        "#print(a, b, loss)\n",
        "#plt.scatter(x, y)\n",
        "#plt.plot(x, prediction)"
      ],
      "metadata": {
        "id": "tMkFjF_9ApzV"
      },
      "execution_count": null,
      "outputs": []
    },
    {
      "cell_type": "markdown",
      "source": [
        "Na segunda iteração, mostra os valores de parâmetros, de perdas e visualização depois da iteração."
      ],
      "metadata": {
        "id": "mzeLECXfBHNV"
      }
    },
    {
      "cell_type": "code",
      "source": [
        "#imprirIterações(a, b, x, y, n)"
      ],
      "metadata": {
        "id": "d2euK4bkDcUl"
      },
      "execution_count": null,
      "outputs": []
    },
    {
      "cell_type": "markdown",
      "source": [
        "A terceira iteração, mostra os valores de parâmetros, de perdas e visualização depois da iteração."
      ],
      "metadata": {
        "id": "TCJDx9HUTv2Q"
      }
    },
    {
      "cell_type": "code",
      "source": [
        "#imprirIterações(a, b, x, y, 100)"
      ],
      "metadata": {
        "id": "sf4-P_-nTzO2"
      },
      "execution_count": null,
      "outputs": []
    },
    {
      "cell_type": "markdown",
      "source": [
        "##Testes com dados dos vídeos!!!"
      ],
      "metadata": {
        "id": "edEg7n8Y3mdr"
      }
    },
    {
      "cell_type": "markdown",
      "source": [
        "###Definindo os dados para teste com base no que foi apresentado no vídeo <https://youtu.be/3XPH32srZSQ>"
      ],
      "metadata": {
        "id": "jY8HQl1xEmfW"
      }
    },
    {
      "cell_type": "code",
      "source": [
        "#---------------------------- ACHEI o que eu queria ----------------------------\n",
        "#s_x = np.sum(x)\n",
        "#s_x\n",
        "\n",
        "#n_MMQ = np.size(x)\n",
        "#_MMQ\n",
        "#-------------------------------------------------------------------------------\n",
        "\n",
        "#---------------------------- ACHEI o que eu queria ----------------------------\n",
        "#   Definindo de 'X'\n",
        "x_teste = [1, 2, 3, 4]\n",
        "print(\"X  = \", x_teste)\n",
        "\n",
        "#   Definindo de 'Y'\n",
        "y_teste = [3, 5, 6, 8]\n",
        "print(\"Y  = \", y_teste)\n",
        "print()\n",
        "\n",
        "#   Valor de 'n'\n",
        "n_t = np.size(x_teste)\n",
        "\n",
        "#   Somatório de 'X'\n",
        "s_xt = np.sum(x_teste)\n",
        "print(\"Somatório de X = \", s_xt)\n",
        "\n",
        "#   Somatório de 'Y'\n",
        "s_yt = np.sum(y_teste)\n",
        "print(\"Somatório de Y = \", s_yt)\n",
        "print()\n",
        "\n",
        "#   Definindo de 'X²'\n",
        "s_x3 = np.square(x_teste)\n",
        "print(\"X² = \", s_x3)\n",
        "\n",
        "#   Somatório de 'X²'\n",
        "s_x2t = np.sum(s_x3)\n",
        "\n",
        "print(\"Somatório de X² = \", s_x2t)\n",
        "print()\n",
        "\n",
        "#   Definindo de 'XY'\n",
        "xyt = np.multiply(x_teste, y_teste)\n",
        "print(\"XY  = \", xyt)\n",
        "\n",
        "#   Somatório de 'XY'\n",
        "s_xyt = sum(xyt)\n",
        "print(\"Somatório de XY  = \", s_xyt)\n",
        "#   np.matmul(x1, x2, /[, out, casting, order, ...]) -> Retorna no produto matricial de dois arrays.\n",
        "s_xyt2 = np.matmul(x_teste, y_teste)\n",
        "print(\"Somatório de XY2 = \", s_xyt2)\n",
        "print()\n",
        "\n",
        "s_x5 = np.square(s_xt)\n",
        "print(\"'Σx²' ({}) é diferente de '(Σx)²'({})\".format(s_xyt, s_x5))\n",
        "#-------------------------------------------------------------------------------"
      ],
      "metadata": {
        "id": "f_x6LPF7yflq",
        "colab": {
          "base_uri": "https://localhost:8080/"
        },
        "outputId": "89a0f24c-e277-40c0-93e8-7f5163506cbe"
      },
      "execution_count": null,
      "outputs": [
        {
          "output_type": "stream",
          "name": "stdout",
          "text": [
            "X  =  [1, 2, 3, 4]\n",
            "Y  =  [3, 5, 6, 8]\n",
            "\n",
            "Somatório de X =  10\n",
            "Somatório de Y =  22\n",
            "\n",
            "X² =  [ 1  4  9 16]\n",
            "Somatório de X² =  30\n",
            "\n",
            "XY  =  [ 3 10 18 32]\n",
            "Somatório de XY  =  63\n",
            "Somatório de XY2 =  63\n",
            "\n",
            "'Σx²' (63) é diferente de '(Σx)²'(100)\n"
          ]
        }
      ]
    },
    {
      "cell_type": "markdown",
      "source": [
        "###Aplicando as equações 'D' e 'F'!!!\n",
        "f(x) = ax + b"
      ],
      "metadata": {
        "id": "xhnc5fdK1MJJ"
      }
    },
    {
      "cell_type": "code",
      "source": [
        "#D) a = (nΣxy - ΣxΣy) / nΣx² - (Σx)²\n",
        "a_t = ((n_t * s_xyt) - (s_xt * s_yt)) / ((n_t * s_x2t) - np.square(s_xt))\n",
        "print(\"Equação de \\na = ( ({}.{}) - ({}.{}) ) / ( ({}.{}) - ({})² )\".format(n_t, s_xyt, s_xt, s_yt, n_t, s_x2t, s_xt) )\n",
        "print(\"a = ({} - {}) / ({} - {})\".format((n_t * s_xyt), (s_xt * s_yt), (n_t * s_x2t), np.square(s_xt)))\n",
        "print(\"a = ({}) / ({})\".format(((n_t * s_xyt) - (s_xt * s_yt)), (n_t * s_x2t) - np.square(s_xt)))\n",
        "print(\"a = {}\".format(((n_t * s_xyt) - (s_xt * s_yt)) / ((n_t * s_x2t) - np.square(s_xt))))\n",
        "print(\"\\nValor de 'a' = \", a_t)\n",
        "\n",
        "#F) b = (ΣxΣxy - ΣyΣx²) / (Σx)² - nΣx²\n",
        "b_t = ((s_xt * s_xyt) - (s_yt * s_x2t)) / (np.square(s_xt) - (n_t * s_x2t))\n",
        "print(\"Valor de 'b' = \", b_t)"
      ],
      "metadata": {
        "colab": {
          "base_uri": "https://localhost:8080/"
        },
        "id": "AxqhdOwOIwjS",
        "outputId": "bd85c5da-a880-4967-c3c3-fda9aa47cfef"
      },
      "execution_count": null,
      "outputs": [
        {
          "output_type": "stream",
          "name": "stdout",
          "text": [
            "Equação de \n",
            "a = ( (4.63) - (10.22) ) / ( (4.30) - (10)² )\n",
            "a = (252 - 220) / (120 - 100)\n",
            "a = (32) / (20)\n",
            "a = 1.6\n",
            "\n",
            "Valor de 'a' =  1.6\n",
            "Valor de 'b' =  1.5\n"
          ]
        }
      ]
    },
    {
      "cell_type": "code",
      "source": [
        "#f(x) = ax + b\n",
        "def fx(a, x, b):\n",
        "  f = np.multiply(a, x)\n",
        "  f = f  + b\n",
        "  return f\n",
        "\n",
        "#fx(a_t, x_teste, b_t)"
      ],
      "metadata": {
        "colab": {
          "base_uri": "https://localhost:8080/"
        },
        "id": "cUzrqOPUvENK",
        "outputId": "054c911c-193f-48a8-e548-a55160a54991"
      },
      "execution_count": null,
      "outputs": [
        {
          "output_type": "execute_result",
          "data": {
            "text/plain": [
              "array([3.1, 4.7, 6.3, 7.9])"
            ]
          },
          "metadata": {},
          "execution_count": 184
        }
      ]
    },
    {
      "cell_type": "code",
      "source": [
        "#f(x) = ax + b\n",
        "fx_t = np.multiply(a_t, x_teste)\n",
        "print(fx_t)\n",
        "\n",
        "fx_t = fx_t + b_t\n",
        "fx_t"
      ],
      "metadata": {
        "colab": {
          "base_uri": "https://localhost:8080/"
        },
        "id": "4iBSZFEwXRaz",
        "outputId": "b060494a-d28c-4f7b-9860-cae3a7204656"
      },
      "execution_count": null,
      "outputs": [
        {
          "output_type": "stream",
          "name": "stdout",
          "text": [
            "[1.6 3.2 4.8 6.4]\n"
          ]
        },
        {
          "output_type": "execute_result",
          "data": {
            "text/plain": [
              "array([3.1, 4.7, 6.3, 7.9])"
            ]
          },
          "metadata": {},
          "execution_count": 129
        }
      ]
    },
    {
      "cell_type": "code",
      "source": [
        "#f(x) = ax + b\n",
        "ix = 0\n",
        "def fRL(a, x, ix, b):\n",
        "  f = a * x[ix] + b\n",
        "  return f\n",
        "\n",
        "fRL(a_t, x_teste, 1, b_t)"
      ],
      "metadata": {
        "colab": {
          "base_uri": "https://localhost:8080/"
        },
        "id": "G1_q9eMY6b_Z",
        "outputId": "1177615f-4aaf-4e12-fb46-221bdcdb61a2"
      },
      "execution_count": null,
      "outputs": [
        {
          "output_type": "execute_result",
          "data": {
            "text/plain": [
              "4.7"
            ]
          },
          "metadata": {},
          "execution_count": 228
        }
      ]
    },
    {
      "cell_type": "markdown",
      "source": [
        "###Aplicando as equações 'D' e 'F' em Regressão Logarítmica!!!\n",
        "f(x) = a.ln(x) + b"
      ],
      "metadata": {
        "id": "j3VOtSLK1XYZ"
      }
    },
    {
      "cell_type": "markdown",
      "source": [
        "####Redefinindo os dados em Logarítimo em 'x'!!!"
      ],
      "metadata": {
        "id": "hNa6Yb8j5gcH"
      }
    },
    {
      "cell_type": "code",
      "source": [
        "x_lt = np.log(x_teste)\n",
        "\n",
        "#print(\"Logarítimo de 'x': {} \\nLogarítmo de 'x_': {}\".format(x_l, x_l1) )\n",
        "x_lt"
      ],
      "metadata": {
        "colab": {
          "base_uri": "https://localhost:8080/"
        },
        "outputId": "372283bd-d9fc-43fb-de0f-fe68816aa451",
        "id": "87YWb0OC5gcJ"
      },
      "execution_count": null,
      "outputs": [
        {
          "output_type": "execute_result",
          "data": {
            "text/plain": [
              "array([0.        , 0.69314718, 1.09861229, 1.38629436])"
            ]
          },
          "metadata": {},
          "execution_count": 59
        }
      ]
    },
    {
      "cell_type": "code",
      "source": [
        "#   Novo Somatório de 'X' em Logarítmo.\n",
        "s_xlt = sum(x_lt)\n",
        "\n",
        "#   Redefinindo 'XY' com 'X' em Logarítmo.\n",
        "s_xlyt = np.matmul(x_lt, y_teste)\n",
        "\n",
        "#   Novo Somatório de 'X²' em Logarítmo.\n",
        "x2_lt = np.square(x_lt)\n",
        "print(\"Novo array de ln(x) [Logarítimo Natural]:\\n\", x_lt)\n",
        "print(\"\\nNovo array de ln(x)² [Logarítimo Natural]:\\n\",x2_lt)\n",
        "s_x2lt = np.sum(x2_lt)\n",
        "#s_x2lt\n",
        "\n",
        "print(\"\\nValor de 'n': {}\\nSomatório de 'x': {}\\nSomatório de 'y': {}\\nSomatorio de 'xy': {}\\nSomatório de 'x²': {}\".format(n_t, s_xlt, s_yt, s_xlyt, s_x2lt))"
      ],
      "metadata": {
        "colab": {
          "base_uri": "https://localhost:8080/"
        },
        "id": "GZd5ExRc5gcL",
        "outputId": "416fd299-7171-4be1-ae85-e7ef9c305084"
      },
      "execution_count": null,
      "outputs": [
        {
          "output_type": "stream",
          "name": "stdout",
          "text": [
            "Novo array de ln(x) [Logarítimo Natural]:\n",
            " [0.         0.69314718 1.09861229 1.38629436]\n",
            "\n",
            "Novo array de ln(x)² [Logarítimo Natural]:\n",
            " [0.         0.48045301 1.20694896 1.92181206]\n",
            "\n",
            "Valor de 'n': 4\n",
            "Somatório de 'x': 3.1780538303479453\n",
            "Somatório de 'y': 22\n",
            "Somatorio de 'xy': 21.14776452376751\n",
            "Somatório de 'x²': 3.609214030403589\n"
          ]
        }
      ]
    },
    {
      "cell_type": "markdown",
      "source": [
        "####Aplicando a equação D!!!\n",
        "\n",
        "D) a = (nΣxy - ΣxΣy) / nΣx² - (Σx)²"
      ],
      "metadata": {
        "id": "ZltqkK_75gcL"
      }
    },
    {
      "cell_type": "code",
      "source": [
        "#   Com Logarítmo de 'x'\n",
        "a_lt = ((n_t * s_xlyt) - (s_xlt * s_yt)) / ((n_t * s_x2lt) - np.square(s_xlt))\n",
        "a_lt"
      ],
      "metadata": {
        "colab": {
          "base_uri": "https://localhost:8080/"
        },
        "outputId": "c3fa16b3-0ca2-42d5-e9f7-a25bfb40bbc2",
        "id": "3igpkhrN5gcM"
      },
      "execution_count": null,
      "outputs": [
        {
          "output_type": "execute_result",
          "data": {
            "text/plain": [
              "3.383548333387773"
            ]
          },
          "metadata": {},
          "execution_count": 62
        }
      ]
    },
    {
      "cell_type": "markdown",
      "source": [
        "####Aplicando a equação F!!!\n",
        "\n",
        "F) b = (ΣxΣxy - ΣyΣx²) / (Σx)² - nΣx²"
      ],
      "metadata": {
        "id": "TO46WWGX5gcN"
      }
    },
    {
      "cell_type": "code",
      "source": [
        "#   Com Logarítmo de 'x'\n",
        "b_lt = ((s_xlt * s_xlyt) - (s_yt * s_x2lt)) / (np.square(s_xlt) - (n_t * s_x2lt))\n",
        "b_lt"
      ],
      "metadata": {
        "colab": {
          "base_uri": "https://localhost:8080/"
        },
        "outputId": "4637ba65-ffb6-41bc-b87a-91d0aea92bc9",
        "id": "xGZaiNk65gcN"
      },
      "execution_count": null,
      "outputs": [
        {
          "output_type": "execute_result",
          "data": {
            "text/plain": [
              "2.8117253147273953"
            ]
          },
          "metadata": {},
          "execution_count": 63
        }
      ]
    },
    {
      "cell_type": "markdown",
      "source": [
        "####Aplicando a função da Regressão Logarítmica!!!\n",
        "f(x) = a.ln(x) + b"
      ],
      "metadata": {
        "id": "BOBgXeNF5gcN"
      }
    },
    {
      "cell_type": "code",
      "source": [
        "ixl = 0\n",
        "\n",
        "def ln(a, x, i, b):\n",
        "  f = a * np.log(x[ixl]) + b\n",
        "  return f\n",
        "\n",
        "#ln(a_lt, x_teste, 0, b_lt)\n",
        "\n",
        "def fln(a, x, b):\n",
        "  fl = np.multiply(a, np.log(x))\n",
        "  fl = fl + b\n",
        "  return fl\n",
        "\n",
        "#fln(a_lt, x_teste, b_lt)"
      ],
      "metadata": {
        "id": "2omhpqbs5gcO"
      },
      "execution_count": null,
      "outputs": []
    },
    {
      "cell_type": "code",
      "source": [
        "#   f(x) = a.ln(x) + b\n",
        "  \n",
        "fxl_t = a_lt * np.log(x_teste[0]) + b_lt\n",
        "print(fxl_t)\n",
        "\n",
        "ln(a_lt, x_teste, 0, b_lt)"
      ],
      "metadata": {
        "colab": {
          "base_uri": "https://localhost:8080/"
        },
        "outputId": "c3d0518b-5b77-401f-efdc-c55466f3c158",
        "id": "CYLWJTEs5gcO"
      },
      "execution_count": null,
      "outputs": [
        {
          "output_type": "stream",
          "name": "stdout",
          "text": [
            "2.8117253147273953\n"
          ]
        },
        {
          "output_type": "execute_result",
          "data": {
            "text/plain": [
              "2.8117253147273953"
            ]
          },
          "metadata": {},
          "execution_count": 145
        }
      ]
    },
    {
      "cell_type": "markdown",
      "source": [
        "###Aplicando as equações 'D' e 'F' em Regressão Exponencial!!!?\n",
        "g(x) = b.e^(ax)"
      ],
      "metadata": {
        "id": "q4LD5IaO9Atz"
      }
    },
    {
      "cell_type": "markdown",
      "source": [
        "####Redefinindo os dados em Logarítimo em 'y'!!!"
      ],
      "metadata": {
        "id": "SRp6SL-B3HB7"
      }
    },
    {
      "cell_type": "code",
      "source": [
        "y_lt = np.log(y_teste)\n",
        "\n",
        "print(\"Logarítimo de 'y': {}\".format(y_lt) )\n",
        "y_teste"
      ],
      "metadata": {
        "colab": {
          "base_uri": "https://localhost:8080/"
        },
        "outputId": "42ecac48-22bb-48ce-dba0-a94fc3b83690",
        "id": "O_jh1DTHASVF"
      },
      "execution_count": null,
      "outputs": [
        {
          "output_type": "stream",
          "name": "stdout",
          "text": [
            "Logarítimo de 'y': [1.09861229 1.60943791 1.79175947 2.07944154]\n"
          ]
        },
        {
          "output_type": "execute_result",
          "data": {
            "text/plain": [
              "[3, 5, 6, 8]"
            ]
          },
          "metadata": {},
          "execution_count": 66
        }
      ]
    },
    {
      "cell_type": "code",
      "source": [
        "#   Novo Somatório de 'Y' em Logarítmo.\n",
        "s_ylt = np.sum(y_lt)\n",
        "\n",
        "#   Redefinindo 'XY' com Y' em Logarítmo.\n",
        "xylt = np.multiply(x_teste, y_lt)\n",
        "\n",
        "#   Novo Somatório de 'XY' com Y' em Logarítmo.\n",
        "s_xylt = np.matmul(x_teste, y_lt)\n",
        "\n",
        "print(\"\\nNovo array de ln(y) [Logarítimo Natural]:\\n\", y_lt)\n",
        "print(\"\\nNovo array 'xy', com ln(y) [Logarítimo Natural]:\\n\", xylt)\n",
        "print(\"\\nValor de n: {}\\nSomatório de x: {}\\nSomatório de y: {}\\nSomatorio de xy: {}\\nSomatório de x²: {}\".format(n_t, s_xt, s_ylt, s_xylt, s_x2t))"
      ],
      "metadata": {
        "id": "jHafwJgSASVH",
        "colab": {
          "base_uri": "https://localhost:8080/"
        },
        "outputId": "2be3de6e-1419-4857-a751-57f99be49fc6"
      },
      "execution_count": null,
      "outputs": [
        {
          "output_type": "stream",
          "name": "stdout",
          "text": [
            "\n",
            "Novo array de ln(y) [Logarítimo Natural]:\n",
            " [1.09861229 1.60943791 1.79175947 2.07944154]\n",
            "\n",
            "Novo array 'xy', com ln(y) [Logarítimo Natural]:\n",
            " [1.09861229 3.21887582 5.37527841 8.31776617]\n",
            "\n",
            "Valor de n: 4\n",
            "Somatório de x: 10\n",
            "Somatório de y: 6.579251212010101\n",
            "Somatorio de xy: 18.01053268793982\n",
            "Somatório de x²: 30\n"
          ]
        }
      ]
    },
    {
      "cell_type": "markdown",
      "source": [
        "####Aplicando a equação D!!!\n",
        "\n",
        "D) a = (nΣxy - ΣxΣy) / nΣx² - (Σx)²"
      ],
      "metadata": {
        "id": "vpwNDuOS9hFm"
      }
    },
    {
      "cell_type": "code",
      "source": [
        "#   Em Exponencial, com Logarítmo de 'y'\n",
        "a_et = ((n_t * s_xylt) - (s_xt * s_ylt)) / ((n_t * s_x2t) - np.square(s_xt))\n",
        "a_et"
      ],
      "metadata": {
        "colab": {
          "base_uri": "https://localhost:8080/"
        },
        "outputId": "17ca4ef3-85ed-4752-8c73-ee7de6c06ae5",
        "id": "qNP6cBud9hFn"
      },
      "execution_count": null,
      "outputs": [
        {
          "output_type": "execute_result",
          "data": {
            "text/plain": [
              "0.31248093158291324"
            ]
          },
          "metadata": {},
          "execution_count": 158
        }
      ]
    },
    {
      "cell_type": "markdown",
      "source": [
        "####Aplicando a equação F!!!\n",
        "\n",
        "F) b = (ΣxΣxy - ΣyΣx²) / (Σx)² - nΣx²"
      ],
      "metadata": {
        "id": "iZGq9m_19hFn"
      }
    },
    {
      "cell_type": "code",
      "source": [
        "#   Com Logarítmo de 'y'\n",
        "b_et = ((s_xt * s_xylt) - (s_ylt * s_x2t)) / (np.square(s_xt) - (n_t * s_x2t))\n",
        "print(b_et)\n",
        "\n",
        "b_et1 = np.exp(b_et)\n",
        "b_et1"
      ],
      "metadata": {
        "colab": {
          "base_uri": "https://localhost:8080/"
        },
        "outputId": "292d896c-1155-428c-8a57-0673e896a434",
        "id": "3paAKPzT9hFo"
      },
      "execution_count": null,
      "outputs": [
        {
          "output_type": "stream",
          "name": "stdout",
          "text": [
            "0.8636104740452424\n"
          ]
        },
        {
          "output_type": "execute_result",
          "data": {
            "text/plain": [
              "2.3717082451262854"
            ]
          },
          "metadata": {},
          "execution_count": 106
        }
      ]
    },
    {
      "cell_type": "markdown",
      "source": [
        "####Aplicandoa função da Regressão Exponencial!!!?\n",
        "g(x) = b.e^(ax)"
      ],
      "metadata": {
        "id": "d1V7qD_64E-w"
      }
    },
    {
      "cell_type": "code",
      "source": [
        "ixe = 0\n",
        "def expo(b, a, x, i):\n",
        "  y = b * np.exp(a * x[ixe])\n",
        "  return y\n",
        "\n",
        "def Expo(b, a, x):\n",
        "  #aux = np.multiply(x, a)\n",
        "  #aux = np.exp(np.multiply(x, a))\n",
        "  y = np.multiply(b, np.exp(np.multiply(x, a)))\n",
        "  return y\n",
        "\n",
        "Expo(b_et, a_et, x_teste)"
      ],
      "metadata": {
        "id": "FCAyJBkrYD5t",
        "colab": {
          "base_uri": "https://localhost:8080/"
        },
        "outputId": "65478e75-bb90-4d3d-fc3d-e246a9a783ef"
      },
      "execution_count": null,
      "outputs": [
        {
          "output_type": "execute_result",
          "data": {
            "text/plain": [
              "array([1.18039305, 1.61337525, 2.20518045, 3.01406683])"
            ]
          },
          "metadata": {},
          "execution_count": 173
        }
      ]
    },
    {
      "cell_type": "code",
      "source": [
        "# g = a*b^x\n",
        "g = a_et * np.power(b_et, x_teste[1])\n",
        "print(g)\n",
        "\n",
        "expo(b_et, a_et, x_teste, 1)"
      ],
      "metadata": {
        "colab": {
          "base_uri": "https://localhost:8080/"
        },
        "id": "HC5wuKuHWQBa",
        "outputId": "e8053f6e-6953-4619-9940-de067d0f233f"
      },
      "execution_count": null,
      "outputs": [
        {
          "output_type": "stream",
          "name": "stdout",
          "text": [
            "0.5086590711272846\n"
          ]
        },
        {
          "output_type": "execute_result",
          "data": {
            "text/plain": [
              "1.7080919686222265"
            ]
          },
          "metadata": {},
          "execution_count": 105
        }
      ]
    },
    {
      "cell_type": "markdown",
      "source": [
        "###Aplicando as equações 'D' e 'F' em Regressão Potência!!!\n",
        "g(x) = b.a^x"
      ],
      "metadata": {
        "id": "Ei4fBiMe9Ats"
      }
    },
    {
      "cell_type": "markdown",
      "source": [
        "####Redefinindo os dados em Logarítimo em 'y'!!!"
      ],
      "metadata": {
        "id": "9oE3zGZGmiMh"
      }
    },
    {
      "cell_type": "code",
      "source": [
        "print(\"'x' = {}\".format(x_teste))\n",
        "print(\"Logarítimo de 'x': {}\".format(x_lt) )\n",
        "\n",
        "print(\"'y' = {}\".format(y_teste))\n",
        "print(\"Logarítimo de 'y': {}\".format(y_lt) )"
      ],
      "metadata": {
        "colab": {
          "base_uri": "https://localhost:8080/"
        },
        "outputId": "61f948f4-cd02-4175-8741-6acc0f774d9e",
        "id": "zPd28GoPmiMj"
      },
      "execution_count": null,
      "outputs": [
        {
          "output_type": "stream",
          "name": "stdout",
          "text": [
            "'x' = [1, 2, 3, 4]\n",
            "Logarítimo de 'x': [0.         0.69314718 1.09861229 1.38629436]\n",
            "'y' = [3, 5, 6, 8]\n",
            "Logarítimo de 'y': [1.09861229 1.60943791 1.79175947 2.07944154]\n"
          ]
        }
      ]
    },
    {
      "cell_type": "code",
      "source": [
        "#   Redefinindo 'XY' com 'X' e 'Y' em Logarítmo.\n",
        "xlyl_t = np.multiply(x_lt, y_lt)\n",
        "\n",
        "#   Novo Somatório de 'XY' com 'X' e 'Y' em Logarítmo.\n",
        "s_xlylt = np.matmul(x_lt, y_lt)\n",
        "\n",
        "print(\"\\nNovo array de ln(x) [Logarítimo Natural]:\\n\", x_lt)\n",
        "print(\"\\nNovo array de ln(y) [Logarítimo Natural]:\\n\", y_lt)\n",
        "print(\"\\nNovo array 'xy', com ln(x) e ln(y) [Logarítimo Natural]:\\n\", xlyl_t)\n",
        "print(\"\\nValor de n: {}\\nSomatório de x: {}\\nSomatório de y: {}\\nSomatorio de xy: {}\\nSomatório de x²: {}\".format(n_t, s_xlt, s_ylt, s_xlylt, s_x2lt))"
      ],
      "metadata": {
        "colab": {
          "base_uri": "https://localhost:8080/"
        },
        "outputId": "25471737-9146-4a62-c7d0-66586156cb68",
        "id": "EpwKBcWymiMk"
      },
      "execution_count": null,
      "outputs": [
        {
          "output_type": "stream",
          "name": "stdout",
          "text": [
            "\n",
            "Novo array de ln(x) [Logarítimo Natural]:\n",
            " [0.         0.69314718 1.09861229 1.38629436]\n",
            "\n",
            "Novo array de ln(y) [Logarítimo Natural]:\n",
            " [1.09861229 1.60943791 1.79175947 2.07944154]\n",
            "\n",
            "Novo array 'xy', com ln(x) e ln(y) [Logarítimo Natural]:\n",
            " [0.         1.11557735 1.96844897 2.88271808]\n",
            "\n",
            "Valor de n: 4\n",
            "Somatório de x: 3.1780538303479453\n",
            "Somatório de y: 6.579251212010101\n",
            "Somatorio de xy: 5.96674440603058\n",
            "Somatório de x²: 3.609214030403589\n"
          ]
        }
      ]
    },
    {
      "cell_type": "markdown",
      "source": [
        "####Aplicando a equação D!!!\n",
        "\n",
        "D) a = (nΣxy - ΣxΣy) / nΣx² - (Σx)²"
      ],
      "metadata": {
        "id": "DfdJum5bmiMm"
      }
    },
    {
      "cell_type": "code",
      "source": [
        "#   Em Potência, com Logarítmo de 'x' e 'y'\n",
        "a_pt = ((n_t * s_xlylt) - (s_xlt * s_ylt)) / ((n_t * s_x2lt) - np.square(s_xlt))\n",
        "\n",
        "print(\"Equação de \\na = ( ({} * {}) - ({} * {}) ) / ( ({} * {}) - ({})² )\".format(n_t, s_xlylt, s_xlt, s_ylt, n_t, s_x2lt, s_xlt) )\n",
        "print(\"a = ({} - {}) / ({} - {})\".format((n_t * s_xlylt), (s_xlt * s_ylt), (n_t * s_x2lt), np.square(s_xlt)))\n",
        "print(\"a = ({}) / ({})\".format(((n_t * s_xlylt) - (s_xlt * s_ylt)), ((n_t * s_x2lt) - np.square(s_xlt))))\n",
        "print(\"a = {}\".format(((n_t * s_xlylt) - (s_xlt * s_ylt)) / ((n_t * s_x2lt) - np.square(s_xlt))))\n",
        "print()\n",
        "\n",
        "print(a_pt)\n",
        "a_pt"
      ],
      "metadata": {
        "colab": {
          "base_uri": "https://localhost:8080/"
        },
        "outputId": "4a70c145-888e-49a9-99f2-6ee210f92d1b",
        "id": "aqboUl99miMn"
      },
      "execution_count": null,
      "outputs": [
        {
          "output_type": "stream",
          "name": "stdout",
          "text": [
            "Equação de \n",
            "a = ( (4 * 5.96674440603058) - (3.1780538303479453 * 6.579251212010101) ) / ( (4 * 3.609214030403589) - (3.1780538303479453)² )\n",
            "a = (23.86697762412232 - 20.909214515150065) / (14.436856121614356 - 10.100026148589247)\n",
            "a = (2.957763108972255) / (4.336829973025109)\n",
            "a = 0.6820103917768072\n",
            "\n",
            "0.6820103917768072\n"
          ]
        },
        {
          "output_type": "execute_result",
          "data": {
            "text/plain": [
              "0.6820103917768072"
            ]
          },
          "metadata": {},
          "execution_count": 117
        }
      ]
    },
    {
      "cell_type": "markdown",
      "source": [
        "####Aplicando a equação F!!!\n",
        "\n",
        "F) b = (ΣxΣxy - ΣyΣx²) / (Σx)² - nΣx²"
      ],
      "metadata": {
        "id": "dJeBnLPomiMn"
      }
    },
    {
      "cell_type": "code",
      "source": [
        "#   Em Potência, com Logarítmo de 'x' e 'y'\n",
        "b_pt = ((s_xlt * s_xlylt) - (s_ylt * s_x2lt)) / (np.square(s_xlt) - (n_t * s_x2lt))\n",
        "print(b_pt)\n",
        "\n",
        "print(\"Equação de \\nb = ( ({} * {}) - ({} * {}) ) / ( ({})² - ({} * {}) )\".format(s_xlt, s_xlylt, s_ylt, s_x2lt, s_xlt, n_t, s_x2lt) )\n",
        "print(\"b = ({} - {}) / ({} - {})\".format((s_xlt * s_xlylt), (s_ylt * s_x2lt), np.square(s_xlt), (n_t * s_x2lt)))\n",
        "print(\"b = ({}) / ({})\".format((s_xlt * s_xlylt) - (s_ylt * s_x2lt), np.square(s_xlt) - (n_t * s_x2lt)))\n",
        "print(\"b = ({})\".format(((s_xlt * s_xlylt) - (s_ylt * s_x2lt)) / (np.square(s_xlt) - (n_t * s_x2lt))))\n",
        "print(\"b = {}\".format(b_pt))\n",
        "\n",
        "b_pt1 = np.exp(b_pt)\n",
        "print(\"\\nB = {}\".format(b_pt1))"
      ],
      "metadata": {
        "colab": {
          "base_uri": "https://localhost:8080/"
        },
        "outputId": "aae33c5d-48cc-4f07-9d51-898f86ab1c8c",
        "id": "_ySGWs-5miMo"
      },
      "execution_count": null,
      "outputs": [
        {
          "output_type": "stream",
          "name": "stdout",
          "text": [
            "1.1029463685216792\n",
            "Equação de \n",
            "b = ( (3.1780538303479453 * 5.96674440603058) - (6.579251212010101 * 3.609214030403589) ) / ( (3.1780538303479453)² - (4 * 3.609214030403589) )\n",
            "b = (18.96263491429266 - 23.745925783936677) / (10.100026148589247 - 14.436856121614356)\n",
            "b = (-4.783290869644016) / (-4.336829973025109)\n",
            "b = (1.1029463685216792)\n",
            "b = 1.1029463685216792\n",
            "\n",
            "B = 3.013030456683334\n"
          ]
        }
      ]
    },
    {
      "cell_type": "markdown",
      "source": [
        "####Aplicandoa função de Regressão Potência!!!\n",
        "g(x) = b.x^a"
      ],
      "metadata": {
        "id": "XijtZ5SdmKT0"
      }
    },
    {
      "cell_type": "code",
      "source": [
        "ixp = 0\n",
        "#g(x) = b.x^a\n",
        "def pot(b, a, x, ixp):\n",
        "  g = b * np.power(x[ixp], a)\n",
        "  return g\n",
        "\n",
        "#pot(b_, a_, xe, 1)"
      ],
      "metadata": {
        "id": "nhqHhhh-9Atu"
      },
      "execution_count": null,
      "outputs": []
    },
    {
      "cell_type": "code",
      "source": [
        "#g(x) = b.x^a\n",
        "b_et1 = 3.0078\n",
        "g = b_et1 * np.power(x_teste[2], a_pt)\n",
        "\n",
        "print(\"{} * ({} ^ {})\".format(b_et1, x_teste[2], a_pt))\n",
        "print(g)\n",
        "\n",
        "pot(b_pt1, a_pt, x_teste, 2)"
      ],
      "metadata": {
        "colab": {
          "base_uri": "https://localhost:8080/"
        },
        "outputId": "23e48df9-398a-4a7b-f90b-968e024e46dc",
        "id": "ItPNYMpG9Atu"
      },
      "execution_count": null,
      "outputs": [
        {
          "output_type": "stream",
          "name": "stdout",
          "text": [
            "3.0078 * (3 ^ 0.6820103917768072)\n",
            "6.362834231184015\n"
          ]
        },
        {
          "output_type": "execute_result",
          "data": {
            "text/plain": [
              "6.373898972466495"
            ]
          },
          "metadata": {},
          "execution_count": 121
        }
      ]
    },
    {
      "cell_type": "markdown",
      "source": [
        "####Outros testes"
      ],
      "metadata": {
        "id": "aTl8bdOB9Aty"
      }
    },
    {
      "cell_type": "code",
      "source": [
        "#x_p = np.emath.power(x,2)\n",
        "#x_p = np.power(x, 2)\n",
        "#x_p1 = np.emath.power(x_,2)\n",
        "#print(\"'x' elevadoa a 2ª potência: {} \\n'x_' elevadoa a 2ª potência: {}\".format(x_p, x_p1) )"
      ],
      "metadata": {
        "id": "1ZZzyAhA9Aty"
      },
      "execution_count": null,
      "outputs": []
    },
    {
      "cell_type": "markdown",
      "source": [
        "###R²"
      ],
      "metadata": {
        "id": "CMJUQ_oXD7_B"
      }
    },
    {
      "cell_type": "markdown",
      "source": [
        "####R² - Regressão Linear!!!\n",
        "R² = SQReq / SQTot"
      ],
      "metadata": {
        "id": "_lXlxuu2G-Im"
      }
    },
    {
      "cell_type": "code",
      "source": [
        "#     Apresentando os dados\n",
        "print(\"a = {}\\nb = {}\".format(a_t, b_t))\n",
        "\n",
        "#Definindo Y\n",
        "Y_r2t = s_yt / n_t\n",
        "print(\"Y = {} / {}\".format(s_yt, n_t))\n",
        "Y_r2t"
      ],
      "metadata": {
        "colab": {
          "base_uri": "https://localhost:8080/"
        },
        "id": "h0dyRznrHdw7",
        "outputId": "dc01a3b5-218b-4c22-bd1c-f2fcc2417d9b"
      },
      "execution_count": null,
      "outputs": [
        {
          "output_type": "stream",
          "name": "stdout",
          "text": [
            "a = 1.6\n",
            "b = 1.5\n",
            "Y = 22 / 4\n"
          ]
        },
        {
          "output_type": "execute_result",
          "data": {
            "text/plain": [
              "5.5"
            ]
          },
          "metadata": {},
          "execution_count": 156
        }
      ]
    },
    {
      "cell_type": "code",
      "source": [
        "#SQReq = (g(x) - Y)²\n",
        "SQReq_t = np.square(fx_t - Y_r2t)\n",
        "print(\"Array de SQReq:\\n\", SQReq_t)\n",
        "\n",
        "s_SQReq_t = np.sum(SQReq_t)\n",
        "print(\"Somatória de SQReq: \", s_SQReq_t)"
      ],
      "metadata": {
        "colab": {
          "base_uri": "https://localhost:8080/"
        },
        "id": "1C3DSRjfI-yD",
        "outputId": "0c212196-1d6a-4c2c-efed-1e0247a0e1c1"
      },
      "execution_count": null,
      "outputs": [
        {
          "output_type": "stream",
          "name": "stdout",
          "text": [
            "Array de SQReq:\n",
            " [5.76 0.64 0.64 5.76]\n",
            "Somatória de SQReq:  12.800000000000002\n"
          ]
        }
      ]
    },
    {
      "cell_type": "code",
      "source": [
        "#SQTot = (yi - Y)²\n",
        "SQTot_t = np.square(y_teste - Y_r2t)\n",
        "print(\"Array de SQTot:\\n\", SQTot_t)\n",
        "\n",
        "s_SQTot_t = np.sum(SQTot_t)\n",
        "print(\"Somatória de SQTot_t: \", s_SQTot_t)"
      ],
      "metadata": {
        "colab": {
          "base_uri": "https://localhost:8080/"
        },
        "id": "v9ytS8TMcn5W",
        "outputId": "7dc0aa2d-b204-4dee-864e-c8a9d44eb0e4"
      },
      "execution_count": null,
      "outputs": [
        {
          "output_type": "stream",
          "name": "stdout",
          "text": [
            "Array de SQTot:\n",
            " [6.25 0.25 0.25 6.25]\n",
            "Somatória de SQTot_t:  13.0\n"
          ]
        }
      ]
    },
    {
      "cell_type": "code",
      "source": [
        "#R² = SQReq / SQTot\n",
        "R2_t = s_SQReq_t / s_SQTot_t\n",
        "R2_t"
      ],
      "metadata": {
        "colab": {
          "base_uri": "https://localhost:8080/"
        },
        "id": "L-HVlSO3Gh7s",
        "outputId": "75fcc7ef-d757-4115-a7b9-90d12ed4dd83"
      },
      "execution_count": null,
      "outputs": [
        {
          "output_type": "execute_result",
          "data": {
            "text/plain": [
              "0.9846153846153848"
            ]
          },
          "metadata": {},
          "execution_count": 143
        }
      ]
    },
    {
      "cell_type": "markdown",
      "source": [
        "####R² - Regressão Logarítimica!!!\n",
        "R² = SQReq / SQTot"
      ],
      "metadata": {
        "id": "0sOM5A7FeW_q"
      }
    },
    {
      "cell_type": "code",
      "source": [
        "#     Apresentando os dados\n",
        "print(\"a = {}\\nb = {}\".format(a_lt, b_lt))\n",
        "\n",
        "#Definindo Y\n",
        "Y_r2t = s_yt / n_t\n",
        "print(\"Y = {} / {}\".format(s_yt, n_t))\n",
        "Y_r2t"
      ],
      "metadata": {
        "colab": {
          "base_uri": "https://localhost:8080/"
        },
        "outputId": "f0a3ed24-6088-4e89-8fa0-40453b9e6ef1",
        "id": "E8mobKEZeW_r"
      },
      "execution_count": null,
      "outputs": [
        {
          "output_type": "stream",
          "name": "stdout",
          "text": [
            "a = 3.383548333387773\n",
            "b = 2.8117253147273953\n",
            "Y = 22 / 4\n"
          ]
        },
        {
          "output_type": "execute_result",
          "data": {
            "text/plain": [
              "5.5"
            ]
          },
          "metadata": {},
          "execution_count": 155
        }
      ]
    },
    {
      "cell_type": "code",
      "source": [
        "#SQReq = (g(ln(x)) - Y)²\n",
        "SQReq_lt = np.square(fln(a_lt, x_teste, b_lt) - Y_r2t)\n",
        "print(\"Array de SQReq:\\n\", SQReq_lt)\n",
        "\n",
        "s_SQReq_lt = np.sum(SQReq_lt)\n",
        "print(\"Somatória de SQReq: \", s_SQReq_lt)"
      ],
      "metadata": {
        "colab": {
          "base_uri": "https://localhost:8080/"
        },
        "outputId": "763de555-30d3-4f6a-aed1-0a477e973718",
        "id": "Djc_2YbzeW_u"
      },
      "execution_count": null,
      "outputs": [
        {
          "output_type": "stream",
          "name": "stdout",
          "text": [
            "Array de SQReq:\n",
            " [7.22682078 0.1176337  1.05870331 4.00928254]\n",
            "Somatória de SQReq:  12.412440333273329\n"
          ]
        }
      ]
    },
    {
      "cell_type": "code",
      "source": [
        "#SQTot = (yi - Y)²\n",
        "SQTot_t = np.square(y_teste - Y_r2t)\n",
        "print(\"Array de SQTot:\\n\", SQTot_t)\n",
        "\n",
        "s_SQTot_t = np.sum(SQTot_t)\n",
        "print(\"Somatória de SQTot: \", s_SQTot_t)"
      ],
      "metadata": {
        "colab": {
          "base_uri": "https://localhost:8080/"
        },
        "outputId": "5199d4fc-5c8a-4de2-9c34-efad852dfa16",
        "id": "FPfXVLyueW_w"
      },
      "execution_count": null,
      "outputs": [
        {
          "output_type": "stream",
          "name": "stdout",
          "text": [
            "Array de SQTot:\n",
            " [6.25 0.25 0.25 6.25]\n",
            "Somatória de SQTot:  13.0\n"
          ]
        }
      ]
    },
    {
      "cell_type": "code",
      "source": [
        "#R² = SQReq / SQTot\n",
        "R2_t = s_SQReq_lt / s_SQTot_t\n",
        "R2_t"
      ],
      "metadata": {
        "colab": {
          "base_uri": "https://localhost:8080/"
        },
        "outputId": "9e262baa-bb0d-42f3-96cc-20de84670cf7",
        "id": "Vt5MgyVAeW_y"
      },
      "execution_count": null,
      "outputs": [
        {
          "output_type": "execute_result",
          "data": {
            "text/plain": [
              "0.9548031025594869"
            ]
          },
          "metadata": {},
          "execution_count": 153
        }
      ]
    },
    {
      "cell_type": "markdown",
      "source": [
        "####R² - Regressão Exponencial!!!\n",
        "R² = SQReq / SQTot"
      ],
      "metadata": {
        "id": "BbPIUvGVi9T0"
      }
    },
    {
      "cell_type": "code",
      "source": [
        "#     Apresentando os dados\n",
        "print(\"a = {}\\nb = {}\".format(a_et, b_et))\n",
        "\n",
        "#Definindo Y\n",
        "Y_r2et = s_ylt / n_t\n",
        "print(\"Y = {} / {}\".format(s_ylt, n_t))\n",
        "Y_r2et"
      ],
      "metadata": {
        "colab": {
          "base_uri": "https://localhost:8080/"
        },
        "outputId": "71316339-c342-4e41-c14c-4339a9ccf1d6",
        "id": "3wjrxyZqi9T2"
      },
      "execution_count": null,
      "outputs": [
        {
          "output_type": "stream",
          "name": "stdout",
          "text": [
            "a = 0.31248093158291324\n",
            "b = 0.8636104740452424\n",
            "Y = 6.579251212010101 / 4\n"
          ]
        },
        {
          "output_type": "execute_result",
          "data": {
            "text/plain": [
              "1.6448128030025253"
            ]
          },
          "metadata": {},
          "execution_count": 178
        }
      ]
    },
    {
      "cell_type": "code",
      "source": [
        "#SQReq = (g(x) - Y)²\n",
        "SQReq_et = np.square( fx(a_et, x_teste, b_et) - Y_r2et)\n",
        "print(\"Array de SQReq:\\n\", SQReq_et)\n",
        "\n",
        "s_SQReq_et = np.sum(SQReq_et)\n",
        "print(\"Somatória de SQReq: \", s_SQReq_et)"
      ],
      "metadata": {
        "colab": {
          "base_uri": "https://localhost:8080/"
        },
        "outputId": "dbb463df-23e5-4df2-ecaa-b80a79b75dd6",
        "id": "ZCuBUZ2gi9T4"
      },
      "execution_count": null,
      "outputs": [
        {
          "output_type": "stream",
          "name": "stdout",
          "text": [
            "Array de SQReq:\n",
            " [0.21969975 0.02441108 0.02441108 0.21969975]\n",
            "Somatória de SQReq:  0.48822166301462644\n"
          ]
        }
      ]
    },
    {
      "cell_type": "code",
      "source": [
        "#SQTot = (yi - Y)²\n",
        "SQTot_et = np.square(y_lt - Y_r2et)\n",
        "print(\"Array de SQTot:\\n\", SQTot_et)\n",
        "\n",
        "s_SQTot_et = np.sum(SQTot_et)\n",
        "print(\"Somatória de SQTot: \", s_SQTot_et)"
      ],
      "metadata": {
        "colab": {
          "base_uri": "https://localhost:8080/"
        },
        "outputId": "637ac4b4-e79d-47b9-82d2-7505341b643b",
        "id": "s1SW78Qii9T5"
      },
      "execution_count": null,
      "outputs": [
        {
          "output_type": "stream",
          "name": "stdout",
          "text": [
            "Array de SQTot:\n",
            " [0.298335   0.00125138 0.02159332 0.18890214]\n",
            "Somatória de SQTot:  0.510081847940935\n"
          ]
        }
      ]
    },
    {
      "cell_type": "code",
      "source": [
        "#R² = SQReq / SQTot\n",
        "R2_et = s_SQReq_et / s_SQTot_et\n",
        "R2_et"
      ],
      "metadata": {
        "colab": {
          "base_uri": "https://localhost:8080/"
        },
        "outputId": "d6a0ac3b-08cf-4331-9a58-5612b60cde03",
        "id": "vmUIgFDSi9T6"
      },
      "execution_count": null,
      "outputs": [
        {
          "output_type": "execute_result",
          "data": {
            "text/plain": [
              "0.9571437701330633"
            ]
          },
          "metadata": {},
          "execution_count": 187
        }
      ]
    },
    {
      "cell_type": "markdown",
      "source": [
        "####R² - Regressão Potência\n",
        "R² = SQReq / SQTot"
      ],
      "metadata": {
        "id": "nBPRvRG2wv7j"
      }
    },
    {
      "cell_type": "code",
      "source": [
        "#     Apresentando os dados\n",
        "print(\"a = {}\\nb = {}\".format(a_pt, b_pt))\n",
        "\n",
        "#Definindo Y\n",
        "Y_r2pt = s_ylt / n_t\n",
        "print(\"Y = {} / {}\".format(s_ylt, n_t))\n",
        "Y_r2pt"
      ],
      "metadata": {
        "colab": {
          "base_uri": "https://localhost:8080/"
        },
        "outputId": "c9310bd1-a2df-4ace-c328-0057b22ca55e",
        "id": "fn5wY-9awv7k"
      },
      "execution_count": null,
      "outputs": [
        {
          "output_type": "stream",
          "name": "stdout",
          "text": [
            "a = 0.6820103917768072\n",
            "b = 1.1029463685216792\n",
            "Y = 6.579251212010101 / 4\n"
          ]
        },
        {
          "output_type": "execute_result",
          "data": {
            "text/plain": [
              "1.6448128030025253"
            ]
          },
          "metadata": {},
          "execution_count": 188
        }
      ]
    },
    {
      "cell_type": "code",
      "source": [
        "#SQReq = (g(x) - Y)²\n",
        "SQReq_pt = np.square( fx(a_pt, x_teste, b_pt) - Y_r2pt)\n",
        "print(\"Array de SQReq:\\n\", SQReq_pt)\n",
        "\n",
        "s_SQReq_pt = np.sum(SQReq_pt)\n",
        "print(\"Somatória de SQReq: \", s_SQReq_pt)"
      ],
      "metadata": {
        "colab": {
          "base_uri": "https://localhost:8080/"
        },
        "outputId": "6709a27f-996c-4edc-8925-9cf8e2818abf",
        "id": "ZLrBZDsUwv7l"
      },
      "execution_count": null,
      "outputs": [
        {
          "output_type": "stream",
          "name": "stdout",
          "text": [
            "Array de SQReq:\n",
            " [0.01964033 0.67593777 2.26251157 4.77936171]\n",
            "Somatória de SQReq:  7.737451380594893\n"
          ]
        }
      ]
    },
    {
      "cell_type": "code",
      "source": [
        "#SQTot = (yi - Y)²\n",
        "SQTot_pt = np.square(y_lt - Y_r2pt)\n",
        "print(\"Array de SQTot:\\n\", SQTot_pt)\n",
        "\n",
        "s_SQTot_pt = np.sum(SQTot_pt)\n",
        "print(\"Somatória de SQTot: \", s_SQTot_pt)"
      ],
      "metadata": {
        "colab": {
          "base_uri": "https://localhost:8080/"
        },
        "outputId": "e33d4787-bdd8-4611-9272-466856fa3f6b",
        "id": "VjP2ddanwv7m"
      },
      "execution_count": null,
      "outputs": [
        {
          "output_type": "stream",
          "name": "stdout",
          "text": [
            "Array de SQTot:\n",
            " [0.298335   0.00125138 0.02159332 0.18890214]\n",
            "Somatória de SQTot:  0.510081847940935\n"
          ]
        }
      ]
    },
    {
      "cell_type": "code",
      "source": [
        "#R² = SQReq / SQTot\n",
        "R2_pt = s_SQReq_pt / s_SQTot_pt\n",
        "R2_pt"
      ],
      "metadata": {
        "colab": {
          "base_uri": "https://localhost:8080/"
        },
        "outputId": "ded3f2b8-8f9d-41b6-82cd-424a8ae76b41",
        "id": "FG84Hw7nwv7n"
      },
      "execution_count": null,
      "outputs": [
        {
          "output_type": "execute_result",
          "data": {
            "text/plain": [
              "15.169038874504022"
            ]
          },
          "metadata": {},
          "execution_count": 194
        }
      ]
    },
    {
      "cell_type": "markdown",
      "source": [
        "##Testes complementares com OLS Regression Results (Ordinary Least Squares)"
      ],
      "metadata": {
        "id": "NTgPWZm3I4Lf"
      }
    },
    {
      "cell_type": "code",
      "source": [
        "Z = xe[:, np.newaxis] ** [1, 0]"
      ],
      "metadata": {
        "id": "nW9FoB70It6O"
      },
      "execution_count": null,
      "outputs": []
    },
    {
      "cell_type": "code",
      "source": [
        "#import statsmodels.api as sm\n",
        "modelOLS = sm.OLS(x_, Z)"
      ],
      "metadata": {
        "id": "Td4IHvgHIxu_"
      },
      "execution_count": null,
      "outputs": []
    },
    {
      "cell_type": "code",
      "source": [
        "results = modelOLS.fit()\n",
        "print(results.summary())"
      ],
      "metadata": {
        "colab": {
          "base_uri": "https://localhost:8080/"
        },
        "id": "FufDBa_LI2N1",
        "outputId": "3dd2c331-5c6f-4958-c949-503fd9070232"
      },
      "execution_count": null,
      "outputs": [
        {
          "output_type": "stream",
          "name": "stdout",
          "text": [
            "                            OLS Regression Results                            \n",
            "==============================================================================\n",
            "Dep. Variable:                      y   R-squared:                       1.000\n",
            "Model:                            OLS   Adj. R-squared:                  1.000\n",
            "Method:                 Least Squares   F-statistic:                 3.110e+25\n",
            "Date:                Wed, 30 Nov 2022   Prob (F-statistic):          8.46e-124\n",
            "Time:                        20:30:05   Log-Likelihood:                 285.76\n",
            "No. Observations:                  12   AIC:                            -567.5\n",
            "Df Residuals:                      10   BIC:                            -566.6\n",
            "Df Model:                           1                                         \n",
            "Covariance Type:            nonrobust                                         \n",
            "==============================================================================\n",
            "                 coef    std err          t      P>|t|      [0.025      0.975]\n",
            "------------------------------------------------------------------------------\n",
            "x1             1.0000   1.79e-13   5.58e+12      0.000       1.000       1.000\n",
            "const      -1.455e-11   3.57e-10     -0.041      0.968    -8.1e-10    7.81e-10\n",
            "==============================================================================\n",
            "Omnibus:                       12.271   Durbin-Watson:                   0.000\n",
            "Prob(Omnibus):                  0.002   Jarque-Bera (JB):                2.007\n",
            "Skew:                           0.338   Prob(JB):                        0.367\n",
            "Kurtosis:                       1.114   Cond. No.                     2.04e+05\n",
            "==============================================================================\n",
            "\n",
            "Notes:\n",
            "[1] Standard Errors assume that the covariance matrix of the errors is correctly specified.\n",
            "[2] The condition number is large, 2.04e+05. This might indicate that there are\n",
            "strong multicollinearity or other numerical problems.\n"
          ]
        }
      ]
    },
    {
      "cell_type": "code",
      "source": [
        "AB_ = results.params\n",
        "A_ = AB_[0]\n",
        "B_ = AB_[1]"
      ],
      "metadata": {
        "id": "SrWaEp-GKP67"
      },
      "execution_count": null,
      "outputs": []
    },
    {
      "cell_type": "code",
      "source": [
        "print(\"Taxa CO2:\")\n",
        "print(\n",
        "    \"\\tx{:.2f} +/- {:.2f} CO2 a cada 5 anos\".format(\n",
        "        np.exp((A_) * 5), 5 * A_ * np.exp(5 * A_) * 0.006\n",
        "    )\n",
        ")\n"
      ],
      "metadata": {
        "colab": {
          "base_uri": "https://localhost:8080/"
        },
        "id": "-Ox-JhFLKTwL",
        "outputId": "9094a42d-6aed-4722-a623-34d662901182"
      },
      "execution_count": null,
      "outputs": [
        {
          "output_type": "stream",
          "name": "stdout",
          "text": [
            "Taxa CO2:\n",
            "\tx148.41 +/- 4.45 CO2 a cada 5 anos\n"
          ]
        }
      ]
    },
    {
      "cell_type": "code",
      "source": [
        "co2_predicted = np.exp(B_) * np.exp(A_ * x_)\n",
        "#transistor_Moores_law = Moores_law(x)\n",
        "plt.style.use(\"fivethirtyeight\")\n",
        "plt.semilogy(x_, ye, \"s\", label=\"Taxa de CO2\")\n",
        "plt.semilogy(x_, co2_predicted, label=\"Regressão Linear\")\n",
        "\n",
        "\n",
        "#plt.plot(x, transistor_Moores_law, label=\"Predição de CO2\")\n",
        "plt.title(\n",
        "    \"Índices de CO2 na atmosfera\\n\"\n",
        "    + \"Cada 5 anos \\n\"\n",
        "    + \"Maior índice de CO2 foi em x:{:.2f}\".format(np.exp(A_ * 2))\n",
        ")\n",
        "plt.xlabel(\"Anos\")\n",
        "plt.legend(loc=\"center left\", bbox_to_anchor=(1, 0.5))\n",
        "plt.ylabel(\"# Taxa de CO2\")"
      ],
      "metadata": {
        "colab": {
          "base_uri": "https://localhost:8080/",
          "height": 386
        },
        "id": "naJIxrz1Kv65",
        "outputId": "1599668f-5d6e-4b63-a69f-a8cd610a5d08"
      },
      "execution_count": null,
      "outputs": [
        {
          "output_type": "execute_result",
          "data": {
            "text/plain": [
              "Text(0, 0.5, '# Taxa de CO2')"
            ]
          },
          "metadata": {},
          "execution_count": 69
        },
        {
          "output_type": "display_data",
          "data": {
            "text/plain": [
              "<Figure size 432x288 with 1 Axes>"
            ],
            "image/png": "[encoded data removed]"
          },
          "metadata": {}
        }
      ]
    },
    {
      "cell_type": "code",
      "source": [
        "'''\n",
        "CO2_count2020 = y[x_ == 2020]\n",
        "print(\n",
        "    CO2_count2020.max(), CO2_count2020.min(), CO2_count2020.mean()\n",
        ")\n",
        "Y = np.linspace(1960.5, 2020.5)\n",
        "your_model2020 = np.exp(B) * np.exp(A * y)\n",
        "#Moore_Model2020 = Moores_law(y)\n",
        "\n",
        "plt.plot(\n",
        "    2020 * np.ones(np.sum(x == 2020)),\n",
        "    CO2_count2020,\n",
        "    \"ro\",\n",
        "    label=\"2020\",\n",
        "    alpha=0.2,\n",
        ")\n",
        "plt.plot(2017, CO2_count2020.mean(), \"g+\", markersize=20, mew=6)\n",
        "\n",
        "plt.plot(Y, your_model2020, label=\"Your prediction\")\n",
        "#plt.plot(Y, Moore_Model2017, label=\"Moores law\")\n",
        "plt.ylabel(\"# of transistors\\nper microprocessor\")\n",
        "plt.legend()\n",
        "'''"
      ],
      "metadata": {
        "colab": {
          "base_uri": "https://localhost:8080/",
          "height": 105
        },
        "id": "pkzdCdjfMfOu",
        "outputId": "c79140bc-850e-4ad1-e1d3-3b0a97c5c5bf"
      },
      "execution_count": null,
      "outputs": [
        {
          "output_type": "execute_result",
          "data": {
            "text/plain": [
              "'\\nCO2_count2020 = y[x_ == 2020]\\nprint(\\n    CO2_count2020.max(), CO2_count2020.min(), CO2_count2020.mean()\\n)\\nY = np.linspace(1960.5, 2020.5)\\nyour_model2020 = np.exp(B) * np.exp(A * y)\\n#Moore_Model2020 = Moores_law(y)\\n\\nplt.plot(\\n    2020 * np.ones(np.sum(x == 2020)),\\n    CO2_count2020,\\n    \"ro\",\\n    label=\"2020\",\\n    alpha=0.2,\\n)\\nplt.plot(2017, CO2_count2020.mean(), \"g+\", markersize=20, mew=6)\\n\\nplt.plot(Y, your_model2020, label=\"Your prediction\")\\n#plt.plot(Y, Moore_Model2017, label=\"Moores law\")\\nplt.ylabel(\"# of transistors\\nper microprocessor\")\\nplt.legend()\\n'"
            ],
            "application/vnd.google.colaboratory.intrinsic+json": {
              "type": "string"
            }
          },
          "metadata": {},
          "execution_count": 42
        }
      ]
    },
    {
      "cell_type": "markdown",
      "source": [
        "##Teste inválidos"
      ],
      "metadata": {
        "id": "XkIyMiE-mIjV"
      }
    },
    {
      "cell_type": "markdown",
      "source": [
        "###Redefinindo as variáveis!!!"
      ],
      "metadata": {
        "id": "5K6VvW4JHlZb"
      }
    },
    {
      "cell_type": "code",
      "source": [
        "#from pandas.core.arrays.sparse import array\n",
        "\n",
        "#   Valor de 'n'\n",
        "n_ = np.size(x)\n",
        "\n",
        "#   Somatótios de 'x'\n",
        "s_xl = sum(x_l)\n",
        "s_xp = sum(x_p)\n",
        "s_xe = sum(x_e)\n",
        "\n",
        "#   Somatório de 'y'\n",
        "s_y = sum(y)\n",
        "\n",
        "#   Somatórios de 'xy'\n",
        "s_xly = s_xl * s_y\n",
        "s_xpy = s_xp * s_y\n",
        "s_xey = s_xe * s_y\n",
        "\n",
        "#   Somatórios de 'x²'\n",
        "s_xl2 = np.square(s_xl)\n",
        "s_xp2 = np.square(s_xp)\n",
        "s_xe2 = np.square(s_xe)\n",
        "\n",
        "print(\"Valor de 'n': {} \\nSomatório de Logarítimo de 'x': {} \\nSomatório de 'x' na 2ª Potência: {} \\nSomatório de Exponencial de 'x': {} \\nSomatório de 'y': {} \\nSomatório de Logarítimo de 'xy': {} \\nSomatório de 'xy' na 2ª Potência: {} \\nSomatório de Exponencial de 'xy': {} \\nSomatório de Logarítimo de 'x²': {} \\nSomatório de 'x²' na 2ª Potência: {} \\nSomatório de Exponencial de 'x²': {}\".format(n_, x_l, x_p, x_e, s_y, s_xly, s_xpy, s_xey, s_xl2, s_xp2, s_xe2) )"
      ],
      "metadata": {
        "colab": {
          "base_uri": "https://localhost:8080/"
        },
        "outputId": "b808fda9-4217-4c42-a5ba-1031322e0dc2",
        "id": "etu2R7pOHlZd"
      },
      "execution_count": null,
      "outputs": [
        {
          "output_type": "stream",
          "name": "stdout",
          "text": [
            "Valor de 'n': 12 \n",
            "Somatório de Logarítimo de 'x': [7.58069975 7.58324752 7.58578882 7.58832368 7.59085212 7.59588992\n",
            " 7.59839933 7.60090246 7.60339934 7.60589    7.60837447 7.61085279] \n",
            "Somatório de 'x' na 2ª Potência: 0      3.834891e+06\n",
            "1      3.835213e+06\n",
            "2      3.835545e+06\n",
            "3      3.835867e+06\n",
            "4      3.836200e+06\n",
            "           ...     \n",
            "770    4.090338e+06\n",
            "771    4.090675e+06\n",
            "772    4.091012e+06\n",
            "773    4.091349e+06\n",
            "774    4.091686e+06\n",
            "Name: Dados decimais, Length: 775, dtype: float64 \n",
            "Somatório de Exponencial de 'x': 0      inf\n",
            "1      inf\n",
            "2      inf\n",
            "3      inf\n",
            "4      inf\n",
            "      ... \n",
            "770    inf\n",
            "771    inf\n",
            "772    inf\n",
            "773    inf\n",
            "774    inf\n",
            "Name: Dados decimais, Length: 775, dtype: float64 \n",
            "Somatório de 'y': 4302.9707 \n",
            "Somatório de Logarítimo de 'xy': 392227.0539980463 \n",
            "Somatório de 'xy' na 2ª Potência: 13214491720375.637 \n",
            "Somatório de Exponencial de 'xy': inf \n",
            "Somatório de Logarítimo de 'x²': 8308.80017141069 \n",
            "Somatório de 'x²' na 2ª Potência: 9.43113906263534e+18 \n",
            "Somatório de Exponencial de 'x²': inf\n"
          ]
        }
      ]
    },
    {
      "cell_type": "markdown",
      "source": [],
      "metadata": {
        "id": "aZvqL09NHdKC"
      }
    },
    {
      "cell_type": "markdown",
      "source": [
        "###Aplicando a equação D!!!\n",
        "\n",
        "D) a = (nΣxy - ΣxΣy) / nΣx² - (Σx)²"
      ],
      "metadata": {
        "id": "TQkuX-cIMlJn"
      }
    },
    {
      "cell_type": "code",
      "source": [
        "#   Com Logarítmo de 'x'\n",
        "a_l = (s_xly - (s_xl * s_y)) / (n_ * s_xl2) - np.square(s_xl)\n",
        "a_l"
      ],
      "metadata": {
        "colab": {
          "base_uri": "https://localhost:8080/"
        },
        "outputId": "130506ab-b971-4403-fa33-72b7cebef333",
        "id": "YX0wIxvXMlJp"
      },
      "execution_count": null,
      "outputs": [
        {
          "output_type": "execute_result",
          "data": {
            "text/plain": [
              "-34656667.33839759"
            ]
          },
          "metadata": {},
          "execution_count": 29
        }
      ]
    },
    {
      "cell_type": "code",
      "source": [
        "#   Com 'x' elevado a 2ª Potência\n",
        "a_p = (s_xpy - (s_xp * s_y)) / (n_ * s_xp2) - np.square(s_xp)\n",
        "a_p"
      ],
      "metadata": {
        "colab": {
          "base_uri": "https://localhost:8080/"
        },
        "id": "wEIWzQtEM6DZ",
        "outputId": "edbdfd08-fe71-4141-a62e-dabf731cc402"
      },
      "execution_count": null,
      "outputs": [
        {
          "output_type": "execute_result",
          "data": {
            "text/plain": [
              "-9.43113906263534e+18"
            ]
          },
          "metadata": {},
          "execution_count": 30
        }
      ]
    },
    {
      "cell_type": "code",
      "source": [
        "#   Com Exponencial de 'x'\n",
        "a_e = (s_xey - (s_xe * s_y)) / (n_ * s_xe2) - np.square(s_xe)\n",
        "a_e"
      ],
      "metadata": {
        "colab": {
          "base_uri": "https://localhost:8080/"
        },
        "id": "TTC0Lh68M73o",
        "outputId": "aa233343-e5a8-43e7-b0ca-ea4de381f417"
      },
      "execution_count": null,
      "outputs": [
        {
          "output_type": "execute_result",
          "data": {
            "text/plain": [
              "nan"
            ]
          },
          "metadata": {},
          "execution_count": 31
        }
      ]
    },
    {
      "cell_type": "markdown",
      "source": [
        "###Aplicando a equação F!!!\n",
        "\n",
        "F) b = (ΣxΣxy - ΣyΣx²) / (Σx)² - nΣx²"
      ],
      "metadata": {
        "id": "fRuV7BN8MlJp"
      }
    },
    {
      "cell_type": "code",
      "source": [
        "#   Com Logarítmo de 'x'\n",
        "b_l = ((s_xl * s_xly) - (s_y * s_xl2)) / s_xl2 - (n_ * s_xl2)\n",
        "b_l"
      ],
      "metadata": {
        "colab": {
          "base_uri": "https://localhost:8080/"
        },
        "outputId": "c5cff6fe-157f-45f4-b03c-08a59ff748d0",
        "id": "xlXljlchMlJq"
      },
      "execution_count": null,
      "outputs": [
        {
          "output_type": "execute_result",
          "data": {
            "text/plain": [
              "-26858917187.258133"
            ]
          },
          "metadata": {},
          "execution_count": 32
        }
      ]
    },
    {
      "cell_type": "code",
      "source": [
        "#   Com 'x' elevado a 2ª Potência\n",
        "b_p = ((s_xp * s_xpy) - (s_y * s_xp2)) / s_xp2 - (n_ * s_xp2)\n",
        "b_p"
      ],
      "metadata": {
        "colab": {
          "base_uri": "https://localhost:8080/"
        },
        "id": "Yzpdx_kvNRQu",
        "outputId": "1a3b9e63-d7aa-42e0-f62e-7b74bd40209c"
      },
      "execution_count": null,
      "outputs": [
        {
          "output_type": "execute_result",
          "data": {
            "text/plain": [
              "-7.309132773542388e+21"
            ]
          },
          "metadata": {},
          "execution_count": 33
        }
      ]
    },
    {
      "cell_type": "code",
      "source": [
        "#   Com Exponencial de 'x'\n",
        "b_e = ((s_xe * s_xey) - (s_y * s_xe2)) / s_xe2 - (n_ * s_xe2)\n",
        "b_e"
      ],
      "metadata": {
        "colab": {
          "base_uri": "https://localhost:8080/"
        },
        "id": "JJVbNuZjNSK-",
        "outputId": "fc109ead-b9da-4df6-f4e8-3e9efa1b1718"
      },
      "execution_count": null,
      "outputs": [
        {
          "output_type": "execute_result",
          "data": {
            "text/plain": [
              "nan"
            ]
          },
          "metadata": {},
          "execution_count": 34
        }
      ]
    }
  ]
}