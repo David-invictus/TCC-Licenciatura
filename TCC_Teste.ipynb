{
  "nbformat": 4,
  "nbformat_minor": 0,
  "metadata": {
    "colab": {
      "provenance": [],
      "mount_file_id": "1mGaN0cMCQV7zzKUK401mPxbQtmYcVe10",
      "authorship_tag": "ABX9TyOgtQ5RN0h++2LAc9Z9urlC",
      "include_colab_link": true
    },
    "kernelspec": {
      "name": "python3",
      "display_name": "Python 3"
    },
    "language_info": {
      "name": "python"
    }
  },
  "cells": [
    {
      "cell_type": "markdown",
      "metadata": {
        "id": "view-in-github",
        "colab_type": "text"
      },
      "source": [
        "<a href=\"https://colab.research.google.com/github/David-invictus/TCC-Licenciatura/blob/main/TCC_Teste.ipynb\" target=\"_parent\"><img src=\"https://colab.research.google.com/assets/colab-badge.svg\" alt=\"Open In Colab\"/></a>"
      ]
    },
    {
      "cell_type": "markdown",
      "source": [
        "#Testes para o TCC"
      ],
      "metadata": {
        "id": "8mIQHiGrh2uD"
      }
    },
    {
      "cell_type": "markdown",
      "source": [
        "##Testes com os dados do TCC"
      ],
      "metadata": {
        "id": "qmY1sbmAhi8Y"
      }
    },
    {
      "cell_type": "markdown",
      "source": [
        "###Importações"
      ],
      "metadata": {
        "id": "eVN8bosz4520"
      }
    },
    {
      "cell_type": "code",
      "source": [
        "#   Importamos o Warnings para previnir alertas desnecessários.\n",
        "import warnings\n",
        "warnings.filterwarnings(\"ignore\")\n",
        "\n",
        "#   Importamos a biblioteca Pandas para trabalhar com os dados\n",
        "import pandas as pd\n",
        "\n",
        "#   Importamos a biblioteca SkLearn para ver se dá certo...\n",
        "import sklearn as skl\n",
        "\n",
        "#   Importamos a biblioteca SeaBorn para desenhar melhor os gráficos\n",
        "import seaborn as sns\n",
        "\n",
        "#   Importamos a biblioteca NumPy\n",
        "import numpy as np\n",
        "\n",
        "#   Importamos a biblioteca MatPlotLib ...\n",
        "import matplotlib as mpl\n",
        "\n",
        "#   Importamos o PyPlot da biblioteca MatPlotLib ...\n",
        "import matplotlib.pyplot as plt\n",
        "\n",
        "#   Importamos a Stats da biblioteca SciPy ...\n",
        "import scipy.stats as st"
      ],
      "metadata": {
        "id": "d-rgxZqN57ui"
      },
      "execution_count": 1,
      "outputs": []
    },
    {
      "cell_type": "code",
      "execution_count": 4,
      "metadata": {
        "id": "ykVNpKlf4G6c"
      },
      "outputs": [],
      "source": [
        "#   Importamos o pacote LinearSVC da biblioteca svm do SkLearn, para gerar um Cérebro vázio.\n",
        "from sklearn.svm import LinearSVC\n",
        "\n",
        "#   Importamos o pacote train_test_split da biblioteca model_select do SkLearn, para separar os dados de Treino e Test\n",
        "from sklearn.model_selection import train_test_split\n",
        "\n",
        "#   Importamos o pacote Accuracy_Score da biblioteca Metrics do SkLearn, para ver a acurácia do modelo.\n",
        "from sklearn.metrics import accuracy_score\n",
        "\n",
        "#   Importamos o pacote StandardScaler da biblioteca Preprocessing do SkLearn, para normalizar os dados.\n",
        "from sklearn.preprocessing import StandardScaler\n",
        "\n",
        "#   Importamos a biblioteca DataSet do SkLearn\n",
        "from sklearn import datasets\n",
        "\n",
        "#   Importamos o pacote MLPClassifier da biblioteca Neural_Network do SkLearn\n",
        "from sklearn.neural_network import MLPClassifier\n",
        "\n",
        "#   Importamos o pacote GridSearchCV da biblioteca Model_Selection do SkLearn\n",
        "from sklearn.model_selection import GridSearchCV\n",
        "\n",
        "#   Importamos o pacote R2_Score da biblioteca Metrics do SkLearn\n",
        "from sklearn.metrics import r2_score\n",
        "\n",
        "#   Introduce algorithms. ------\n",
        "from sklearn.linear_model import RidgeCV, LassoCV, LinearRegression, ElasticNet\n",
        "\n",
        "#   Compared with SVC, it is the regression form of SVM. ----------\n",
        "from sklearn.svm import SVR\n",
        "\n",
        "#   Integrate algorithms.  ----\n",
        "from sklearn.ensemble import RandomForestRegressor, GradientBoostingRegressor\n",
        "from xgboost import XGBRegressor\n",
        "\n",
        "#   Vamos chamar o LinearSVC\n",
        "model = LinearSVC()\n",
        "\n",
        "#   Instanciamos um objeto da classe Scaler\n",
        "scaler = StandardScaler()\n",
        "\n",
        "#   Vamos chamar o separador de teste-treino\n",
        "#treino_x, test_x, treino_y, teste_y = train_test_split"
      ]
    },
    {
      "cell_type": "markdown",
      "source": [
        "###Começando a implementar..."
      ],
      "metadata": {
        "id": "xMPA4GVQJCcm"
      }
    },
    {
      "cell_type": "markdown",
      "source": [
        "####Importando e testando os dados"
      ],
      "metadata": {
        "id": "KffVn7an7P34"
      }
    },
    {
      "cell_type": "code",
      "source": [
        "#uri0 = \"https://gml.noaa.gov/webdata/ccgg/trends/co2/co2_mm_mlo.txt\"\n",
        "#uri1 = \"https://drive.google.com/file/d/1bxyBVw0JM0-0Z4mdnM4ORGde3TocRNa2/view?usp=share_link\"\n",
        "#uri2 = \"/home/invictus/Downloads/Dados_para_treinamento.csv\"\n",
        "#uri3 = \"https://github.com/David-invictus/TCC-Licenciatura/blob/c07e7ba3828aa650321d6eeb4659de90e3dea881/Dados_para_treinamento.csv\"\n",
        "\n",
        "#uri4 = \"/content/Dados_para_treinamento.csv\"\n",
        "uri5 = \"/content/drive/MyDrive/Graduação em Licenciatura da Computação - UFERSA (2018-2022)/Semestre 10 - 2022.2/10 - TCC/TCC/Dados_para_treinamento.csv\"\n",
        "\n",
        "#dados = pd.read_table(uri)\n",
        "dados = pd.read_csv(uri5)\n",
        "dados.head()"
      ],
      "metadata": {
        "colab": {
          "base_uri": "https://localhost:8080/",
          "height": 206
        },
        "id": "TYZlkcgo45E6",
        "outputId": "9d029a94-6a45-4f51-a5c3-0bf1fa290524"
      },
      "execution_count": 5,
      "outputs": [
        {
          "output_type": "execute_result",
          "data": {
            "text/plain": [
              "    year   month   decimal date   monthly average   de-season alized   days  \\\n",
              "0   1958       3      1958.2027            315.70             314.43     -1   \n",
              "1   1958       4      1958.2877            317.45             315.16     -1   \n",
              "2   1958       5      1958.3699            317.51             314.71     -1   \n",
              "3   1958       6      1958.4548            317.24             315.14     -1   \n",
              "4   1958       7      1958.5370            315.86             315.18     -1   \n",
              "\n",
              "    st.dev of days   unc. of mon mean  \n",
              "0            -9.99              -0.99  \n",
              "1            -9.99              -0.99  \n",
              "2            -9.99              -0.99  \n",
              "3            -9.99              -0.99  \n",
              "4            -9.99              -0.99  "
            ],
            "text/html": [
              "\n",
              "  <div id=\"df-e7cb754e-a079-4c1a-8fc0-212bbc1b9683\">\n",
              "    <div class=\"colab-df-container\">\n",
              "      <div>\n",
              "<style scoped>\n",
              "    .dataframe tbody tr th:only-of-type {\n",
              "        vertical-align: middle;\n",
              "    }\n",
              "\n",
              "    .dataframe tbody tr th {\n",
              "        vertical-align: top;\n",
              "    }\n",
              "\n",
              "    .dataframe thead th {\n",
              "        text-align: right;\n",
              "    }\n",
              "</style>\n",
              "<table border=\"1\" class=\"dataframe\">\n",
              "  <thead>\n",
              "    <tr style=\"text-align: right;\">\n",
              "      <th></th>\n",
              "      <th>year</th>\n",
              "      <th>month</th>\n",
              "      <th>decimal date</th>\n",
              "      <th>monthly average</th>\n",
              "      <th>de-season alized</th>\n",
              "      <th>days</th>\n",
              "      <th>st.dev of days</th>\n",
              "      <th>unc. of mon mean</th>\n",
              "    </tr>\n",
              "  </thead>\n",
              "  <tbody>\n",
              "    <tr>\n",
              "      <th>0</th>\n",
              "      <td>1958</td>\n",
              "      <td>3</td>\n",
              "      <td>1958.2027</td>\n",
              "      <td>315.70</td>\n",
              "      <td>314.43</td>\n",
              "      <td>-1</td>\n",
              "      <td>-9.99</td>\n",
              "      <td>-0.99</td>\n",
              "    </tr>\n",
              "    <tr>\n",
              "      <th>1</th>\n",
              "      <td>1958</td>\n",
              "      <td>4</td>\n",
              "      <td>1958.2877</td>\n",
              "      <td>317.45</td>\n",
              "      <td>315.16</td>\n",
              "      <td>-1</td>\n",
              "      <td>-9.99</td>\n",
              "      <td>-0.99</td>\n",
              "    </tr>\n",
              "    <tr>\n",
              "      <th>2</th>\n",
              "      <td>1958</td>\n",
              "      <td>5</td>\n",
              "      <td>1958.3699</td>\n",
              "      <td>317.51</td>\n",
              "      <td>314.71</td>\n",
              "      <td>-1</td>\n",
              "      <td>-9.99</td>\n",
              "      <td>-0.99</td>\n",
              "    </tr>\n",
              "    <tr>\n",
              "      <th>3</th>\n",
              "      <td>1958</td>\n",
              "      <td>6</td>\n",
              "      <td>1958.4548</td>\n",
              "      <td>317.24</td>\n",
              "      <td>315.14</td>\n",
              "      <td>-1</td>\n",
              "      <td>-9.99</td>\n",
              "      <td>-0.99</td>\n",
              "    </tr>\n",
              "    <tr>\n",
              "      <th>4</th>\n",
              "      <td>1958</td>\n",
              "      <td>7</td>\n",
              "      <td>1958.5370</td>\n",
              "      <td>315.86</td>\n",
              "      <td>315.18</td>\n",
              "      <td>-1</td>\n",
              "      <td>-9.99</td>\n",
              "      <td>-0.99</td>\n",
              "    </tr>\n",
              "  </tbody>\n",
              "</table>\n",
              "</div>\n",
              "      <button class=\"colab-df-convert\" onclick=\"convertToInteractive('df-e7cb754e-a079-4c1a-8fc0-212bbc1b9683')\"\n",
              "              title=\"Convert this dataframe to an interactive table.\"\n",
              "              style=\"display:none;\">\n",
              "        \n",
              "  <svg xmlns=\"http://www.w3.org/2000/svg\" height=\"24px\"viewBox=\"0 0 24 24\"\n",
              "       width=\"24px\">\n",
              "    <path d=\"M0 0h24v24H0V0z\" fill=\"none\"/>\n",
              "    <path d=\"M18.56 5.44l.94 2.06.94-2.06 2.06-.94-2.06-.94-.94-2.06-.94 2.06-2.06.94zm-11 1L8.5 8.5l.94-2.06 2.06-.94-2.06-.94L8.5 2.5l-.94 2.06-2.06.94zm10 10l.94 2.06.94-2.06 2.06-.94-2.06-.94-.94-2.06-.94 2.06-2.06.94z\"/><path d=\"M17.41 7.96l-1.37-1.37c-.4-.4-.92-.59-1.43-.59-.52 0-1.04.2-1.43.59L10.3 9.45l-7.72 7.72c-.78.78-.78 2.05 0 2.83L4 21.41c.39.39.9.59 1.41.59.51 0 1.02-.2 1.41-.59l7.78-7.78 2.81-2.81c.8-.78.8-2.07 0-2.86zM5.41 20L4 18.59l7.72-7.72 1.47 1.35L5.41 20z\"/>\n",
              "  </svg>\n",
              "      </button>\n",
              "      \n",
              "  <style>\n",
              "    .colab-df-container {\n",
              "      display:flex;\n",
              "      flex-wrap:wrap;\n",
              "      gap: 12px;\n",
              "    }\n",
              "\n",
              "    .colab-df-convert {\n",
              "      background-color: #E8F0FE;\n",
              "      border: none;\n",
              "      border-radius: 50%;\n",
              "      cursor: pointer;\n",
              "      display: none;\n",
              "      fill: #1967D2;\n",
              "      height: 32px;\n",
              "      padding: 0 0 0 0;\n",
              "      width: 32px;\n",
              "    }\n",
              "\n",
              "    .colab-df-convert:hover {\n",
              "      background-color: #E2EBFA;\n",
              "      box-shadow: 0px 1px 2px rgba(60, 64, 67, 0.3), 0px 1px 3px 1px rgba(60, 64, 67, 0.15);\n",
              "      fill: #174EA6;\n",
              "    }\n",
              "\n",
              "    [theme=dark] .colab-df-convert {\n",
              "      background-color: #3B4455;\n",
              "      fill: #D2E3FC;\n",
              "    }\n",
              "\n",
              "    [theme=dark] .colab-df-convert:hover {\n",
              "      background-color: #434B5C;\n",
              "      box-shadow: 0px 1px 3px 1px rgba(0, 0, 0, 0.15);\n",
              "      filter: drop-shadow(0px 1px 2px rgba(0, 0, 0, 0.3));\n",
              "      fill: #FFFFFF;\n",
              "    }\n",
              "  </style>\n",
              "\n",
              "      <script>\n",
              "        const buttonEl =\n",
              "          document.querySelector('#df-e7cb754e-a079-4c1a-8fc0-212bbc1b9683 button.colab-df-convert');\n",
              "        buttonEl.style.display =\n",
              "          google.colab.kernel.accessAllowed ? 'block' : 'none';\n",
              "\n",
              "        async function convertToInteractive(key) {\n",
              "          const element = document.querySelector('#df-e7cb754e-a079-4c1a-8fc0-212bbc1b9683');\n",
              "          const dataTable =\n",
              "            await google.colab.kernel.invokeFunction('convertToInteractive',\n",
              "                                                     [key], {});\n",
              "          if (!dataTable) return;\n",
              "\n",
              "          const docLinkHtml = 'Like what you see? Visit the ' +\n",
              "            '<a target=\"_blank\" href=https://colab.research.google.com/notebooks/data_table.ipynb>data table notebook</a>'\n",
              "            + ' to learn more about interactive tables.';\n",
              "          element.innerHTML = '';\n",
              "          dataTable['output_type'] = 'display_data';\n",
              "          await google.colab.output.renderOutput(dataTable, element);\n",
              "          const docLink = document.createElement('div');\n",
              "          docLink.innerHTML = docLinkHtml;\n",
              "          element.appendChild(docLink);\n",
              "        }\n",
              "      </script>\n",
              "    </div>\n",
              "  </div>\n",
              "  "
            ]
          },
          "metadata": {},
          "execution_count": 5
        }
      ]
    },
    {
      "cell_type": "code",
      "source": [
        "dados.columns"
      ],
      "metadata": {
        "colab": {
          "base_uri": "https://localhost:8080/"
        },
        "id": "mnPwta-jwcti",
        "outputId": "da754288-c112-414b-eac0-482efbe32cc0"
      },
      "execution_count": 6,
      "outputs": [
        {
          "output_type": "execute_result",
          "data": {
            "text/plain": [
              "Index([' year', ' month', ' decimal date', ' monthly average',\n",
              "       ' de-season alized', ' days', ' st.dev of days', ' unc. of mon mean'],\n",
              "      dtype='object')"
            ]
          },
          "metadata": {},
          "execution_count": 6
        }
      ]
    },
    {
      "cell_type": "markdown",
      "source": [
        "####Modificando os dados"
      ],
      "metadata": {
        "id": "nNvmTNBp7ckZ"
      }
    },
    {
      "cell_type": "code",
      "source": [
        "renomear = {\n",
        "    ' year' : 'Ano',\n",
        "    ' month' : 'Mês',\n",
        "    ' decimal date' : 'Dados decimais',\n",
        "    ' monthly average' : 'Média mês',\n",
        "    ' de-season alized' : 'Dados ajustados',\n",
        "    ' days' : 'Dias',\n",
        "    ' st.dev of days' : 'Desvio padrão-Dados',\n",
        "    ' unc. of mon mean' : 'Dados incertos'\n",
        "}\n",
        "\n",
        "dadosT = dados.rename(columns = renomear)\n",
        "dadosT.head(1)"
      ],
      "metadata": {
        "colab": {
          "base_uri": "https://localhost:8080/",
          "height": 81
        },
        "id": "RMLXPmNWwscJ",
        "outputId": "43cd2ecf-d786-4357-e57a-a86a28d21bac"
      },
      "execution_count": 7,
      "outputs": [
        {
          "output_type": "execute_result",
          "data": {
            "text/plain": [
              "    Ano  Mês  Dados decimais  Média mês  Dados ajustados  Dias  \\\n",
              "0  1958    3       1958.2027      315.7           314.43    -1   \n",
              "\n",
              "   Desvio padrão-Dados  Dados incertos  \n",
              "0                -9.99           -0.99  "
            ],
            "text/html": [
              "\n",
              "  <div id=\"df-42e001e9-5904-46bb-a6cf-960f7a6a9eb8\">\n",
              "    <div class=\"colab-df-container\">\n",
              "      <div>\n",
              "<style scoped>\n",
              "    .dataframe tbody tr th:only-of-type {\n",
              "        vertical-align: middle;\n",
              "    }\n",
              "\n",
              "    .dataframe tbody tr th {\n",
              "        vertical-align: top;\n",
              "    }\n",
              "\n",
              "    .dataframe thead th {\n",
              "        text-align: right;\n",
              "    }\n",
              "</style>\n",
              "<table border=\"1\" class=\"dataframe\">\n",
              "  <thead>\n",
              "    <tr style=\"text-align: right;\">\n",
              "      <th></th>\n",
              "      <th>Ano</th>\n",
              "      <th>Mês</th>\n",
              "      <th>Dados decimais</th>\n",
              "      <th>Média mês</th>\n",
              "      <th>Dados ajustados</th>\n",
              "      <th>Dias</th>\n",
              "      <th>Desvio padrão-Dados</th>\n",
              "      <th>Dados incertos</th>\n",
              "    </tr>\n",
              "  </thead>\n",
              "  <tbody>\n",
              "    <tr>\n",
              "      <th>0</th>\n",
              "      <td>1958</td>\n",
              "      <td>3</td>\n",
              "      <td>1958.2027</td>\n",
              "      <td>315.7</td>\n",
              "      <td>314.43</td>\n",
              "      <td>-1</td>\n",
              "      <td>-9.99</td>\n",
              "      <td>-0.99</td>\n",
              "    </tr>\n",
              "  </tbody>\n",
              "</table>\n",
              "</div>\n",
              "      <button class=\"colab-df-convert\" onclick=\"convertToInteractive('df-42e001e9-5904-46bb-a6cf-960f7a6a9eb8')\"\n",
              "              title=\"Convert this dataframe to an interactive table.\"\n",
              "              style=\"display:none;\">\n",
              "        \n",
              "  <svg xmlns=\"http://www.w3.org/2000/svg\" height=\"24px\"viewBox=\"0 0 24 24\"\n",
              "       width=\"24px\">\n",
              "    <path d=\"M0 0h24v24H0V0z\" fill=\"none\"/>\n",
              "    <path d=\"M18.56 5.44l.94 2.06.94-2.06 2.06-.94-2.06-.94-.94-2.06-.94 2.06-2.06.94zm-11 1L8.5 8.5l.94-2.06 2.06-.94-2.06-.94L8.5 2.5l-.94 2.06-2.06.94zm10 10l.94 2.06.94-2.06 2.06-.94-2.06-.94-.94-2.06-.94 2.06-2.06.94z\"/><path d=\"M17.41 7.96l-1.37-1.37c-.4-.4-.92-.59-1.43-.59-.52 0-1.04.2-1.43.59L10.3 9.45l-7.72 7.72c-.78.78-.78 2.05 0 2.83L4 21.41c.39.39.9.59 1.41.59.51 0 1.02-.2 1.41-.59l7.78-7.78 2.81-2.81c.8-.78.8-2.07 0-2.86zM5.41 20L4 18.59l7.72-7.72 1.47 1.35L5.41 20z\"/>\n",
              "  </svg>\n",
              "      </button>\n",
              "      \n",
              "  <style>\n",
              "    .colab-df-container {\n",
              "      display:flex;\n",
              "      flex-wrap:wrap;\n",
              "      gap: 12px;\n",
              "    }\n",
              "\n",
              "    .colab-df-convert {\n",
              "      background-color: #E8F0FE;\n",
              "      border: none;\n",
              "      border-radius: 50%;\n",
              "      cursor: pointer;\n",
              "      display: none;\n",
              "      fill: #1967D2;\n",
              "      height: 32px;\n",
              "      padding: 0 0 0 0;\n",
              "      width: 32px;\n",
              "    }\n",
              "\n",
              "    .colab-df-convert:hover {\n",
              "      background-color: #E2EBFA;\n",
              "      box-shadow: 0px 1px 2px rgba(60, 64, 67, 0.3), 0px 1px 3px 1px rgba(60, 64, 67, 0.15);\n",
              "      fill: #174EA6;\n",
              "    }\n",
              "\n",
              "    [theme=dark] .colab-df-convert {\n",
              "      background-color: #3B4455;\n",
              "      fill: #D2E3FC;\n",
              "    }\n",
              "\n",
              "    [theme=dark] .colab-df-convert:hover {\n",
              "      background-color: #434B5C;\n",
              "      box-shadow: 0px 1px 3px 1px rgba(0, 0, 0, 0.15);\n",
              "      filter: drop-shadow(0px 1px 2px rgba(0, 0, 0, 0.3));\n",
              "      fill: #FFFFFF;\n",
              "    }\n",
              "  </style>\n",
              "\n",
              "      <script>\n",
              "        const buttonEl =\n",
              "          document.querySelector('#df-42e001e9-5904-46bb-a6cf-960f7a6a9eb8 button.colab-df-convert');\n",
              "        buttonEl.style.display =\n",
              "          google.colab.kernel.accessAllowed ? 'block' : 'none';\n",
              "\n",
              "        async function convertToInteractive(key) {\n",
              "          const element = document.querySelector('#df-42e001e9-5904-46bb-a6cf-960f7a6a9eb8');\n",
              "          const dataTable =\n",
              "            await google.colab.kernel.invokeFunction('convertToInteractive',\n",
              "                                                     [key], {});\n",
              "          if (!dataTable) return;\n",
              "\n",
              "          const docLinkHtml = 'Like what you see? Visit the ' +\n",
              "            '<a target=\"_blank\" href=https://colab.research.google.com/notebooks/data_table.ipynb>data table notebook</a>'\n",
              "            + ' to learn more about interactive tables.';\n",
              "          element.innerHTML = '';\n",
              "          dataTable['output_type'] = 'display_data';\n",
              "          await google.colab.output.renderOutput(dataTable, element);\n",
              "          const docLink = document.createElement('div');\n",
              "          docLink.innerHTML = docLinkHtml;\n",
              "          element.appendChild(docLink);\n",
              "        }\n",
              "      </script>\n",
              "    </div>\n",
              "  </div>\n",
              "  "
            ]
          },
          "metadata": {},
          "execution_count": 7
        }
      ]
    },
    {
      "cell_type": "code",
      "source": [
        "#dadosT[['Ano', 'Mês', 'Dados decimais', 'Média mês', 'Dados ajustados']]"
      ],
      "metadata": {
        "id": "0q4Jnc3OJnnO"
      },
      "execution_count": null,
      "outputs": []
    },
    {
      "cell_type": "code",
      "source": [
        "#dadosC1 = dadosT[['Ano', 'Mês', 'Dados decimais', 'Média mês']]\n",
        "#dadosC1.head(1)\n",
        "\n",
        "dadosC = dadosT[['Ano', 'Mês', 'Dados decimais']]\n",
        "dadosC.head(1)"
      ],
      "metadata": {
        "colab": {
          "base_uri": "https://localhost:8080/",
          "height": 81
        },
        "id": "y5hji3JGf8c5",
        "outputId": "97bdfaf1-34f7-48fe-e836-c136dcd18954"
      },
      "execution_count": 8,
      "outputs": [
        {
          "output_type": "execute_result",
          "data": {
            "text/plain": [
              "    Ano  Mês  Dados decimais\n",
              "0  1958    3       1958.2027"
            ],
            "text/html": [
              "\n",
              "  <div id=\"df-6252b7b9-14de-4cdc-a328-ce600e417a4a\">\n",
              "    <div class=\"colab-df-container\">\n",
              "      <div>\n",
              "<style scoped>\n",
              "    .dataframe tbody tr th:only-of-type {\n",
              "        vertical-align: middle;\n",
              "    }\n",
              "\n",
              "    .dataframe tbody tr th {\n",
              "        vertical-align: top;\n",
              "    }\n",
              "\n",
              "    .dataframe thead th {\n",
              "        text-align: right;\n",
              "    }\n",
              "</style>\n",
              "<table border=\"1\" class=\"dataframe\">\n",
              "  <thead>\n",
              "    <tr style=\"text-align: right;\">\n",
              "      <th></th>\n",
              "      <th>Ano</th>\n",
              "      <th>Mês</th>\n",
              "      <th>Dados decimais</th>\n",
              "    </tr>\n",
              "  </thead>\n",
              "  <tbody>\n",
              "    <tr>\n",
              "      <th>0</th>\n",
              "      <td>1958</td>\n",
              "      <td>3</td>\n",
              "      <td>1958.2027</td>\n",
              "    </tr>\n",
              "  </tbody>\n",
              "</table>\n",
              "</div>\n",
              "      <button class=\"colab-df-convert\" onclick=\"convertToInteractive('df-6252b7b9-14de-4cdc-a328-ce600e417a4a')\"\n",
              "              title=\"Convert this dataframe to an interactive table.\"\n",
              "              style=\"display:none;\">\n",
              "        \n",
              "  <svg xmlns=\"http://www.w3.org/2000/svg\" height=\"24px\"viewBox=\"0 0 24 24\"\n",
              "       width=\"24px\">\n",
              "    <path d=\"M0 0h24v24H0V0z\" fill=\"none\"/>\n",
              "    <path d=\"M18.56 5.44l.94 2.06.94-2.06 2.06-.94-2.06-.94-.94-2.06-.94 2.06-2.06.94zm-11 1L8.5 8.5l.94-2.06 2.06-.94-2.06-.94L8.5 2.5l-.94 2.06-2.06.94zm10 10l.94 2.06.94-2.06 2.06-.94-2.06-.94-.94-2.06-.94 2.06-2.06.94z\"/><path d=\"M17.41 7.96l-1.37-1.37c-.4-.4-.92-.59-1.43-.59-.52 0-1.04.2-1.43.59L10.3 9.45l-7.72 7.72c-.78.78-.78 2.05 0 2.83L4 21.41c.39.39.9.59 1.41.59.51 0 1.02-.2 1.41-.59l7.78-7.78 2.81-2.81c.8-.78.8-2.07 0-2.86zM5.41 20L4 18.59l7.72-7.72 1.47 1.35L5.41 20z\"/>\n",
              "  </svg>\n",
              "      </button>\n",
              "      \n",
              "  <style>\n",
              "    .colab-df-container {\n",
              "      display:flex;\n",
              "      flex-wrap:wrap;\n",
              "      gap: 12px;\n",
              "    }\n",
              "\n",
              "    .colab-df-convert {\n",
              "      background-color: #E8F0FE;\n",
              "      border: none;\n",
              "      border-radius: 50%;\n",
              "      cursor: pointer;\n",
              "      display: none;\n",
              "      fill: #1967D2;\n",
              "      height: 32px;\n",
              "      padding: 0 0 0 0;\n",
              "      width: 32px;\n",
              "    }\n",
              "\n",
              "    .colab-df-convert:hover {\n",
              "      background-color: #E2EBFA;\n",
              "      box-shadow: 0px 1px 2px rgba(60, 64, 67, 0.3), 0px 1px 3px 1px rgba(60, 64, 67, 0.15);\n",
              "      fill: #174EA6;\n",
              "    }\n",
              "\n",
              "    [theme=dark] .colab-df-convert {\n",
              "      background-color: #3B4455;\n",
              "      fill: #D2E3FC;\n",
              "    }\n",
              "\n",
              "    [theme=dark] .colab-df-convert:hover {\n",
              "      background-color: #434B5C;\n",
              "      box-shadow: 0px 1px 3px 1px rgba(0, 0, 0, 0.15);\n",
              "      filter: drop-shadow(0px 1px 2px rgba(0, 0, 0, 0.3));\n",
              "      fill: #FFFFFF;\n",
              "    }\n",
              "  </style>\n",
              "\n",
              "      <script>\n",
              "        const buttonEl =\n",
              "          document.querySelector('#df-6252b7b9-14de-4cdc-a328-ce600e417a4a button.colab-df-convert');\n",
              "        buttonEl.style.display =\n",
              "          google.colab.kernel.accessAllowed ? 'block' : 'none';\n",
              "\n",
              "        async function convertToInteractive(key) {\n",
              "          const element = document.querySelector('#df-6252b7b9-14de-4cdc-a328-ce600e417a4a');\n",
              "          const dataTable =\n",
              "            await google.colab.kernel.invokeFunction('convertToInteractive',\n",
              "                                                     [key], {});\n",
              "          if (!dataTable) return;\n",
              "\n",
              "          const docLinkHtml = 'Like what you see? Visit the ' +\n",
              "            '<a target=\"_blank\" href=https://colab.research.google.com/notebooks/data_table.ipynb>data table notebook</a>'\n",
              "            + ' to learn more about interactive tables.';\n",
              "          element.innerHTML = '';\n",
              "          dataTable['output_type'] = 'display_data';\n",
              "          await google.colab.output.renderOutput(dataTable, element);\n",
              "          const docLink = document.createElement('div');\n",
              "          docLink.innerHTML = docLinkHtml;\n",
              "          element.appendChild(docLink);\n",
              "        }\n",
              "      </script>\n",
              "    </div>\n",
              "  </div>\n",
              "  "
            ]
          },
          "metadata": {},
          "execution_count": 8
        }
      ]
    },
    {
      "cell_type": "code",
      "source": [
        "#DAjust1 = dadosT['Dados ajustados']\n",
        "#DAjust1.head(1)\n",
        "\n",
        "DAjust = dadosT['Média mês']\n",
        "DAjust.head(1)"
      ],
      "metadata": {
        "colab": {
          "base_uri": "https://localhost:8080/"
        },
        "id": "T5jGfrQoivek",
        "outputId": "661a8a3a-6d49-459b-e9f7-e3a23145cf47"
      },
      "execution_count": 9,
      "outputs": [
        {
          "output_type": "execute_result",
          "data": {
            "text/plain": [
              "0    315.7\n",
              "Name: Média mês, dtype: float64"
            ]
          },
          "metadata": {},
          "execution_count": 9
        }
      ]
    },
    {
      "cell_type": "code",
      "source": [
        "#from pandas.core import describe\n",
        "#dadosT[dadosT.Dias == -1].describe()\n",
        "\n",
        "#dadosT['Desvio padrão-Dados']\n",
        "#DvPadrao = dadosT['Desvio padrão-Dados']\n",
        "#dadosT[DvPadrao == -9.99].describe()"
      ],
      "metadata": {
        "id": "8ho-6hPGQdVp"
      },
      "execution_count": null,
      "outputs": []
    },
    {
      "cell_type": "code",
      "source": [
        "#dadosT['Dias']\n",
        "#dadosT.columns\n",
        "dadosC.columns"
      ],
      "metadata": {
        "colab": {
          "base_uri": "https://localhost:8080/"
        },
        "id": "yhYXw5SS9M_A",
        "outputId": "d0c874d4-ce6b-4104-97d7-1231760b3b4c"
      },
      "execution_count": 10,
      "outputs": [
        {
          "output_type": "execute_result",
          "data": {
            "text/plain": [
              "Index(['Ano', 'Mês', 'Dados decimais'], dtype='object')"
            ]
          },
          "metadata": {},
          "execution_count": 10
        }
      ]
    },
    {
      "cell_type": "code",
      "source": [
        "#dados[10:20]\n",
        "#dadosT[:1]"
      ],
      "metadata": {
        "id": "hDxyJbDlL1ZI"
      },
      "execution_count": 12,
      "outputs": []
    },
    {
      "cell_type": "code",
      "source": [
        "#dados.sample(5)\n",
        "#dados.describe()\n",
        "#dados(\"\").hist() #Erro!"
      ],
      "metadata": {
        "id": "KMZL6vdUE4Fo"
      },
      "execution_count": null,
      "outputs": []
    },
    {
      "cell_type": "code",
      "source": [
        "#dadosT.sample(5)\n",
        "#dadosT.describe()\n",
        "#dadosT(\"\").hist() #Erro!"
      ],
      "metadata": {
        "id": "VsMsvE4mJcPW"
      },
      "execution_count": null,
      "outputs": []
    },
    {
      "cell_type": "markdown",
      "source": [
        "####Começando a trabalhar com os dados"
      ],
      "metadata": {
        "id": "POp0XeZ57yZe"
      }
    },
    {
      "cell_type": "code",
      "source": [
        "#from seaborn.relational import scatterplot\n",
        "#indCO2 = sns.scatterplot(x='Dados decimais', y='Média mês', data=dadosT)\n",
        "co2Ano = sns.scatterplot(x= 'Ano', y= 'Média mês', data = dadosT)"
      ],
      "metadata": {
        "colab": {
          "base_uri": "https://localhost:8080/",
          "height": 279
        },
        "id": "Lc1VqfGs3Fdh",
        "outputId": "937baa5a-87f0-4d9a-e2fa-5b81805b3169"
      },
      "execution_count": 14,
      "outputs": [
        {
          "output_type": "display_data",
          "data": {
            "text/plain": [
              "<Figure size 432x288 with 1 Axes>"
            ],
            "image/png": "[encoded data removed]"
          },
          "metadata": {
            "needs_background": "light"
          }
        }
      ]
    },
    {
      "cell_type": "code",
      "source": [
        "#indCO2_2 = sns.relplot(x= 'Dados decimais', y= 'Média mês', data= dadosT, palette= 'green', kind= 'line')\n",
        "co2Ano_2 = sns.relplot(x= 'Ano', y= 'Média mês', data = dadosT, palette= 'red', kind= 'line')"
      ],
      "metadata": {
        "colab": {
          "base_uri": "https://localhost:8080/",
          "height": 369
        },
        "id": "lWl6MrnQaVhd",
        "outputId": "a888b4ca-8e23-47f0-f332-374fcd9b57ec"
      },
      "execution_count": 17,
      "outputs": [
        {
          "output_type": "display_data",
          "data": {
            "text/plain": [
              "<Figure size 360x360 with 1 Axes>"
            ],
            "image/png": "[encoded data removed]"
          },
          "metadata": {
            "needs_background": "light"
          }
        }
      ]
    },
    {
      "cell_type": "code",
      "source": [
        "#print('A base de dados contém {} registros \\n'.format(dadosT.shape[0]))\n",
        "#print('Registros não nulos')\n",
        "#dadosT.count()\n",
        "\n",
        "print('A base de dados contém {} registros \\n'.format(dadosC.shape[0]))\n",
        "print('Registros não nulos')\n",
        "dadosC.count()"
      ],
      "metadata": {
        "colab": {
          "base_uri": "https://localhost:8080/"
        },
        "id": "3MIfnyiJ7MmV",
        "outputId": "91a7e637-da2e-4b20-bc87-9387a7d7cf32"
      },
      "execution_count": 18,
      "outputs": [
        {
          "output_type": "stream",
          "name": "stdout",
          "text": [
            "A base de dados contém 776 registros \n",
            "\n",
            "Registros não nulos\n"
          ]
        },
        {
          "output_type": "execute_result",
          "data": {
            "text/plain": [
              "Ano               776\n",
              "Mês               776\n",
              "Dados decimais    776\n",
              "dtype: int64"
            ]
          },
          "metadata": {},
          "execution_count": 18
        }
      ]
    },
    {
      "cell_type": "code",
      "source": [
        "#incerto = dadosT.query(\"Dias == -1\")\n",
        "#sns.distplot(incerto)"
      ],
      "metadata": {
        "id": "W38CtZe5DUuj"
      },
      "execution_count": null,
      "outputs": []
    },
    {
      "cell_type": "code",
      "source": [
        "#   x características e y etiqueta.\n",
        "x = dadosC\n",
        "y = DAjust\n",
        "\n",
        "#x.head(1)\n",
        "#y.head(1)"
      ],
      "metadata": {
        "id": "oTmWHQMT2mVt"
      },
      "execution_count": 22,
      "outputs": []
    },
    {
      "cell_type": "code",
      "source": [
        "#   Exibir atributos relacionados.\n",
        "print('Nome da coluna de características')\n",
        "#print(dadosC.feature_names) #Erro!\n",
        "print(\"Amostra de volume de dados: %d, número de características: %d\"% x.shape)\n",
        "print(\"Volume de dados das amostras de destino: %d\"% y.shape[0])"
      ],
      "metadata": {
        "colab": {
          "base_uri": "https://localhost:8080/"
        },
        "id": "lTNBoNF3gRBD",
        "outputId": "860fddce-755c-4b09-9c36-86df03adb3c3"
      },
      "execution_count": 23,
      "outputs": [
        {
          "output_type": "stream",
          "name": "stdout",
          "text": [
            "Nome da coluna de características\n",
            "Amostra de volume de dados: 776, número de características: 3\n",
            "Volume de dados das amostras de destino: 776\n"
          ]
        }
      ]
    },
    {
      "cell_type": "markdown",
      "source": [
        "####Trabalhando com aplicação  IA"
      ],
      "metadata": {
        "id": "oxia1XVF9LV6"
      }
    },
    {
      "cell_type": "code",
      "source": [
        "#   Não funcionou -------------------------------------------------------\n",
        "#from sklearn.svm import LinearSVC\n",
        "#modelo = LinearSVC()\n",
        "\n",
        "#model.fit(x, y)\n",
        "#modelo.fit(x, y) #Precisa modificar lá em cima.\n",
        "#previsoes = modelo.predict(x)\n",
        "#accuracy_score(y, previsoes) * 100\n",
        "#-----------------------------------------------------------------------\n",
        "\n",
        "#   segmentamos os dados\n",
        "treino_x, teste_x, treino_y, teste_y = train_test_split(x, y, test_size=0.2, random_state=28)\n",
        "treino_x\n",
        "#treino_x.shape\n",
        "#treino_y\n",
        "#treino_y.shape\n",
        "#teste_x\n",
        "#teste_x.shape\n",
        "#teste_y\n",
        "#teste_y.shape\n",
        "print('Os dados de treino em X tem:', treino_x.shape,\n",
        "      '\\nOs dados de treino em Y tem:', treino_y.shape,\n",
        "      '\\nOs dados de teste em X tem:', teste_x.shape,\n",
        "      '\\nOs dados de teste em Y tem:', teste_y.shape)\n",
        "\n",
        "#   Não funcionou, também -----------------------------------------------\n",
        "#modelo.fit(treino_x, treino_y)\n",
        "\n",
        "#previsoes = modelo.predict(teste_x)\n",
        "#accuracy_score(teste_y, previsoes) * 100\n",
        "#-----------------------------------------------------------------------\n",
        "\n",
        "#   Padronizamos os dados\n",
        "treino_x = scaler.fit_transform(treino_x)\n",
        "#treino_x[:5]\n",
        "teste_x = scaler.fit_transform(teste_x)\n",
        "#teste_x[:5]\n",
        "\n",
        "#print('Funcionando!')"
      ],
      "metadata": {
        "id": "Bpg9o9_S1TXP",
        "colab": {
          "base_uri": "https://localhost:8080/"
        },
        "outputId": "ac2a8ddc-68d4-489d-baca-40531f0bdd6c"
      },
      "execution_count": 35,
      "outputs": [
        {
          "output_type": "stream",
          "name": "stdout",
          "text": [
            "Os dados de treino em X tem: (620, 3) \n",
            "Os dados de treino em Y tem: (620,) \n",
            "Os dados de teste em X tem: (156, 3) \n",
            "Os dados de teste em Y tem: (156,)\n"
          ]
        }
      ]
    },
    {
      "cell_type": "code",
      "source": [
        "#   Configurar o nome do modelo.\n",
        "names = ['LinerRegression',\n",
        "  'Ridge',\n",
        "  'Lasso',\n",
        "  'Random Forrest',\n",
        "  'GBDT',\n",
        "  'Support Vector Regression',\n",
        "  'ElasticNet',\n",
        "  'XgBoost']\n",
        "\n",
        "#   Definir o modelo.\n",
        "#   cv é o cross-validation (Validação cruzada).\n",
        "models = [LinearRegression(),\n",
        "  RidgeCV(alphas=(0.001,0.1,1),cv=3),\n",
        "  LassoCV(alphas=(0.001,0.1,1),cv=5),\n",
        "  RandomForestRegressor(n_estimators=10),\n",
        "  GradientBoostingRegressor(n_estimators=30),\n",
        "  SVR(),\n",
        "  ElasticNet(alpha=0.001,max_iter=10000),\n",
        "  XGBRegressor()]\n",
        "\n",
        "#   Retorna ass pontuações em R2 de todos os modelos de regressão.\n",
        "#   Define a função de pontuação R2.\n",
        "def R2(model,x_train, x_test, y_train, y_test):\n",
        "  model_fitted = model.fit(x_train,y_train)\n",
        "  y_pred = model_fitted.predict(x_test)\n",
        "  score = r2_score(y_test, y_pred)\n",
        "  return score\n",
        "  \n",
        "#   Percorre todos os modelos para pontuar.\n",
        "#for name,model in zip(names,models):\n",
        "#  score = R2(model,x_train, x_test, y_train, y_test)\n",
        "#  print(\"{}: {:.6f}\".format(name,score.mean()))"
      ],
      "metadata": {
        "id": "mWR_WvJVTmjd"
      },
      "execution_count": null,
      "outputs": []
    },
    {
      "cell_type": "code",
      "source": [
        "#   Repetimos o código de treinamento nesta parte -----------------------\n",
        "np.random.seed(5)\n",
        "\n",
        "#iris = datasets.load_iris()   #Carregamos os dados da base Iris, novamente.\n",
        "#dadosP = datasets.load_files(dados)\n",
        "#x = dados.data\n",
        "#y = dados.target\n",
        "#-----------------------------------------------------------------------\n",
        "\n",
        "#   Inserimos um treinamento(fit) com Scaler antes de passar pela aleatoriadade.\n",
        "#scaler.fit(x)\n",
        "#x = scaler.transform(x)\n",
        "\n",
        "#   Repetimos o código de treinamento nesta parte -----------------------\n",
        "#sufInd = np.arange(150)       #Sequencia de 150 números geradas.\n",
        "#np.random.shuffle(sufInd)\n",
        "\n",
        "#x_train = x[sufInd[:100], :]  #Pega os dados de 0 até 100.\n",
        "#x_test = x[sufInd[100:], :]   #Pega os dados de 100 em diante.\n",
        "#y_train = y[sufInd[:100]]     #Pega os dados de 0 até 100.\n",
        "#y_test = y[sufInd[100:]]      #Pega os dados de 100 em diante.\n",
        "\n",
        "#clf = MLPClassifier(solver='sgd', hidden_layer_sizes=(3,), learning_rate_init=0.001, activation='logistic', max_iter=1500, random_state=1)\n",
        "#clf.fit(x_train, y_train)\n",
        "#y_pred = clf.predict_proba(x_test)\n",
        "\n",
        "#y_aux = np.argmax(y_pred, 1)\n",
        "#accuracy_score(y_test, y_aux)\n",
        "#-----------------------------------------------------------------------"
      ],
      "metadata": {
        "id": "mVOIECDoe7_9"
      },
      "execution_count": null,
      "outputs": []
    },
    {
      "cell_type": "code",
      "source": [
        "#   Alterando a taxa de aprendizado de 1/1000 (0.001) para 1/100 (0.01)\n",
        "#clf = MLPClassifier(solver='sgd', hidden_layer_sizes=(3,), learning_rate_init=0.01, activation='logistic', max_iter=1500, random_state=1)\n",
        "#clf.fit(x_train, y_train)\n",
        "#y_pred = clf.predict_proba(x_test)\n",
        "\n",
        "#y_aux = np.argmax(y_pred, 1)\n",
        "#accuracy_score(y_test, y_aux)"
      ],
      "metadata": {
        "id": "C13j8_07fQNz"
      },
      "execution_count": null,
      "outputs": []
    },
    {
      "cell_type": "markdown",
      "source": [
        "####Outros testes"
      ],
      "metadata": {
        "id": "Eo74XGv49BlZ"
      }
    },
    {
      "cell_type": "code",
      "source": [
        "#   Teste da leitura com a biblioteca NumPy\n",
        "#\"/content/Dados_para_treinamento.csv\"\n",
        "#\"/content/drive/MyDrive/Graduação em Licenciatura da Computação - UFERSA (2018-2022)/Semestre 10 - 2022.2/10 - TCC/TCC/Dados_para_treinamento.csv\"\n",
        "#dados1 = np.loadtxt(fname = '/content/drive/MyDrive/Graduação em Licenciatura da Computação - UFERSA (2018-2022)/Semestre 10 - 2022.2/10 - TCC/TCC/Dados_para_treinamento.csv')\n",
        "#dados1 = np.load(uri)\n",
        "#dados1"
      ],
      "metadata": {
        "id": "daAAPZoCVyNB"
      },
      "execution_count": null,
      "outputs": []
    },
    {
      "cell_type": "markdown",
      "source": [
        "##Testes com Base de Dados Iris"
      ],
      "metadata": {
        "id": "LLP1-3fWh1nk"
      }
    },
    {
      "cell_type": "markdown",
      "source": [
        "Estes teste/implementações foram \"propostos\" pela vídeoaula **5.4 - IA - Programando uma rede neural em Python** (*https://www.youtube.com/watch?v=UaqzXSAaqkw&list=PLTEwIFbhwawJ_hMRknah4713Rpeoy7Gz5*), do Canal no YouTube **Inteligência Artificial** (*https://www.youtube.com/@inteligencia_artificial_etp*)"
      ],
      "metadata": {
        "id": "lhEWyLtVDMDg"
      }
    },
    {
      "cell_type": "markdown",
      "source": [
        "###Importações"
      ],
      "metadata": {
        "id": "kB7EgkwBiVi_"
      }
    },
    {
      "cell_type": "code",
      "source": [
        "import numpy as np\n",
        "from sklearn import datasets\n",
        "from sklearn.neural_network import MLPClassifier"
      ],
      "metadata": {
        "id": "Fjhn5tcrikcq"
      },
      "execution_count": null,
      "outputs": []
    },
    {
      "cell_type": "markdown",
      "source": [
        "###Implementando..."
      ],
      "metadata": {
        "id": "18nGHJHUioly"
      }
    },
    {
      "cell_type": "code",
      "source": [
        "np.random.seed(5)\n",
        "\n",
        "#   Carregamos os dados da base Iris.\n",
        "iris = datasets.load_iris()\n",
        "x = iris.data\n",
        "y = iris.target\n",
        "\n",
        "sufInd = np.arange(150)       #Sequencia de 150 números geradas.\n",
        "np.random.shuffle(sufInd)     #Torno aleatório os números gerados.\n",
        "\n",
        "x_train = x[sufInd[:100], :]  #Pega os dados de 0 até 100.\n",
        "x_test = x[sufInd[100:], :]   #Pega os dados de 100 em diante.\n",
        "y_train = y[sufInd[:100]]     #Pega os dados de 0 até 100.\n",
        "y_test = y[sufInd[100:]]      #Pega os dados de 100 em diante.\n",
        "\n",
        "clf = MLPClassifier(solver='sgd', hidden_layer_sizes=(3,), learning_rate_init=0.001, activation='logistic', max_iter=1500, random_state=1)\n",
        "clf.fit(x_train, y_train)\n",
        "y_pred = clf.predict_proba(x_test)\n",
        "y_pred"
      ],
      "metadata": {
        "colab": {
          "base_uri": "https://localhost:8080/"
        },
        "id": "EzKyhbutiq0p",
        "outputId": "9d66bacc-1c46-4659-9e34-dc17e1112ad3"
      },
      "execution_count": null,
      "outputs": [
        {
          "output_type": "execute_result",
          "data": {
            "text/plain": [
              "array([[0.33575634, 0.36835812, 0.29588554],\n",
              "       [0.33548631, 0.36864954, 0.29586414],\n",
              "       [0.35122121, 0.36904394, 0.27973485],\n",
              "       [0.33697444, 0.36882278, 0.29420277],\n",
              "       [0.33602975, 0.36913348, 0.29483677],\n",
              "       [0.33627729, 0.36756619, 0.29615652],\n",
              "       [0.35094561, 0.37070437, 0.27835003],\n",
              "       [0.33330051, 0.3644752 , 0.30222429],\n",
              "       [0.33358603, 0.36893428, 0.29747969],\n",
              "       [0.32935894, 0.36579394, 0.30484712],\n",
              "       [0.33499759, 0.37051422, 0.29448819],\n",
              "       [0.33182086, 0.36837785, 0.2998013 ],\n",
              "       [0.34611289, 0.37025724, 0.28362987],\n",
              "       [0.35112211, 0.37206133, 0.27681656],\n",
              "       [0.33424107, 0.36800431, 0.29775462],\n",
              "       [0.32580629, 0.36493861, 0.3092551 ],\n",
              "       [0.35293547, 0.36840277, 0.27866176],\n",
              "       [0.33184214, 0.36456091, 0.30359695],\n",
              "       [0.35146924, 0.36889247, 0.27963828],\n",
              "       [0.34670705, 0.36834344, 0.28494951],\n",
              "       [0.33214507, 0.36804956, 0.29980538],\n",
              "       [0.33486982, 0.36853906, 0.29659112],\n",
              "       [0.32694258, 0.36577606, 0.30728136],\n",
              "       [0.34683488, 0.36822011, 0.284945  ],\n",
              "       [0.33392848, 0.36874011, 0.29733141],\n",
              "       [0.3509504 , 0.37087442, 0.27817519],\n",
              "       [0.33152499, 0.367072  , 0.30140301],\n",
              "       [0.34961212, 0.36984687, 0.28054101],\n",
              "       [0.33231067, 0.36669051, 0.30099881],\n",
              "       [0.34897462, 0.37199522, 0.27903016],\n",
              "       [0.33312311, 0.36842611, 0.29845078],\n",
              "       [0.3289584 , 0.3663763 , 0.3046653 ],\n",
              "       [0.3490403 , 0.36301652, 0.28794318],\n",
              "       [0.34097385, 0.36956672, 0.28945943],\n",
              "       [0.33747489, 0.36947689, 0.29304822],\n",
              "       [0.32967521, 0.36725059, 0.30307419],\n",
              "       [0.33261345, 0.36735059, 0.30003596],\n",
              "       [0.34934949, 0.36865928, 0.28199123],\n",
              "       [0.33288293, 0.36706565, 0.30005142],\n",
              "       [0.35029387, 0.37290267, 0.27680345],\n",
              "       [0.34859459, 0.36973388, 0.28167153],\n",
              "       [0.3372639 , 0.3664327 , 0.29630341],\n",
              "       [0.33536476, 0.36775475, 0.2968805 ],\n",
              "       [0.34960541, 0.36976839, 0.2806262 ],\n",
              "       [0.33119223, 0.36727188, 0.30153588],\n",
              "       [0.35214338, 0.36795953, 0.27989709],\n",
              "       [0.33437841, 0.36781856, 0.29780303],\n",
              "       [0.33300859, 0.36898625, 0.29800516],\n",
              "       [0.32514226, 0.36442094, 0.3104368 ],\n",
              "       [0.33748669, 0.36833329, 0.29418002]])"
            ]
          },
          "metadata": {},
          "execution_count": 176
        }
      ]
    },
    {
      "cell_type": "code",
      "source": [
        "#   \n",
        "from sklearn.metrics import accuracy_score  #Importamos a Acurácia."
      ],
      "metadata": {
        "id": "yTfCdd96nlX0"
      },
      "execution_count": null,
      "outputs": []
    },
    {
      "cell_type": "code",
      "source": [
        "y_aux = np.argmax(y_pred, 1)\n",
        "accuracy_score(y_test, y_aux)"
      ],
      "metadata": {
        "colab": {
          "base_uri": "https://localhost:8080/"
        },
        "id": "XpRItqD6pIiC",
        "outputId": "a376434f-d6ba-4912-efc2-5640574c8d8a"
      },
      "execution_count": null,
      "outputs": [
        {
          "output_type": "execute_result",
          "data": {
            "text/plain": [
              "0.28"
            ]
          },
          "metadata": {},
          "execution_count": 178
        }
      ]
    },
    {
      "cell_type": "code",
      "source": [
        "x_train"
      ],
      "metadata": {
        "colab": {
          "base_uri": "https://localhost:8080/"
        },
        "id": "HQaONzIBqFu5",
        "outputId": "107c6e6c-87b3-44ed-f4da-fa4b46f40158"
      },
      "execution_count": null,
      "outputs": [
        {
          "output_type": "execute_result",
          "data": {
            "text/plain": [
              "array([[5.8, 2.7, 3.9, 1.2],\n",
              "       [6.1, 2.6, 5.6, 1.4],\n",
              "       [5.8, 2.8, 5.1, 2.4],\n",
              "       [4.4, 3.2, 1.3, 0.2],\n",
              "       [7.2, 3.6, 6.1, 2.5],\n",
              "       [4.9, 2.4, 3.3, 1. ],\n",
              "       [4.9, 3. , 1.4, 0.2],\n",
              "       [5.9, 3.2, 4.8, 1.8],\n",
              "       [5. , 3. , 1.6, 0.2],\n",
              "       [5.4, 3. , 4.5, 1.5],\n",
              "       [5.6, 3. , 4.5, 1.5],\n",
              "       [6.3, 2.8, 5.1, 1.5],\n",
              "       [7.1, 3. , 5.9, 2.1],\n",
              "       [7.3, 2.9, 6.3, 1.8],\n",
              "       [5. , 3.4, 1.6, 0.4],\n",
              "       [5.1, 3.3, 1.7, 0.5],\n",
              "       [6.3, 2.7, 4.9, 1.8],\n",
              "       [7.4, 2.8, 6.1, 1.9],\n",
              "       [5.1, 3.7, 1.5, 0.4],\n",
              "       [4.8, 3. , 1.4, 0.1],\n",
              "       [6.1, 2.8, 4. , 1.3],\n",
              "       [6.4, 2.8, 5.6, 2.1],\n",
              "       [5.3, 3.7, 1.5, 0.2],\n",
              "       [6.3, 2.5, 4.9, 1.5],\n",
              "       [5.6, 3. , 4.1, 1.3],\n",
              "       [6.2, 3.4, 5.4, 2.3],\n",
              "       [6.4, 2.9, 4.3, 1.3],\n",
              "       [5.7, 2.9, 4.2, 1.3],\n",
              "       [6.1, 2.9, 4.7, 1.4],\n",
              "       [6.4, 2.8, 5.6, 2.2],\n",
              "       [5.1, 3.4, 1.5, 0.2],\n",
              "       [5.5, 2.3, 4. , 1.3],\n",
              "       [5.7, 2.6, 3.5, 1. ],\n",
              "       [5.4, 3.7, 1.5, 0.2],\n",
              "       [7. , 3.2, 4.7, 1.4],\n",
              "       [5. , 3.3, 1.4, 0.2],\n",
              "       [5. , 3.5, 1.6, 0.6],\n",
              "       [7.7, 3. , 6.1, 2.3],\n",
              "       [5. , 3.5, 1.3, 0.3],\n",
              "       [6.4, 3.2, 5.3, 2.3],\n",
              "       [5.8, 2.7, 5.1, 1.9],\n",
              "       [5.6, 2.5, 3.9, 1.1],\n",
              "       [5.1, 3.5, 1.4, 0.3],\n",
              "       [5.1, 3.8, 1.6, 0.2],\n",
              "       [6.5, 2.8, 4.6, 1.5],\n",
              "       [6.2, 2.8, 4.8, 1.8],\n",
              "       [5.9, 3. , 4.2, 1.5],\n",
              "       [6.7, 3.3, 5.7, 2.1],\n",
              "       [7.7, 3.8, 6.7, 2.2],\n",
              "       [5.4, 3.4, 1.7, 0.2],\n",
              "       [6.3, 2.5, 5. , 1.9],\n",
              "       [5. , 3.2, 1.2, 0.2],\n",
              "       [4.6, 3.4, 1.4, 0.3],\n",
              "       [5.7, 4.4, 1.5, 0.4],\n",
              "       [5.2, 3.4, 1.4, 0.2],\n",
              "       [6.2, 2.9, 4.3, 1.3],\n",
              "       [6.3, 3.3, 4.7, 1.6],\n",
              "       [5.5, 2.4, 3.7, 1. ],\n",
              "       [5.1, 2.5, 3. , 1.1],\n",
              "       [5.9, 3. , 5.1, 1.8],\n",
              "       [5. , 2. , 3.5, 1. ],\n",
              "       [6.5, 3. , 5.2, 2. ],\n",
              "       [6.5, 3. , 5.8, 2.2],\n",
              "       [6.9, 3.1, 4.9, 1.5],\n",
              "       [4.6, 3.6, 1. , 0.2],\n",
              "       [6.6, 3. , 4.4, 1.4],\n",
              "       [4.9, 3.6, 1.4, 0.1],\n",
              "       [6.7, 3. , 5. , 1.7],\n",
              "       [6.7, 3. , 5.2, 2.3],\n",
              "       [5.6, 2.9, 3.6, 1.3],\n",
              "       [6.3, 3.4, 5.6, 2.4],\n",
              "       [5.6, 2.7, 4.2, 1.3],\n",
              "       [6.1, 3. , 4.9, 1.8],\n",
              "       [6.3, 2.3, 4.4, 1.3],\n",
              "       [5.8, 2.6, 4. , 1.2],\n",
              "       [5.7, 3. , 4.2, 1.2],\n",
              "       [6.9, 3.1, 5.4, 2.1],\n",
              "       [6.8, 2.8, 4.8, 1.4],\n",
              "       [5.2, 4.1, 1.5, 0.1],\n",
              "       [5.8, 2.7, 5.1, 1.9],\n",
              "       [4.3, 3. , 1.1, 0.1],\n",
              "       [4.8, 3.4, 1.9, 0.2],\n",
              "       [5.2, 2.7, 3.9, 1.4],\n",
              "       [4.8, 3. , 1.4, 0.3],\n",
              "       [4.9, 3.1, 1.5, 0.2],\n",
              "       [7.9, 3.8, 6.4, 2. ],\n",
              "       [5. , 2.3, 3.3, 1. ],\n",
              "       [4.6, 3.2, 1.4, 0.2],\n",
              "       [6.5, 3. , 5.5, 1.8],\n",
              "       [4.9, 3.1, 1.5, 0.1],\n",
              "       [6. , 2.2, 5. , 1.5],\n",
              "       [5.5, 2.6, 4.4, 1.2],\n",
              "       [5.8, 4. , 1.2, 0.2],\n",
              "       [5.4, 3.9, 1.3, 0.4],\n",
              "       [6.4, 2.7, 5.3, 1.9],\n",
              "       [6. , 3.4, 4.5, 1.6],\n",
              "       [5.5, 2.5, 4. , 1.3],\n",
              "       [5.5, 4.2, 1.4, 0.2],\n",
              "       [4.7, 3.2, 1.6, 0.2],\n",
              "       [6.9, 3.2, 5.7, 2.3]])"
            ]
          },
          "metadata": {},
          "execution_count": 179
        }
      ]
    },
    {
      "cell_type": "markdown",
      "source": [
        "####Como os dados estão muito diversos, o ideal é normalizá-los."
      ],
      "metadata": {
        "id": "TD3wd8xDosL6"
      }
    },
    {
      "cell_type": "code",
      "source": [
        "#   \n",
        "from sklearn.preprocessing import StandardScaler  #Importamos o normalizador do SkLearn\n",
        "\n",
        "#   \n",
        "scaler = StandardScaler()     #Instanciamos um objeto da classe Scaler\n",
        "\n",
        "#   Repetimos o código de treinamento nesta parte -----------------------\n",
        "np.random.seed(5)\n",
        "\n",
        "#   \n",
        "iris = datasets.load_iris()   #Carregamos os dados da base Iris, novamente.\n",
        "x = iris.data\n",
        "y = iris.target\n",
        "#---------------------------------------------------------------------\n",
        "\n",
        "#   Inserimos um treinamento(fit) com Scaler antes de passar pela aleatoriadade.\n",
        "scaler.fit(x)\n",
        "x = scaler.transform(x)\n",
        "\n",
        "#   Repetimos o código de treinamento nesta parte -----------------------\n",
        "sufInd = np.arange(150)       #Sequencia de 150 números geradas.\n",
        "np.random.shuffle(sufInd)\n",
        "\n",
        "x_train = x[sufInd[:100], :]  #Pega os dados de 0 até 100.\n",
        "x_test = x[sufInd[100:], :]   #Pega os dados de 100 em diante.\n",
        "y_train = y[sufInd[:100]]     #Pega os dados de 0 até 100.\n",
        "y_test = y[sufInd[100:]]      #Pega os dados de 100 em diante.\n",
        "\n",
        "clf = MLPClassifier(solver='sgd', hidden_layer_sizes=(3,), learning_rate_init=0.001, activation='logistic', max_iter=1500, random_state=1)\n",
        "clf.fit(x_train, y_train)\n",
        "y_pred = clf.predict_proba(x_test)\n",
        "\n",
        "y_aux = np.argmax(y_pred, 1)\n",
        "accuracy_score(y_test, y_aux)\n",
        "#---------------------------------------------------------------------"
      ],
      "metadata": {
        "colab": {
          "base_uri": "https://localhost:8080/"
        },
        "id": "XPPA_M1lpsTa",
        "outputId": "90201ccf-8174-4fa4-a3a6-2bd81256d80b"
      },
      "execution_count": null,
      "outputs": [
        {
          "output_type": "stream",
          "name": "stderr",
          "text": [
            "/usr/local/lib/python3.7/dist-packages/sklearn/neural_network/_multilayer_perceptron.py:696: ConvergenceWarning: Stochastic Optimizer: Maximum iterations (1500) reached and the optimization hasn't converged yet.\n",
            "  ConvergenceWarning,\n"
          ]
        },
        {
          "output_type": "execute_result",
          "data": {
            "text/plain": [
              "0.86"
            ]
          },
          "metadata": {},
          "execution_count": 180
        }
      ]
    },
    {
      "cell_type": "code",
      "source": [
        "x_train   #Rodando/executando/exibindo o x_train com os dados normalidados."
      ],
      "metadata": {
        "colab": {
          "base_uri": "https://localhost:8080/"
        },
        "id": "YIsHdDq7-IrG",
        "outputId": "d7aad1c7-b5bd-4d59-f6f0-e54b9eae7af4"
      },
      "execution_count": null,
      "outputs": [
        {
          "output_type": "execute_result",
          "data": {
            "text/plain": [
              "array([[-5.25060772e-02, -8.22569778e-01,  8.07091462e-02,\n",
              "         8.77547895e-04],\n",
              "       [ 3.10997534e-01, -1.05276654e+00,  1.04694540e+00,\n",
              "         2.64141916e-01],\n",
              "       [-5.25060772e-02, -5.92373012e-01,  7.62758269e-01,\n",
              "         1.58046376e+00],\n",
              "       [-1.74885626e+00,  3.28414053e-01, -1.39706395e+00,\n",
              "        -1.31544430e+00],\n",
              "       [ 1.64384411e+00,  1.24920112e+00,  1.33113254e+00,\n",
              "         1.71209594e+00],\n",
              "       [-1.14301691e+00, -1.51316008e+00, -2.60315415e-01,\n",
              "        -2.62386821e-01],\n",
              "       [-1.14301691e+00, -1.31979479e-01, -1.34022653e+00,\n",
              "        -1.31544430e+00],\n",
              "       [ 6.86617933e-02,  3.28414053e-01,  5.92245988e-01,\n",
              "         7.90670654e-01],\n",
              "       [-1.02184904e+00, -1.31979479e-01, -1.22655167e+00,\n",
              "        -1.31544430e+00],\n",
              "       [-5.37177559e-01, -1.31979479e-01,  4.21733708e-01,\n",
              "         3.95774101e-01],\n",
              "       [-2.94841818e-01, -1.31979479e-01,  4.21733708e-01,\n",
              "         3.95774101e-01],\n",
              "       [ 5.53333275e-01, -5.92373012e-01,  7.62758269e-01,\n",
              "         3.95774101e-01],\n",
              "       [ 1.52267624e+00, -1.31979479e-01,  1.21745768e+00,\n",
              "         1.18556721e+00],\n",
              "       [ 1.76501198e+00, -3.62176246e-01,  1.44480739e+00,\n",
              "         7.90670654e-01],\n",
              "       [-1.02184904e+00,  7.88807586e-01, -1.22655167e+00,\n",
              "        -1.05217993e+00],\n",
              "       [-9.00681170e-01,  5.58610819e-01, -1.16971425e+00,\n",
              "        -9.20547742e-01],\n",
              "       [ 5.53333275e-01, -8.22569778e-01,  6.49083415e-01,\n",
              "         7.90670654e-01],\n",
              "       [ 1.88617985e+00, -5.92373012e-01,  1.33113254e+00,\n",
              "         9.22302838e-01],\n",
              "       [-9.00681170e-01,  1.47939788e+00, -1.28338910e+00,\n",
              "        -1.05217993e+00],\n",
              "       [-1.26418478e+00, -1.31979479e-01, -1.34022653e+00,\n",
              "        -1.44707648e+00],\n",
              "       [ 3.10997534e-01, -5.92373012e-01,  1.37546573e-01,\n",
              "         1.32509732e-01],\n",
              "       [ 6.74501145e-01, -5.92373012e-01,  1.04694540e+00,\n",
              "         1.18556721e+00],\n",
              "       [-6.58345429e-01,  1.47939788e+00, -1.28338910e+00,\n",
              "        -1.31544430e+00],\n",
              "       [ 5.53333275e-01, -1.28296331e+00,  6.49083415e-01,\n",
              "         3.95774101e-01],\n",
              "       [-2.94841818e-01, -1.31979479e-01,  1.94384000e-01,\n",
              "         1.32509732e-01],\n",
              "       [ 4.32165405e-01,  7.88807586e-01,  9.33270550e-01,\n",
              "         1.44883158e+00],\n",
              "       [ 6.74501145e-01, -3.62176246e-01,  3.08058854e-01,\n",
              "         1.32509732e-01],\n",
              "       [-1.73673948e-01, -3.62176246e-01,  2.51221427e-01,\n",
              "         1.32509732e-01],\n",
              "       [ 3.10997534e-01, -3.62176246e-01,  5.35408562e-01,\n",
              "         2.64141916e-01],\n",
              "       [ 6.74501145e-01, -5.92373012e-01,  1.04694540e+00,\n",
              "         1.31719939e+00],\n",
              "       [-9.00681170e-01,  7.88807586e-01, -1.28338910e+00,\n",
              "        -1.31544430e+00],\n",
              "       [-4.16009689e-01, -1.74335684e+00,  1.37546573e-01,\n",
              "         1.32509732e-01],\n",
              "       [-1.73673948e-01, -1.05276654e+00, -1.46640561e-01,\n",
              "        -2.62386821e-01],\n",
              "       [-5.37177559e-01,  1.47939788e+00, -1.28338910e+00,\n",
              "        -1.31544430e+00],\n",
              "       [ 1.40150837e+00,  3.28414053e-01,  5.35408562e-01,\n",
              "         2.64141916e-01],\n",
              "       [-1.02184904e+00,  5.58610819e-01, -1.34022653e+00,\n",
              "        -1.31544430e+00],\n",
              "       [-1.02184904e+00,  1.01900435e+00, -1.22655167e+00,\n",
              "        -7.88915558e-01],\n",
              "       [ 2.24968346e+00, -1.31979479e-01,  1.33113254e+00,\n",
              "         1.44883158e+00],\n",
              "       [-1.02184904e+00,  1.01900435e+00, -1.39706395e+00,\n",
              "        -1.18381211e+00],\n",
              "       [ 6.74501145e-01,  3.28414053e-01,  8.76433123e-01,\n",
              "         1.44883158e+00],\n",
              "       [-5.25060772e-02, -8.22569778e-01,  7.62758269e-01,\n",
              "         9.22302838e-01],\n",
              "       [-2.94841818e-01, -1.28296331e+00,  8.07091462e-02,\n",
              "        -1.30754636e-01],\n",
              "       [-9.00681170e-01,  1.01900435e+00, -1.34022653e+00,\n",
              "        -1.18381211e+00],\n",
              "       [-9.00681170e-01,  1.70959465e+00, -1.22655167e+00,\n",
              "        -1.31544430e+00],\n",
              "       [ 7.95669016e-01, -5.92373012e-01,  4.78571135e-01,\n",
              "         3.95774101e-01],\n",
              "       [ 4.32165405e-01, -5.92373012e-01,  5.92245988e-01,\n",
              "         7.90670654e-01],\n",
              "       [ 6.86617933e-02, -1.31979479e-01,  2.51221427e-01,\n",
              "         3.95774101e-01],\n",
              "       [ 1.03800476e+00,  5.58610819e-01,  1.10378283e+00,\n",
              "         1.18556721e+00],\n",
              "       [ 2.24968346e+00,  1.70959465e+00,  1.67215710e+00,\n",
              "         1.31719939e+00],\n",
              "       [-5.37177559e-01,  7.88807586e-01, -1.16971425e+00,\n",
              "        -1.31544430e+00],\n",
              "       [ 5.53333275e-01, -1.28296331e+00,  7.05920842e-01,\n",
              "         9.22302838e-01],\n",
              "       [-1.02184904e+00,  3.28414053e-01, -1.45390138e+00,\n",
              "        -1.31544430e+00],\n",
              "       [-1.50652052e+00,  7.88807586e-01, -1.34022653e+00,\n",
              "        -1.18381211e+00],\n",
              "       [-1.73673948e-01,  3.09077525e+00, -1.28338910e+00,\n",
              "        -1.05217993e+00],\n",
              "       [-7.79513300e-01,  7.88807586e-01, -1.34022653e+00,\n",
              "        -1.31544430e+00],\n",
              "       [ 4.32165405e-01, -3.62176246e-01,  3.08058854e-01,\n",
              "         1.32509732e-01],\n",
              "       [ 5.53333275e-01,  5.58610819e-01,  5.35408562e-01,\n",
              "         5.27406285e-01],\n",
              "       [-4.16009689e-01, -1.51316008e+00, -3.29657076e-02,\n",
              "        -2.62386821e-01],\n",
              "       [-9.00681170e-01, -1.28296331e+00, -4.30827696e-01,\n",
              "        -1.30754636e-01],\n",
              "       [ 6.86617933e-02, -1.31979479e-01,  7.62758269e-01,\n",
              "         7.90670654e-01],\n",
              "       [-1.02184904e+00, -2.43394714e+00, -1.46640561e-01,\n",
              "        -2.62386821e-01],\n",
              "       [ 7.95669016e-01, -1.31979479e-01,  8.19595696e-01,\n",
              "         1.05393502e+00],\n",
              "       [ 7.95669016e-01, -1.31979479e-01,  1.16062026e+00,\n",
              "         1.31719939e+00],\n",
              "       [ 1.28034050e+00,  9.82172869e-02,  6.49083415e-01,\n",
              "         3.95774101e-01],\n",
              "       [-1.50652052e+00,  1.24920112e+00, -1.56757623e+00,\n",
              "        -1.31544430e+00],\n",
              "       [ 9.16836886e-01, -1.31979479e-01,  3.64896281e-01,\n",
              "         2.64141916e-01],\n",
              "       [-1.14301691e+00,  1.24920112e+00, -1.34022653e+00,\n",
              "        -1.44707648e+00],\n",
              "       [ 1.03800476e+00, -1.31979479e-01,  7.05920842e-01,\n",
              "         6.59038469e-01],\n",
              "       [ 1.03800476e+00, -1.31979479e-01,  8.19595696e-01,\n",
              "         1.44883158e+00],\n",
              "       [-2.94841818e-01, -3.62176246e-01, -8.98031345e-02,\n",
              "         1.32509732e-01],\n",
              "       [ 5.53333275e-01,  7.88807586e-01,  1.04694540e+00,\n",
              "         1.58046376e+00],\n",
              "       [-2.94841818e-01, -8.22569778e-01,  2.51221427e-01,\n",
              "         1.32509732e-01],\n",
              "       [ 3.10997534e-01, -1.31979479e-01,  6.49083415e-01,\n",
              "         7.90670654e-01],\n",
              "       [ 5.53333275e-01, -1.74335684e+00,  3.64896281e-01,\n",
              "         1.32509732e-01],\n",
              "       [-5.25060772e-02, -1.05276654e+00,  1.37546573e-01,\n",
              "         8.77547895e-04],\n",
              "       [-1.73673948e-01, -1.31979479e-01,  2.51221427e-01,\n",
              "         8.77547895e-04],\n",
              "       [ 1.28034050e+00,  9.82172869e-02,  9.33270550e-01,\n",
              "         1.18556721e+00],\n",
              "       [ 1.15917263e+00, -5.92373012e-01,  5.92245988e-01,\n",
              "         2.64141916e-01],\n",
              "       [-7.79513300e-01,  2.40018495e+00, -1.28338910e+00,\n",
              "        -1.44707648e+00],\n",
              "       [-5.25060772e-02, -8.22569778e-01,  7.62758269e-01,\n",
              "         9.22302838e-01],\n",
              "       [-1.87002413e+00, -1.31979479e-01, -1.51073881e+00,\n",
              "        -1.44707648e+00],\n",
              "       [-1.26418478e+00,  7.88807586e-01, -1.05603939e+00,\n",
              "        -1.31544430e+00],\n",
              "       [-7.79513300e-01, -8.22569778e-01,  8.07091462e-02,\n",
              "         2.64141916e-01],\n",
              "       [-1.26418478e+00, -1.31979479e-01, -1.34022653e+00,\n",
              "        -1.18381211e+00],\n",
              "       [-1.14301691e+00,  9.82172869e-02, -1.28338910e+00,\n",
              "        -1.31544430e+00],\n",
              "       [ 2.49201920e+00,  1.70959465e+00,  1.50164482e+00,\n",
              "         1.05393502e+00],\n",
              "       [-1.02184904e+00, -1.74335684e+00, -2.60315415e-01,\n",
              "        -2.62386821e-01],\n",
              "       [-1.50652052e+00,  3.28414053e-01, -1.34022653e+00,\n",
              "        -1.31544430e+00],\n",
              "       [ 7.95669016e-01, -1.31979479e-01,  9.90107977e-01,\n",
              "         7.90670654e-01],\n",
              "       [-1.14301691e+00,  9.82172869e-02, -1.28338910e+00,\n",
              "        -1.44707648e+00],\n",
              "       [ 1.89829664e-01, -1.97355361e+00,  7.05920842e-01,\n",
              "         3.95774101e-01],\n",
              "       [-4.16009689e-01, -1.05276654e+00,  3.64896281e-01,\n",
              "         8.77547895e-04],\n",
              "       [-5.25060772e-02,  2.16998818e+00, -1.45390138e+00,\n",
              "        -1.31544430e+00],\n",
              "       [-5.37177559e-01,  1.93979142e+00, -1.39706395e+00,\n",
              "        -1.05217993e+00],\n",
              "       [ 6.74501145e-01, -8.22569778e-01,  8.76433123e-01,\n",
              "         9.22302838e-01],\n",
              "       [ 1.89829664e-01,  7.88807586e-01,  4.21733708e-01,\n",
              "         5.27406285e-01],\n",
              "       [-4.16009689e-01, -1.28296331e+00,  1.37546573e-01,\n",
              "         1.32509732e-01],\n",
              "       [-4.16009689e-01,  2.63038172e+00, -1.34022653e+00,\n",
              "        -1.31544430e+00],\n",
              "       [-1.38535265e+00,  3.28414053e-01, -1.22655167e+00,\n",
              "        -1.31544430e+00],\n",
              "       [ 1.28034050e+00,  3.28414053e-01,  1.10378283e+00,\n",
              "         1.44883158e+00]])"
            ]
          },
          "metadata": {},
          "execution_count": 181
        }
      ]
    },
    {
      "cell_type": "markdown",
      "source": [
        "####Agora vamos modificar a taxa de aprendizado (learning_rate_init)"
      ],
      "metadata": {
        "id": "sD4iOKsi-rnd"
      }
    },
    {
      "cell_type": "code",
      "source": [
        "#   Alterando a taxa de aprendizado de 1/1000 (0.001) para 1/100 (0.01)\n",
        "clf = MLPClassifier(solver='sgd', hidden_layer_sizes=(3,), learning_rate_init=0.01, activation='logistic', max_iter=1500, random_state=1)\n",
        "clf.fit(x_train, y_train)\n",
        "y_pred = clf.predict_proba(x_test)\n",
        "\n",
        "y_aux = np.argmax(y_pred, 1)\n",
        "accuracy_score(y_test, y_aux)"
      ],
      "metadata": {
        "colab": {
          "base_uri": "https://localhost:8080/"
        },
        "id": "TVDyd0qx-LoY",
        "outputId": "5bff3724-0dc8-4f4e-86bb-d628ce92aedd"
      },
      "execution_count": null,
      "outputs": [
        {
          "output_type": "stream",
          "name": "stderr",
          "text": [
            "/usr/local/lib/python3.7/dist-packages/sklearn/neural_network/_multilayer_perceptron.py:696: ConvergenceWarning: Stochastic Optimizer: Maximum iterations (1500) reached and the optimization hasn't converged yet.\n",
            "  ConvergenceWarning,\n"
          ]
        },
        {
          "output_type": "execute_result",
          "data": {
            "text/plain": [
              "0.98"
            ]
          },
          "metadata": {},
          "execution_count": 182
        }
      ]
    },
    {
      "cell_type": "code",
      "source": [
        "#   Alterando a taxa de aprendizado para 1/10 (0.1)\n",
        "clf = MLPClassifier(solver='sgd', hidden_layer_sizes=(3,), learning_rate_init=0.1, activation='logistic', max_iter=1500, random_state=1)\n",
        "clf.fit(x_train, y_train)\n",
        "y_pred = clf.predict_proba(x_test)\n",
        "\n",
        "y_aux = np.argmax(y_pred, 1)\n",
        "accuracy_score(y_test, y_aux)"
      ],
      "metadata": {
        "colab": {
          "base_uri": "https://localhost:8080/"
        },
        "id": "E9vVzdZi_g4r",
        "outputId": "cf6960a1-d48d-4f87-81b4-bb4ba48cf213"
      },
      "execution_count": null,
      "outputs": [
        {
          "output_type": "execute_result",
          "data": {
            "text/plain": [
              "0.98"
            ]
          },
          "metadata": {},
          "execution_count": 185
        }
      ]
    },
    {
      "cell_type": "code",
      "source": [
        "print(y_test[:20])\n",
        "print(y_aux[:20])"
      ],
      "metadata": {
        "colab": {
          "base_uri": "https://localhost:8080/"
        },
        "id": "mpS-6b_hBSP5",
        "outputId": "c4afd426-23c1-401f-b74e-8333599ba07e"
      },
      "execution_count": null,
      "outputs": [
        {
          "output_type": "stream",
          "name": "stdout",
          "text": [
            "[1 1 0 1 2 1 0 1 2 2 2 2 0 0 1 2 0 1 0 0]\n",
            "[1 1 0 1 2 1 0 1 2 2 2 2 0 0 2 2 0 1 0 0]\n"
          ]
        }
      ]
    },
    {
      "cell_type": "markdown",
      "source": [
        "##Testes da live do canal Dio"
      ],
      "metadata": {
        "id": "VLyqtUFEVrbV"
      }
    },
    {
      "cell_type": "markdown",
      "source": [
        "Estes teste/implementações foram \"propostos\" pela vídeoaula **IoT e Machine Learning na Prática** (*https://www.youtube.com/watch?v=irfDU4G_jcU&t=0s) **Dio** (*https://www.youtube.com/c/DigitalInnovationOne)*"
      ],
      "metadata": {
        "id": "xcnTQv_zV85h"
      }
    },
    {
      "cell_type": "markdown",
      "source": [
        "###Testes com a biblioteca da Google gTTS (Google Text-to-Speech [Speech Recognition]) que transforma texto em fala."
      ],
      "metadata": {
        "id": "YBpK37C2V85g"
      }
    },
    {
      "cell_type": "markdown",
      "source": [
        "####Importações"
      ],
      "metadata": {
        "id": "4fMMYcjYV85h"
      }
    },
    {
      "cell_type": "code",
      "source": [
        "#   Instalamos a biblioteca gTTS.\n",
        "!pip install gTTS"
      ],
      "metadata": {
        "colab": {
          "base_uri": "https://localhost:8080/"
        },
        "id": "UudZh3Y3ZOE7",
        "outputId": "4748953d-85c5-4ee3-c115-b0b09368e74f"
      },
      "execution_count": null,
      "outputs": [
        {
          "output_type": "stream",
          "name": "stdout",
          "text": [
            "Looking in indexes: https://pypi.org/simple, https://us-python.pkg.dev/colab-wheels/public/simple/\n",
            "Collecting gTTS\n",
            "  Downloading gTTS-2.2.4-py3-none-any.whl (26 kB)\n",
            "Requirement already satisfied: click in /usr/local/lib/python3.7/dist-packages (from gTTS) (7.1.2)\n",
            "Requirement already satisfied: six in /usr/local/lib/python3.7/dist-packages (from gTTS) (1.15.0)\n",
            "Requirement already satisfied: requests in /usr/local/lib/python3.7/dist-packages (from gTTS) (2.23.0)\n",
            "Requirement already satisfied: idna<3,>=2.5 in /usr/local/lib/python3.7/dist-packages (from requests->gTTS) (2.10)\n",
            "Requirement already satisfied: urllib3!=1.25.0,!=1.25.1,<1.26,>=1.21.1 in /usr/local/lib/python3.7/dist-packages (from requests->gTTS) (1.24.3)\n",
            "Requirement already satisfied: chardet<4,>=3.0.2 in /usr/local/lib/python3.7/dist-packages (from requests->gTTS) (3.0.4)\n",
            "Requirement already satisfied: certifi>=2017.4.17 in /usr/local/lib/python3.7/dist-packages (from requests->gTTS) (2022.9.24)\n",
            "Installing collected packages: gTTS\n",
            "Successfully installed gTTS-2.2.4\n"
          ]
        }
      ]
    },
    {
      "cell_type": "code",
      "source": [
        "#   \n",
        "from gtts import gTTS               #Importamos a biblioteca gTTS.\n",
        "\n",
        "#   \n",
        "from IPython.display import Audio   #Importamos a biblioteca IPython (Audio) que converterá o texto em áudio."
      ],
      "metadata": {
        "id": "q_5GR4hbZjJL"
      },
      "execution_count": null,
      "outputs": []
    },
    {
      "cell_type": "markdown",
      "source": [
        "####Implementando..."
      ],
      "metadata": {
        "id": "m964x2plV85i"
      }
    },
    {
      "cell_type": "markdown",
      "source": [
        "Fala em Inglês"
      ],
      "metadata": {
        "id": "bhIPwM-xa0Y1"
      }
    },
    {
      "cell_type": "code",
      "source": [
        "#   Configuramos a variável que receberá o texto.\n",
        "text_to_say = \"Nice to meet you, David Franklin!\"\n",
        "#Texto original (Nice to meet you, Diego.)\n",
        "\n",
        "#   Configuramos a variável que receberá o idioma/língua e o definimos.\n",
        "language = \"en\"\n",
        "\n",
        "gtts_object = gTTS(text = text_to_say,\n",
        "                   lang = language,\n",
        "                   slow = False)\n",
        "\n",
        "gtts_object.save(\"/content/test_english.wav\")\n",
        "\n",
        "Audio(\"/content/test_english.wav\")"
      ],
      "metadata": {
        "colab": {
          "base_uri": "https://localhost:8080/",
          "height": 61
        },
        "id": "W8I-_kisbKYL",
        "outputId": "d5c19c7c-545b-4c3b-f7dd-407f3098e967"
      },
      "execution_count": null,
      "outputs": [
        {
          "output_type": "execute_result",
          "data": {
            "text/plain": [
              "<IPython.lib.display.Audio object>"
            ],
            "text/html": [
              "\n",
              "                <audio  controls=\"controls\" >\n",
              "                    <source src=\"data:audio/x-wav;base64,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\" type=\"audio/x-wav\" />\n",
              "                    Your browser does not support the audio element.\n",
              "                </audio>\n",
              "              "
            ]
          },
          "metadata": {},
          "execution_count": 204
        }
      ]
    },
    {
      "cell_type": "markdown",
      "source": [
        "Fala em Francês"
      ],
      "metadata": {
        "id": "5z7TMQJNdgLL"
      }
    },
    {
      "cell_type": "code",
      "source": [
        "#   Alterei algumas formas de programar do original\n",
        "\n",
        "french_text = \"Bonjour. Je m'appelle Alexandra. Je suis programmeuse.\"\n",
        "french_language = \"fr\"\n",
        "\n",
        "french_gtts_object = gTTS(text = french_text,\n",
        "                          lang = french_language,\n",
        "                          slow = True)\n",
        "\n",
        "fala = \"/content/test_french.wav\"\n",
        "french_gtts_object.save(fala)\n",
        "Audio(fala)"
      ],
      "metadata": {
        "colab": {
          "base_uri": "https://localhost:8080/",
          "height": 61
        },
        "id": "X-3JFBETdjQd",
        "outputId": "aba7bd1b-0fa9-4cd8-f71e-913ec87631dd"
      },
      "execution_count": null,
      "outputs": [
        {
          "output_type": "execute_result",
          "data": {
            "text/plain": [
              "<IPython.lib.display.Audio object>"
            ],
            "text/html": [
              "\n",
              "                <audio  controls=\"controls\" >\n",
              "                    <source src=\"data:audio/x-wav;base64,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\" type=\"audio/x-wav\" />\n",
              "                    Your browser does not support the audio element.\n",
              "                </audio>\n",
              "              "
            ]
          },
          "metadata": {},
          "execution_count": 212
        }
      ]
    },
    {
      "cell_type": "markdown",
      "source": [
        "Fala em Italiano"
      ],
      "metadata": {
        "id": "z4_PId61gJcl"
      }
    },
    {
      "cell_type": "code",
      "source": [
        "#   Agora estou testando em Italiano...\n",
        "\n",
        "italia_text = \"Parla!\"\n",
        "italia_language = \"it\"\n",
        "\n",
        "italian_gtts_object = gTTS(text = italia_text,\n",
        "                          lang = italia_language,\n",
        "                          slow = False)\n",
        "\n",
        "ita = \"/content/teste_italiano.wav\"\n",
        "italian_gtts_object.save(ita)\n",
        "Audio(ita)"
      ],
      "metadata": {
        "colab": {
          "base_uri": "https://localhost:8080/",
          "height": 61
        },
        "outputId": "bf53c2dd-eea9-4f01-82ed-6447a1eb56cb",
        "id": "7pxDQ7ChgJcm"
      },
      "execution_count": null,
      "outputs": [
        {
          "output_type": "execute_result",
          "data": {
            "text/plain": [
              "<IPython.lib.display.Audio object>"
            ],
            "text/html": [
              "\n",
              "                <audio  controls=\"controls\" >\n",
              "                    <source src=\"data:audio/x-wav;base64,//NExAAQyGX0AMYSKHIRDIRFpRpw8wOOXoQ3SvUEeORRSVliUfE5Am05tQmBAs13/9L/3fecIIQX//9KFKGOPtJpKKGOMl1j3nDilOPn2pUqH2RthwIWGSWmpGGINgZU//NExA8QKE4sAVoIAFyVfUcvq1Ke9apcqgOhUEzMy6n7sPYs4V+LO5xTjTxVlC/3ehvqFnHO6pIAW9/xdnydYJIkDMlbQsLL9dRoYB//7stv+HPB0BYf4LYFeF/Ao//h//NExCEa4yp4AZhoAPAWATwWIlf/4HuJkHMEsGKFX/tvxnHsHMIhGHuRf//yWEwHsWEuSJTLhO////KBfMT5cNjQzNTcuG3////+Siy6S6imYLRN1EucZX+cOWpExwVZ//NExAgUIca8AZiIAC+ooyuVbJWeG800xI5LNOY3Wo+LLGbBLCEooC7IjLjnlcqhlgZIRoR/zdXLZmgeOfugz6ZFy4/7r/dupSRl//9Roof//////oX6v3FM1q0t6sg4//NExAoTwXLAAdiAAeta3FQ4EWtU4wIBFfmdmWJuLYqkwCUX0jUUmFyxsmKyBl5KmTZs9aTZmf8tJLMyBkCZEzTbpvpq6aOtJFly4fJh1wMT+8NariAcD4bgMuXPc6n4//NExA4VCY60AMZWlTzb0xFxWBJCRcrjylqX21UgymWW8RQcSHmcLrHZHe+UvFj/0Mm+SYu3cCKyXh9CZi9pqf/Sr2sr4X+TWamidWjRffB4dweq5+6woKFc7RCgt6up//NExAwVKZK0AMYUlNy5+xyjIQE4bVyIAUDyVqzvC/6S9cRfRSz+mIBZ8+uwnffwgXcShPuQA8WVCQBAucx426ltSrcm7juovVkQePsLTS7P9v///1XX8otUTeifhKZt//NExAoVGY68AH4MlbYBUHlfmGVpKr1uPw9QcmQzLc0wYthGGYIAX5lLDy7Crrl2XxiHqenll/CGGBSZNEcNUwADlpkD8fYeXy87Q7v/jNFzvuKaH60Lam2Dy0fAsSi6//NExAgRUQrIAGvYcNMNMKquCtjtRoBHwjKwnEydNlekGFZnIASj6ElQ/H0sKF8UHsXZlY3WV8F1qG1Vz4o9MLIW2yCiDS5VccNqmdPzXE4Cl1CoSdIgWwjIVqRJ6ECD//NExBUSmQbEAGPYcFRhF4Q6d8qENQCy5Kk8CyTgKmwbjgPRMXtLmFnO65ilnoXkKzka7GHOFTA1L1ARVbl1VRo9FaUbBi3gB3nTKShybESHajDoALwwWY9C/nCdBllx//NExB0SQQq8AU94AFazp45mBHYbTqbRXVIWKOsLVVTDewqPrVk3B1CarwoTfNNBz4zWdn/ASxEWWCHSIeAClY0JIAiCThdsHKHSulQARl8x02SQ4NXB1R3ivhAxBbDo//NExCcb6c6YAZl4ADuC+IMrUMNxYjhhg2ydnRInuukKj3xid5NHZ0upi3KKevq1x676wqY7xkif/51Xfp//TX9Kb+///n7xf///Gol3vu//d///71KAwsBKUqjTbcVA//NExAoUIQaoAZh4AAISwsULghTEhEpfQu5lLa4kvMtyhrov0Jyen6UYKqpIR0j6XLeoLbewXlKK1lhSVxBhbmfrCNpjDU5PYVioVYnFf4KBrSEqwvBBGnA04L9AbzJC//NExAwRIPaYAdhIAbuqxw60+xPyigneVOUF75vcfCqQKmh0NoTbvO9hCG5GvXivbmG2JyT3V7/3Az76VjlkAGHThhg/OsKZNeeEAUYnYK4RkLWhDpwPLIS0wpBrTByZ//NExBoRqZagAMLMlXOJrg+CYnjqPI8Hoqeu////u2bsVP/8/fja3+32yc7SemgEWCGi00AgsurXhfj6d0eBjyriARSl2jTnjLY2L323lN/tk9FbiJGbHPQ+pSrgP1rL//NExCYSEZKcAMvMlB+msa+P/////fdev3/z4zfM0933U3LaEYMOMGzMoFQ2KMPVpIwj7EzCBOgYEnmvAxOdhCZFpls9PKNVsKlHnLtUGTxpNAZskj+S3Ufe6mffP1z///NExDASeY6kAVhYATGxzO/5+p6jt8OZDqZLVTrjsk6SU1CTjwgYGQDIjCoINUKABkE51D+caQEMGsCZ0ICgekeVVEggOohxJl52sO1dQEtea6nIp1BkabshKU2kaaKc//NExDkfqc6UAZnAAMmYGQpMcLG8LW9df+MTlukwllF/Mrkqx73KUz6YkW3lSWMJRDEhcPtamx7TTOWdjkrgx4JuXUmv///GM5f///yB+6992KXrox2wxbqqqoVLK5SD//NExA0RSYa4Ac9YAfYAX5LS1R6udLMaO6iTsM1UEnwVHlxISCWmgxW1bipuK672WnDD0Ld0z/4+Oevpj5Qeoxq9rUjNqvYiz4nXazQxso6RWrsuRmADk9SsV51Nitlf//NExBoSiZa0AHvMlECWRvewI0dxcDiQhHN+nl70prW6ydrGc1jrEnMk0u3/z59+ffXnnc31tI4lqMJQtVW1BWncqzPSiIS7A5OUxywwqkOL4hLJBW9OtOXHc4dMko2J//NExCIRcW6sAU9YASUglIAHGY+0Ts7t3fPFw5U6o4xOxLueOf///dzpaNI5ay0gbTVwH/McieBgeBigAwkKTNgLi0jJBGVRYRmeYuaBQAzhvl2AMiWhnC1FtHGXYaiu//NExC8eAaKIAZh4AE6lAWQr5vE6RxKhaFGqVeqKrUZniqtWsUbL5cODdBvVEQo+PCV0ua1vikkFTuO/8STwsWt8Wq37f2ibifU+XqFAAeioKljv/gF2m+MYErpE1mEt//NExAoQqL4wAdhgACkxnFmn+tSWW1MqazjKZTVltFWjS2i46PmmRxAKJWsufbWTFd7BE8TRKGgaBUFd/r2bv3sW4GjvWoSWDkRWm0l+vS3FHJraQ1VrR0bACStvuPzq//NExBoSEL4IAMJSTMIMkSFZZ8fclqeCh16Fm2jyRgGiTAy08GZR+meWwzewtElOIjcJPlfdqpb/t/rqUHMBwkMHPvQRqIy0XLEjSNmVKQUkTClxIxKQYWFCCoBGg6GZ//NExCQReIn4AMJGTAJho8KG2AJoveuJXGTaJW9LGvaoe5ffWNVLMs9Pwnq/f9cIcDhBegXjHMl6yop0rt0WoKA0CLOUkarnIklz5hrS9gYzHYKrixMZAoihUJKLEtLI//NExDEREMXoAHmGcEj0rjC2ecVLfYdq/a2vZ9Yz/VoVBqAF48g1B4ddlzcgBk80gQZRtziK9ggAoGZOBsiJXI68QuiKfUEXhE/OHIWdd////05DIWZDJ0kJPIT4jhgT//NExD8QyL3QAHpGTMPlHA+qC8T8gO9DRIVVZIl4mlVoAmW5MzsS2Rw4IQobKJmgCkySNmxEVWVXQIaLnJahezbM1mUStwhqq3lCbMfP4KEtZVZWmRRfcmL0NTumZSXM//NExE4dewHcAMJGuavNDvk6nClUb7DKKlR82IkMl3Nl3RSz+C0XJjpHAeXDhx6XwmBTkykmQtYnZ4kAOwwuKxhYhITbYQEYYUDLVAwiEBckeqWWTYdeLqrtewXXUQFn//NExCsR+GnwAHpGKAubQOQ1VRAXNtNocaaeuQl9yJvu6Nz6GKj2/eogHpEdRCYMdeZU22AsWH3Cm3RoBAUgtMVA0HYBQ0CoBJFhSIngrWGsqrLPO97S1SVpd5JIqlhp//NExDYR4Hn0AHpGSLouCpx9dDXMdT2urp2PpWSSmiUD7IOexyF4FYG4Km5qn1AiDwh72/UIAgNPkxGBAiTlwsCAneuIJynOWz6Ha6B6H9iRa1ieqPb3r0FF97Ce841+//NExEERCG3cAHpMKKW59VV8HSWI2x8EZXZ8NCMb4UWOpgyCaAThguaDAjEwIAuZBMPDobGDIbDwmDBGfDAjJgwIyUEwUJQ2MEobEBMGBs0KC7yQuhJyjJOUi2oiYRyY//NExE8ggZX4AHpSlV2mEcW1ItqRbUk5eTC+sW6Ygsj3T+SPdKTMCZGVKqu+4AzbmYcyMPAMxBZHOY9W3///+gqidklL8q0Jbp8UjQWERVgmTfkkKhMITAJHDRKkuyRL//NExCAXIPnoAHpScJKIUBMQqNIUnojp4VHTJEuyrB6FJ6GgMDoVdCQFBIkyFQEDpIGSISAwOg2EjVB4ZoInXf/+MAQlIuhICpUOEZRPy4HmmkcoU8IhsUE540SkRUqU//NExBYRWL1cAHpGTF0AsYUs+WWUECdDJlDAwcBw0DIo36hYXEZkBCwqz6xUWQaFRRv/qFhXU3+sU//9SkxBTUUzLjEwMKqqqqqqqqqqqqqqqqqqqqqqqqqqqqqqqqqq\" type=\"audio/x-wav\" />\n",
              "                    Your browser does not support the audio element.\n",
              "                </audio>\n",
              "              "
            ]
          },
          "metadata": {},
          "execution_count": 216
        }
      ]
    },
    {
      "cell_type": "markdown",
      "source": [
        "Fala em Espanhol"
      ],
      "metadata": {
        "id": "b_Ah7oNPlSLS"
      }
    },
    {
      "cell_type": "code",
      "source": [
        "#   Agora estou testando em Espanhol...\n",
        "\n",
        "espanha_texto = \"Holla, muchacho!\"\n",
        "espanha_lingua = \"es\"\n",
        "\n",
        "espanha_gtts_object = gTTS(text = espanha_texto,\n",
        "                          lang = espanha_lingua,\n",
        "                          slow = True)\n",
        "\n",
        "span = \"/content/teste_espanhol.wav\"\n",
        "espanha_gtts_object.save(span)\n",
        "Audio(span)"
      ],
      "metadata": {
        "colab": {
          "base_uri": "https://localhost:8080/",
          "height": 61
        },
        "id": "KaE850m5k7nn",
        "outputId": "a6d5aed0-8469-41a4-e090-eb5b722c81a0"
      },
      "execution_count": null,
      "outputs": [
        {
          "output_type": "execute_result",
          "data": {
            "text/plain": [
              "<IPython.lib.display.Audio object>"
            ],
            "text/html": [
              "\n",
              "                <audio  controls=\"controls\" >\n",
              "                    <source src=\"data:audio/x-wav;base64,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\" type=\"audio/x-wav\" />\n",
              "                    Your browser does not support the audio element.\n",
              "                </audio>\n",
              "              "
            ]
          },
          "metadata": {},
          "execution_count": 217
        }
      ]
    },
    {
      "cell_type": "markdown",
      "source": [
        "###Testes com a biblioteca OS e Deep Speech (Mozila) - Transforma fala em texto (reconhecimento de fala)"
      ],
      "metadata": {
        "id": "Xy0oxBGPXyPv"
      }
    },
    {
      "cell_type": "markdown",
      "source": [
        "#### Reconhecimento de fala com DeepSpeech\n",
        "\n",
        "Este notebook usa um projeto de código aberto [mozilla/DeepSpeech](https://github.com/mozilla/DeepSpeech) para transcrever um determinado vídeo do youtube.\n",
        "\n",
        "Para outros notebooks Colab de aprendizado profundo, visite [tugstugi/dl-colab-notebooks](https://github.com/tugstugi/dl-colab-notebooks).\n",
        "\n",
        "\n",
        "##### Instale o DeepSpeech"
      ],
      "metadata": {
        "id": "lib64xvEwcRr"
      }
    },
    {
      "cell_type": "markdown",
      "source": [
        "####Importações"
      ],
      "metadata": {
        "id": "MQOqltSEXyPw"
      }
    },
    {
      "cell_type": "code",
      "source": [
        "#@title\n",
        "import os\n",
        "from os.path import exists, join, basename, splitext\n",
        "\n",
        "if not exists('deepspeech-0.6.1-models'):\n",
        "  !apt-get install -qq sox\n",
        "  !pip install -q deepspeech-gpu==0.6.1 youtube-dl\n",
        "  !wget https://github.com/mozilla/DeepSpeech/releases/download/v0.6.1/deepspeech-0.6.1-models.tar.gz\n",
        "  !tar xvfz deepspeech-0.6.1-models.tar.gz\n",
        "  \n",
        "from IPython.display import YouTubeVideo"
      ],
      "metadata": {
        "id": "TVocv8pTwweJ"
      },
      "execution_count": null,
      "outputs": []
    },
    {
      "cell_type": "markdown",
      "source": [
        "Download the above video, convert to a WAV file and do speech recognition:"
      ],
      "metadata": {
        "id": "9h03SiFSxCTR"
      }
    },
    {
      "cell_type": "markdown",
      "source": [
        "####Implementando...\n",
        "#### Transcribe Youtube Video\n",
        "\n",
        "We are going to make speech recognition on the following youtube video:"
      ],
      "metadata": {
        "id": "jsG8OkfgXyPx"
      }
    },
    {
      "cell_type": "code",
      "source": [
        "YOUTUBE_ID = '2AFpAATHXtc'\n",
        "\n",
        "YouTubeVideo(YOUTUBE_ID)"
      ],
      "metadata": {
        "id": "1Hm-2ehSw-1I",
        "colab": {
          "base_uri": "https://localhost:8080/",
          "height": 321
        },
        "outputId": "c9b12714-ce51-467d-8342-40e84bf3b94b"
      },
      "execution_count": null,
      "outputs": [
        {
          "output_type": "execute_result",
          "data": {
            "text/plain": [
              "<IPython.lib.display.YouTubeVideo at 0x7fb3d5accb50>"
            ],
            "text/html": [
              "\n",
              "        <iframe\n",
              "            width=\"400\"\n",
              "            height=\"300\"\n",
              "            src=\"https://www.youtube.com/embed/2AFpAATHXtc\"\n",
              "            frameborder=\"0\"\n",
              "            allowfullscreen\n",
              "        ></iframe>\n",
              "        "
            ],
            "image/jpeg": "[encoded data removed]"
          },
          "metadata": {},
          "execution_count": 4
        }
      ]
    },
    {
      "cell_type": "code",
      "source": [
        "!rm -rf *.wav\n",
        "!youtube-dl --extract-audio --audio-format wav --output \"test.%(ext)s\" https://www.youtube.com/watch\\?v\\={YOUTUBE_ID}\n",
        "!deepspeech --model deepspeech-0.6.1-models/output_graph.pbmm --lm deepspeech-0.6.1-models/lm.binary --trie deepspeech-0.6.1-models/trie --audio test.wav"
      ],
      "metadata": {
        "id": "unOqxYdzxDYA",
        "colab": {
          "base_uri": "https://localhost:8080/"
        },
        "outputId": "66c370ea-b4a2-4006-cdd6-5798ca715a37"
      },
      "execution_count": null,
      "outputs": [
        {
          "output_type": "stream",
          "name": "stdout",
          "text": [
            "[youtube] 2AFpAATHXtc: Downloading webpage\n",
            "[download] Destination: test.m4a\n",
            "\u001b[K[download] 100% of 2.68MiB in 00:53\n",
            "[ffmpeg] Correcting container in \"test.m4a\"\n",
            "[ffmpeg] Destination: test.wav\n",
            "Deleting original file test.m4a (pass -k to keep)\n",
            "Traceback (most recent call last):\n",
            "  File \"/usr/local/lib/python3.7/dist-packages/deepspeech/impl.py\", line 14, in swig_import_helper\n",
            "    return importlib.import_module(mname)\n",
            "  File \"/usr/lib/python3.7/importlib/__init__.py\", line 127, in import_module\n",
            "    return _bootstrap._gcd_import(name[level:], package, level)\n",
            "  File \"<frozen importlib._bootstrap>\", line 1006, in _gcd_import\n",
            "  File \"<frozen importlib._bootstrap>\", line 983, in _find_and_load\n",
            "  File \"<frozen importlib._bootstrap>\", line 967, in _find_and_load_unlocked\n",
            "  File \"<frozen importlib._bootstrap>\", line 670, in _load_unlocked\n",
            "  File \"<frozen importlib._bootstrap>\", line 583, in module_from_spec\n",
            "  File \"<frozen importlib._bootstrap_external>\", line 1043, in create_module\n",
            "  File \"<frozen importlib._bootstrap>\", line 219, in _call_with_frames_removed\n",
            "ImportError: libcublas.so.10.0: cannot open shared object file: No such file or directory\n",
            "\n",
            "During handling of the above exception, another exception occurred:\n",
            "\n",
            "Traceback (most recent call last):\n",
            "  File \"/usr/local/bin/deepspeech\", line 5, in <module>\n",
            "    from deepspeech.client import main\n",
            "  File \"/usr/local/lib/python3.7/dist-packages/deepspeech/__init__.py\", line 23, in <module>\n",
            "    from deepspeech.impl import PrintVersions as printVersions\n",
            "  File \"/usr/local/lib/python3.7/dist-packages/deepspeech/impl.py\", line 17, in <module>\n",
            "    _impl = swig_import_helper()\n",
            "  File \"/usr/local/lib/python3.7/dist-packages/deepspeech/impl.py\", line 16, in swig_import_helper\n",
            "    return importlib.import_module('_impl')\n",
            "  File \"/usr/lib/python3.7/importlib/__init__.py\", line 127, in import_module\n",
            "    return _bootstrap._gcd_import(name[level:], package, level)\n",
            "ModuleNotFoundError: No module named '_impl'\n"
          ]
        }
      ]
    },
    {
      "cell_type": "markdown",
      "source": [
        "#####Meus testes\n",
        "https://www.youtube.com/shorts/fqDC-tyh0dA"
      ],
      "metadata": {
        "id": "oYRoiGfagMYm"
      }
    },
    {
      "cell_type": "code",
      "source": [
        "#YOUTUBE_ID = 'fqDC-tyh0dA'\n",
        "YOUTUBE_ID = 'VSQ45tBazvs'\n",
        "\n",
        "YouTubeVideo(YOUTUBE_ID)"
      ],
      "metadata": {
        "colab": {
          "base_uri": "https://localhost:8080/",
          "height": 321
        },
        "id": "Uvv0UhUGgQik",
        "outputId": "3d1a44d9-47a4-46bb-d181-3bea9342ca9e"
      },
      "execution_count": null,
      "outputs": [
        {
          "output_type": "execute_result",
          "data": {
            "text/plain": [
              "<IPython.lib.display.YouTubeVideo at 0x7fb3d5adb390>"
            ],
            "text/html": [
              "\n",
              "        <iframe\n",
              "            width=\"400\"\n",
              "            height=\"300\"\n",
              "            src=\"https://www.youtube.com/embed/VSQ45tBazvs\"\n",
              "            frameborder=\"0\"\n",
              "            allowfullscreen\n",
              "        ></iframe>\n",
              "        "
            ],
            "image/jpeg": "[encoded data removed]"
          },
          "metadata": {},
          "execution_count": 13
        }
      ]
    },
    {
      "cell_type": "code",
      "source": [
        "!rm -rf *.wav\n",
        "!youtube-dl --extract-audio --audio-format wav --output \"test2.%(ext)s\" https://www.youtube.com/watch\\?v\\={YOUTUBE_ID}\n",
        "!deepspeech --model deepspeech-0.6.1-models/output_graph.pbmm --lm deepspeech-0.6.1-models/lm.binary --trie deepspeech-0.6.1-models/trie --audio test.wav"
      ],
      "metadata": {
        "colab": {
          "base_uri": "https://localhost:8080/"
        },
        "id": "LNiAh8BVgwPT",
        "outputId": "b9dfcd1f-efc8-4fb2-af1a-0b5ff643fe68"
      },
      "execution_count": null,
      "outputs": [
        {
          "output_type": "stream",
          "name": "stdout",
          "text": [
            "[youtube] fqDC-tyh0dA: Downloading webpage\n",
            "[download] Destination: test2.m4a\n",
            "\u001b[K[download] 100% of 934.26KiB in 00:13\n",
            "[ffmpeg] Correcting container in \"test2.m4a\"\n",
            "[ffmpeg] Destination: test2.wav\n",
            "Deleting original file test2.m4a (pass -k to keep)\n",
            "Traceback (most recent call last):\n",
            "  File \"/usr/local/lib/python3.7/dist-packages/deepspeech/impl.py\", line 14, in swig_import_helper\n",
            "    return importlib.import_module(mname)\n",
            "  File \"/usr/lib/python3.7/importlib/__init__.py\", line 127, in import_module\n",
            "    return _bootstrap._gcd_import(name[level:], package, level)\n",
            "  File \"<frozen importlib._bootstrap>\", line 1006, in _gcd_import\n",
            "  File \"<frozen importlib._bootstrap>\", line 983, in _find_and_load\n",
            "  File \"<frozen importlib._bootstrap>\", line 967, in _find_and_load_unlocked\n",
            "  File \"<frozen importlib._bootstrap>\", line 670, in _load_unlocked\n",
            "  File \"<frozen importlib._bootstrap>\", line 583, in module_from_spec\n",
            "  File \"<frozen importlib._bootstrap_external>\", line 1043, in create_module\n",
            "  File \"<frozen importlib._bootstrap>\", line 219, in _call_with_frames_removed\n",
            "ImportError: libcublas.so.10.0: cannot open shared object file: No such file or directory\n",
            "\n",
            "During handling of the above exception, another exception occurred:\n",
            "\n",
            "Traceback (most recent call last):\n",
            "  File \"/usr/local/bin/deepspeech\", line 5, in <module>\n",
            "    from deepspeech.client import main\n",
            "  File \"/usr/local/lib/python3.7/dist-packages/deepspeech/__init__.py\", line 23, in <module>\n",
            "    from deepspeech.impl import PrintVersions as printVersions\n",
            "  File \"/usr/local/lib/python3.7/dist-packages/deepspeech/impl.py\", line 17, in <module>\n",
            "    _impl = swig_import_helper()\n",
            "  File \"/usr/local/lib/python3.7/dist-packages/deepspeech/impl.py\", line 16, in swig_import_helper\n",
            "    return importlib.import_module('_impl')\n",
            "  File \"/usr/lib/python3.7/importlib/__init__.py\", line 127, in import_module\n",
            "    return _bootstrap._gcd_import(name[level:], package, level)\n",
            "ModuleNotFoundError: No module named '_impl'\n"
          ]
        }
      ]
    },
    {
      "cell_type": "markdown",
      "source": [
        "Meus testes aparentemente não funcionaram, ou não consegui mensurar..."
      ],
      "metadata": {
        "id": "05xiV5R1gaMe"
      }
    },
    {
      "cell_type": "markdown",
      "source": [
        "###Testes detector de rosto (Face Detection)"
      ],
      "metadata": {
        "id": "BHyZDtHpYTRF"
      }
    },
    {
      "cell_type": "markdown",
      "source": [
        "#### Sistema de detecção de faces humanas\n",
        "\n",
        "Nosso sistema deve ser capaz de detectar a região que representa a face, dando suporte para o sistema de classificação reconhecer a pessoa em questão.\n",
        "\n",
        "![image.png](data:image/png;base64,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)"
      ],
      "metadata": {
        "id": "td3Z6GtJrqMg"
      }
    },
    {
      "cell_type": "markdown",
      "source": [
        "#####Importações\n",
        "Importando as bibliotecas e requerimentos necessários"
      ],
      "metadata": {
        "id": "hf7jBCpTYTRG"
      }
    },
    {
      "cell_type": "code",
      "source": [
        "#   Redimencionamento, rotacao\n",
        "import imutils\n",
        "import numpy as np\n",
        "#   Importamos OpenCV\n",
        "import cv2\n",
        "from google.colab.patches import cv2_imshow\n",
        "from IPython.display import display, Javascript #webcan leitura\n",
        "from google.colab.output import eval_js #webcan leitura\n",
        "from base64 import b64decode #biblioteca para codificar dados binários"
      ],
      "metadata": {
        "id": "tSwdQvEqsAyE"
      },
      "execution_count": null,
      "outputs": []
    },
    {
      "cell_type": "markdown",
      "source": [
        "#####Implementando..."
      ],
      "metadata": {
        "id": "befPWefRYTRH"
      }
    },
    {
      "cell_type": "markdown",
      "source": [
        "*Start* webcam"
      ],
      "metadata": {
        "id": "rc3bLD9OsIx7"
      }
    },
    {
      "cell_type": "code",
      "source": [
        "def take_photo(filename='photo.jpg', quality=0.8):\n",
        "  js = Javascript('''\n",
        "    async function takePhoto(quality) {\n",
        "      const div = document.createElement('div');\n",
        "      const capture = document.createElement('button');\n",
        "      capture.textContent = 'Capture';\n",
        "      div.appendChild(capture);\n",
        "\n",
        "      const video = document.createElement('video');\n",
        "      video.style.display = 'block';\n",
        "      const stream = await navigator.mediaDevices.getUserMedia({video: true});\n",
        "\n",
        "      document.body.appendChild(div);\n",
        "      div.appendChild(video);\n",
        "      video.srcObject = stream;\n",
        "      await video.play();\n",
        "\n",
        "      // Resize the output to fit the video element.\n",
        "      google.colab.output.setIframeHeight(document.documentElement.scrollHeight, true);\n",
        "\n",
        "      // Wait for Capture to be clicked.\n",
        "      await new Promise((resolve) => capture.onclick = resolve);\n",
        "\n",
        "      const canvas = document.createElement('canvas');\n",
        "      canvas.width = video.videoWidth;\n",
        "      canvas.height = video.videoHeight;\n",
        "      canvas.getContext('2d').drawImage(video, 0, 0);\n",
        "      stream.getVideoTracks()[0].stop();\n",
        "      div.remove();\n",
        "      return canvas.toDataURL('image/jpeg', quality);\n",
        "    }\n",
        "    ''')\n",
        "  display(js)\n",
        "  data = eval_js('takePhoto({})'.format(quality))\n",
        "  binary = b64decode(data.split(',')[1])\n",
        "  with open(filename, 'wb') as f:\n",
        "    f.write(binary)\n",
        "  return filename"
      ],
      "metadata": {
        "id": "j2i9xYzysKh5"
      },
      "execution_count": null,
      "outputs": []
    },
    {
      "cell_type": "markdown",
      "source": [
        "Clique em 'Capturar' para fazer a foto usando sua webcam.\n",
        "\n",
        "---"
      ],
      "metadata": {
        "id": "iq07FWGwsT4U"
      }
    },
    {
      "cell_type": "code",
      "source": [
        "#image_file = take_photo()    #Erro!"
      ],
      "metadata": {
        "id": "QwJccHsxsUij"
      },
      "execution_count": null,
      "outputs": []
    },
    {
      "cell_type": "markdown",
      "source": [
        "Leia, redimensione e exiba a imagem. "
      ],
      "metadata": {
        "id": "kPLO-hcxsYWn"
      }
    },
    {
      "cell_type": "code",
      "source": [
        "image = cv2.imread(image_file)\n",
        "\n",
        "#   Redimensiona para ter uma largura máxima de 400 pixels\n",
        "image = imutils.resize(image, width=400)\n",
        "(h, w) = image.shape[:2]\n",
        "print(w,h)\n",
        "cv2_imshow(image)"
      ],
      "metadata": {
        "id": "-8cyXX-ZsbRm"
      },
      "execution_count": null,
      "outputs": []
    },
    {
      "cell_type": "markdown",
      "source": [
        "O detector de face em Deep Learning do OpenCV é baseado na estrutura Single Shot Detector (SSD) com uma rede base ResNet. A rede é definida e treinada usando o [Caffe Deep Learning framework](https://caffe.berkeleyvision.org/)"
      ],
      "metadata": {
        "id": "KxZ_uYdfsg7O"
      }
    },
    {
      "cell_type": "markdown",
      "source": [
        "Baixe o modelo de detecção de rosto pré-treinado, composto por dois arquivos:\n",
        "\n",
        "- A definição de rede (deploy.prototxt)\n",
        "- Os pesos aprendidos (res10_300x300_ssd_iter_140000.caffemodel)"
      ],
      "metadata": {
        "id": "HZEi9bl4shwO"
      }
    },
    {
      "cell_type": "code",
      "source": [
        "!wget -N https://raw.githubusercontent.com/opencv/opencv/master/samples/dnn/face_detector/deploy.prototxt\n",
        "!wget -N https://raw.githubusercontent.com/opencv/opencv_3rdparty/dnn_samples_face_detector_20170830/res10_300x300_ssd_iter_140000.caffemodel"
      ],
      "metadata": {
        "id": "7TZ8rnTRslOm"
      },
      "execution_count": null,
      "outputs": []
    },
    {
      "cell_type": "markdown",
      "source": [
        "Carregar o modelo de rede de detecção facial pré-treinado do disco"
      ],
      "metadata": {
        "id": "nBhBYb03sput"
      }
    },
    {
      "cell_type": "code",
      "source": [
        "print(\"[INFO] loading model...\")\n",
        "prototxt = 'deploy.prototxt'\n",
        "model = 'res10_300x300_ssd_iter_140000.caffemodel'\n",
        "net = cv2.dnn.readNetFromCaffe(prototxt, model)"
      ],
      "metadata": {
        "id": "WXhgTo-ssqm1"
      },
      "execution_count": null,
      "outputs": []
    },
    {
      "cell_type": "markdown",
      "source": [
        "Use a função dnn.blobFromImage para construir um blob de entrada redimensionando a imagem para 300x300 pixels fixos e normalizando-a"
      ],
      "metadata": {
        "id": "Z5LJBK8DsvKd"
      }
    },
    {
      "cell_type": "code",
      "source": [
        "#   Redimensiona para ter uma largura máxima de 400 pixels\n",
        "image = imutils.resize(image, width=400)\n",
        "blob = cv2.dnn.blobFromImage(cv2.resize(image, (300, 300)), 1.0, (300, 300), (104.0, 177.0, 123.0))"
      ],
      "metadata": {
        "id": "3_P5TWPrsyR8"
      },
      "execution_count": null,
      "outputs": []
    },
    {
      "cell_type": "code",
      "source": [
        "print(\"[INFO] computing object detections...\")\n",
        "net.setInput(blob)\n",
        "detections = net.forward()"
      ],
      "metadata": {
        "id": "T8kU4Cx1s1OL"
      },
      "execution_count": null,
      "outputs": []
    },
    {
      "cell_type": "markdown",
      "source": [
        "Faça um loop para as detecções e desenhe caixas ao redor dos rostos detectados"
      ],
      "metadata": {
        "id": "_DW82dM9s5Ne"
      }
    },
    {
      "cell_type": "code",
      "source": [
        "for i in range(0, detections.shape[2]):\n",
        "\n",
        "#   Extrair a probabilidade associada à previsão\n",
        "\tconfidence = detections[0, 0, i, 2]\n",
        "\n",
        "#   Filtra detecções fracas garantindo que a \"confiança\" seja\n",
        "#   Maior que o limite mínimo de confiança\n",
        "\tif confidence > 0.5: #Nossa detecção deve ter no mínimo 50% de certeza\n",
        "\t#Calcula as coordenadas (x, y) da caixa delimitadora do objeto\n",
        "\t\tbox = detections[0, 0, i, 3:7] * np.array([w, h, w, h])\n",
        "\t\t(startX, startY, endX, endY) = box.astype(\"int\")\n",
        "\t#Desenha a caixa delimitadora da face junto com a probabilidade associada\n",
        "\t\ttext = \"{:.2f}%\".format(confidence * 100)\n",
        "\t\ty = startY - 10 if startY - 10 > 10 else startY + 10\n",
        "\t\tcv2.rectangle(image, (startX, startY), (endX, endY), (0, 0, 255), 2)\n",
        "\t\tcv2.putText(image, text, (startX, y),\n",
        "\t\t\tcv2.FONT_HERSHEY_SIMPLEX, 0.45, (0, 0, 255), 2)"
      ],
      "metadata": {
        "id": "HfWZIk1hs8K7"
      },
      "execution_count": null,
      "outputs": []
    },
    {
      "cell_type": "markdown",
      "source": [
        "Gera resultado na tela"
      ],
      "metadata": {
        "id": "Fs4nX78js9Kk"
      }
    },
    {
      "cell_type": "code",
      "source": [
        "cv2_imshow(image)"
      ],
      "metadata": {
        "id": "in__wlmBs_2-"
      },
      "execution_count": null,
      "outputs": []
    },
    {
      "cell_type": "markdown",
      "source": [
        "###Projeto IoT-Automação"
      ],
      "metadata": {
        "id": "lT4HEW3CYvSF"
      }
    },
    {
      "cell_type": "markdown",
      "source": [
        "####Importações"
      ],
      "metadata": {
        "id": "pdCp-vpFYvSH"
      }
    },
    {
      "cell_type": "code",
      "source": [
        "!pip install SpeechRecognition"
      ],
      "metadata": {
        "colab": {
          "base_uri": "https://localhost:8080/"
        },
        "id": "aiNY9fOLuseE",
        "outputId": "2f85ad18-c03f-40d7-bd2b-876d6fe6c251"
      },
      "execution_count": null,
      "outputs": [
        {
          "output_type": "stream",
          "name": "stdout",
          "text": [
            "Looking in indexes: https://pypi.org/simple, https://us-python.pkg.dev/colab-wheels/public/simple/\n",
            "Requirement already satisfied: SpeechRecognition in /usr/local/lib/python3.7/dist-packages (3.8.1)\n"
          ]
        }
      ]
    },
    {
      "cell_type": "markdown",
      "source": [
        "Encontrei a solução para instalar o pyaudio no Colab.\n",
        "Antes é preciso instalar algumas bibliotecas através do comando:\n",
        "\"!apt install libasound2-dev portaudio19-dev libportaudio2 libportaudiocpp0 ffmpeg\"\n",
        "Como segue abaixo:"
      ],
      "metadata": {
        "id": "LJpVLSWm5jBA"
      }
    },
    {
      "cell_type": "code",
      "source": [
        "print(\"Instalando bibliotecas preliminares ao pyaudio...\")\n",
        "print()\n",
        "!apt install libasound2-dev portaudio19-dev libportaudio2 libportaudiocpp0 ffmpeg\n",
        "print()\n",
        "print(\"-----------------------------------\")\n",
        "print(\"Bibliotecas preliminares prontas!\")\n",
        "print(\"Instalando pyaudio ...\")\n",
        "print()\n",
        "!pip install pyaudio"
      ],
      "metadata": {
        "colab": {
          "base_uri": "https://localhost:8080/"
        },
        "id": "iLtWtFWP11wW",
        "outputId": "da414895-827a-403b-f638-7a406fb8f6f3"
      },
      "execution_count": null,
      "outputs": [
        {
          "output_type": "stream",
          "name": "stdout",
          "text": [
            "Instalando bibliotecas preliminares ao pyaudio...\n",
            "\n",
            "Reading package lists... Done\n",
            "Building dependency tree       \n",
            "Reading state information... Done\n",
            "libportaudio2 is already the newest version (19.6.0-1).\n",
            "libportaudiocpp0 is already the newest version (19.6.0-1).\n",
            "portaudio19-dev is already the newest version (19.6.0-1).\n",
            "libasound2-dev is already the newest version (1.1.3-5ubuntu0.6).\n",
            "ffmpeg is already the newest version (7:3.4.11-0ubuntu0.1).\n",
            "The following package was automatically installed and is no longer required:\n",
            "  libnvidia-common-460\n",
            "Use 'apt autoremove' to remove it.\n",
            "0 upgraded, 0 newly installed, 0 to remove and 5 not upgraded.\n",
            "\n",
            "-----------------------------------\n",
            "Bibliotecas preliminares pronto!\n",
            "Instalando pyaudio ...\n",
            "\n",
            "Looking in indexes: https://pypi.org/simple, https://us-python.pkg.dev/colab-wheels/public/simple/\n",
            "Requirement already satisfied: pyaudio in /usr/local/lib/python3.7/dist-packages (0.2.12)\n"
          ]
        }
      ]
    },
    {
      "cell_type": "code",
      "source": [
        "import speech_recognition as sr\n",
        "\n",
        "import os"
      ],
      "metadata": {
        "id": "DOkaFmzht1hO"
      },
      "execution_count": null,
      "outputs": []
    },
    {
      "cell_type": "code",
      "source": [
        "print(\"testando\")"
      ],
      "metadata": {
        "colab": {
          "base_uri": "https://localhost:8080/"
        },
        "id": "VBhcVs8It5on",
        "outputId": "647c24d6-e7fc-4638-b66c-1d8c870fc659"
      },
      "execution_count": null,
      "outputs": [
        {
          "output_type": "stream",
          "name": "stdout",
          "text": [
            "testando\n"
          ]
        }
      ]
    },
    {
      "cell_type": "code",
      "source": [
        "from platform import python_version\n",
        "print(python_version)"
      ],
      "metadata": {
        "colab": {
          "base_uri": "https://localhost:8080/"
        },
        "id": "2mqVGQhyvyri",
        "outputId": "05fefb88-d81d-4b8a-ca21-d9ccde06d74c"
      },
      "execution_count": null,
      "outputs": [
        {
          "output_type": "stream",
          "name": "stdout",
          "text": [
            "<function python_version at 0x7f27769f7c20>\n"
          ]
        }
      ]
    },
    {
      "cell_type": "markdown",
      "source": [
        "####Implementando..."
      ],
      "metadata": {
        "id": "E0u9L2JQYvSI"
      }
    },
    {
      "cell_type": "code",
      "source": [
        "#   Função para ouvir e reconhecer a fala\n",
        "def ouvir_microfone():\n",
        "    #Habilita o microfone do usuário\n",
        "    microfone = sr.Recognizer()\n",
        "    \n",
        "    #Usando o microfone\n",
        "    with sr.Microphone() as source:\n",
        "        \n",
        "        #Chama um algoritmo de reducao de ruidos no som\n",
        "        microfone.adjust_for_ambient_noise(source)\n",
        "        \n",
        "        #Frase para o usuario dizer algo\n",
        "        print(\"Diga alguma coisa: \")\n",
        "        \n",
        "        #Armazena o que foi dito numa variavel\n",
        "        audio = microfone.listen(source)\n",
        "        \n",
        "    try:\n",
        "        \n",
        "        #Passa a variável para o algoritmo reconhecedor de padroes\n",
        "        frase = microfone.recognize_google(audio,language='pt-BR')\n",
        "\n",
        "        if \"navegador\" in frase:\n",
        "            os.system(\"start Chrome.exe\")\n",
        "\n",
        "        elif \"Excel\" in frase:\n",
        "            os.system(\"start Excel.exe\")\n",
        "        \n",
        "        #Retorna a frase pronunciada\n",
        "        print(\"Você disse: \" + frase)\n",
        "        \n",
        "    #Se nao reconheceu o padrao de fala, exibe a mensagem\n",
        "    except sr.UnkownValueError:\n",
        "        print(\"Não entendi\")\n",
        "        \n",
        "    return frase\n",
        "\n",
        "#ouvir_microfone()"
      ],
      "metadata": {
        "id": "YwUexZKAtwT2"
      },
      "execution_count": null,
      "outputs": []
    },
    {
      "cell_type": "code",
      "source": [
        "#ouvir_microfone()    #Erro!"
      ],
      "metadata": {
        "id": "GorXXQKx7EW-"
      },
      "execution_count": null,
      "outputs": []
    },
    {
      "cell_type": "markdown",
      "source": [
        "###Projeto Lâmpada IoT"
      ],
      "metadata": {
        "id": "qx7bHDKBY35H"
      }
    },
    {
      "cell_type": "markdown",
      "source": [
        "####Importações"
      ],
      "metadata": {
        "id": "_k3O6Ci2Y35I"
      }
    },
    {
      "cell_type": "code",
      "source": [
        "!pip install SpeechRecognition\n",
        "!pip install pyttsx3"
      ],
      "metadata": {
        "colab": {
          "base_uri": "https://localhost:8080/"
        },
        "id": "MN6EhqNP3VAn",
        "outputId": "e1c43a72-e771-4ef7-fcd8-48e86017d272"
      },
      "execution_count": null,
      "outputs": [
        {
          "output_type": "stream",
          "name": "stdout",
          "text": [
            "Looking in indexes: https://pypi.org/simple, https://us-python.pkg.dev/colab-wheels/public/simple/\n",
            "Requirement already satisfied: SpeechRecognition in /usr/local/lib/python3.7/dist-packages (3.8.1)\n",
            "Looking in indexes: https://pypi.org/simple, https://us-python.pkg.dev/colab-wheels/public/simple/\n",
            "Collecting pyttsx3\n",
            "  Downloading pyttsx3-2.90-py3-none-any.whl (39 kB)\n",
            "Installing collected packages: pyttsx3\n",
            "Successfully installed pyttsx3-2.90\n"
          ]
        }
      ]
    },
    {
      "cell_type": "code",
      "source": [
        "conda install -c anaconda pyaudio\n",
        "#conda install -c anaconda pyserial"
      ],
      "metadata": {
        "colab": {
          "base_uri": "https://localhost:8080/",
          "height": 132
        },
        "id": "ueO2edTT249_",
        "outputId": "fc524478-b162-4bea-d172-1538c63932fd"
      },
      "execution_count": null,
      "outputs": [
        {
          "output_type": "error",
          "ename": "SyntaxError",
          "evalue": "ignored",
          "traceback": [
            "\u001b[0;36m  File \u001b[0;32m\"<ipython-input-44-534743305bcd>\"\u001b[0;36m, line \u001b[0;32m1\u001b[0m\n\u001b[0;31m    $ conda install -c anaconda pyaudio\u001b[0m\n\u001b[0m    ^\u001b[0m\n\u001b[0;31mSyntaxError\u001b[0m\u001b[0;31m:\u001b[0m invalid syntax\n"
          ]
        }
      ]
    },
    {
      "cell_type": "code",
      "source": [
        "import speech_recognition as sr # pip install SpeechRecognition\n",
        "import pyttsx3 # pip install pyttsx3\n",
        "#import serial #conda install -c anaconda pyserial    #Erro!\n",
        "import threading\n",
        "import time"
      ],
      "metadata": {
        "colab": {
          "base_uri": "https://localhost:8080/",
          "height": 376
        },
        "id": "9JXT7VvX2WuC",
        "outputId": "176206a0-2e7a-48b5-e53f-aeff08d8a9a7"
      },
      "execution_count": null,
      "outputs": [
        {
          "output_type": "error",
          "ename": "ModuleNotFoundError",
          "evalue": "ignored",
          "traceback": [
            "\u001b[0;31m---------------------------------------------------------------------------\u001b[0m",
            "\u001b[0;31mModuleNotFoundError\u001b[0m                       Traceback (most recent call last)",
            "\u001b[0;32m<ipython-input-39-71324eb0a7fe>\u001b[0m in \u001b[0;36m<module>\u001b[0;34m\u001b[0m\n\u001b[0;32m----> 1\u001b[0;31m \u001b[0;32mimport\u001b[0m \u001b[0mspeech_recognition\u001b[0m \u001b[0;32mas\u001b[0m \u001b[0msr\u001b[0m \u001b[0;31m# pip install SpeechRecognition\u001b[0m\u001b[0;34m\u001b[0m\u001b[0;34m\u001b[0m\u001b[0m\n\u001b[0m\u001b[1;32m      2\u001b[0m \u001b[0;32mimport\u001b[0m \u001b[0mpyttsx3\u001b[0m \u001b[0;31m# pip install pyttsx3\u001b[0m\u001b[0;34m\u001b[0m\u001b[0;34m\u001b[0m\u001b[0m\n\u001b[1;32m      3\u001b[0m \u001b[0;31m#import serial #conda install -c anaconda pyserial    #Erro!\u001b[0m\u001b[0;34m\u001b[0m\u001b[0;34m\u001b[0m\u001b[0;34m\u001b[0m\u001b[0m\n\u001b[1;32m      4\u001b[0m \u001b[0;32mimport\u001b[0m \u001b[0mthreading\u001b[0m\u001b[0;34m\u001b[0m\u001b[0;34m\u001b[0m\u001b[0m\n\u001b[1;32m      5\u001b[0m \u001b[0;32mimport\u001b[0m \u001b[0mtime\u001b[0m\u001b[0;34m\u001b[0m\u001b[0;34m\u001b[0m\u001b[0m\n",
            "\u001b[0;31mModuleNotFoundError\u001b[0m: No module named 'speech_recognition'",
            "",
            "\u001b[0;31m---------------------------------------------------------------------------\u001b[0;32m\nNOTE: If your import is failing due to a missing package, you can\nmanually install dependencies using either !pip or !apt.\n\nTo view examples of installing some common dependencies, click the\n\"Open Examples\" button below.\n\u001b[0;31m---------------------------------------------------------------------------\u001b[0m\n"
          ],
          "errorDetails": {
            "actions": [
              {
                "action": "open_url",
                "actionText": "Open Examples",
                "url": "/notebooks/snippets/importing_libraries.ipynb"
              }
            ]
          }
        }
      ]
    },
    {
      "cell_type": "markdown",
      "source": [
        "####Implementando..."
      ],
      "metadata": {
        "id": "kNjVid5JY35K"
      }
    },
    {
      "cell_type": "code",
      "source": [
        "text=\"DESATIVADO\"\n",
        "\n",
        "r = sr.Recognizer()\n",
        "\n",
        "mic = sr.Microphone()\n",
        "\n",
        "engine = pyttsx3.init()\n",
        "\n",
        "conectado = False\n",
        "porta = 'COM7' # Linux ou Mac em geral -> '/dev/ttyS0'\n",
        "velocidadeBaud = 9600 #Velocidade de transmissão Serial\n",
        "\n",
        "mensagensRecebidas = 1;\n",
        "desligarArduinoThread = False\n",
        "\n",
        "try:\n",
        "    # Inicia a conexão com a porta serial com a chamada ao método serial.Serial(PORTA_SERIAL, BAUD_RATE).\n",
        "    SerialArduino = serial.Serial(porta,velocidadeBaud, timeout = 0.2)\n",
        "except:\n",
        "    print(\"Verificar porta serial ou religar arduino\")\n",
        "\n",
        "def handle_data(data):\n",
        "    global mensagensRecebidas\n",
        "    print(\"Recebi \" + str(mensagensRecebidas) + \": \" + data)\n",
        "    mensagensRecebidas += 1\n",
        "\n",
        "def read_from_port(ser):\n",
        "    global conectado, desligarArduinoThread\n",
        "   \n",
        "    while not conectado:\n",
        "        conectado = True\n",
        "\n",
        "        while True:\n",
        "           reading = ser.readline().decode()\n",
        "           if reading != \"\":\n",
        "               handle_data(reading)\n",
        "           if desligarArduinoThread:\n",
        "               print(\"Desligando Arduino\")\n",
        "               break\n",
        "\n",
        "lerSerialThread = threading.Thread(target=read_from_port, args=(SerialArduino,))\n",
        "lerSerialThread.start()\n",
        "\n",
        "print(\"Preparando Arduino\")\n",
        "time.sleep(2)\n",
        "print(\"Arduino Pronto\")\n",
        "\n",
        "with mic as fonte:\n",
        "    while(text==\"DESATIVADO\"):\n",
        "        r.adjust_for_ambient_noise(fonte)\n",
        "        print(\"Estou ouvindo\")\n",
        "        audio = r.listen(fonte)\n",
        "        print(\"Enviando para reconhecimento\")\n",
        "       \n",
        "        try:\n",
        "            text = r.recognize_google(audio, language= \"pt-BR\")\n",
        "            if(text==\"ativar\"):\n",
        "                print(\"Ativando reconhecimento de fala!\")\n",
        "                engine.say(\"Ativando reconhecimento de fala!\")\n",
        "                engine.runAndWait()\n",
        "                engine.stop()\n",
        "            else: text=\"DESATIVADO\"\n",
        "        except:\n",
        "            text=\"DESATIVADO\"\n",
        "           \n",
        "    while(text==\"ativar\"):\n",
        "        r.adjust_for_ambient_noise(fonte)\n",
        "        print(\"Fale alguma coisa\")\n",
        "        audio = r.listen(fonte)\n",
        "        print(\"Enviando para reconhecimento\")\n",
        "       \n",
        "        try:\n",
        "            fala = r.recognize_google(audio, language= \"pt-BR\")\n",
        "            print(\"Você disse: {}\".format(fala))\n",
        "           \n",
        "            if (fala==\"ligar a luz\"):\n",
        "                print(\"Enviando\")\n",
        "                SerialArduino.write('ligar luzes\\n'.encode())\n",
        "                time.sleep(2)\n",
        "               \n",
        "                engine.say(\"Ligando as luzes!\")\n",
        "                engine.runAndWait()\n",
        "                engine.stop()\n",
        "               \n",
        "            elif (fala==\"Desligar a luz\"):\n",
        "                print(\"Enviando\")\n",
        "                SerialArduino.write('desligar luzes\\n'.encode())\n",
        "                time.sleep(2)\n",
        "               \n",
        "                engine.say(\"desligando as luzes\")\n",
        "                engine.runAndWait()\n",
        "                engine.stop()\n",
        "           \n",
        "            elif ((fala==\"obrigado\")or(fala==\"Obrigado\")):               \n",
        "                engine.say(\"De nada, estou a sua disposição.\")\n",
        "                engine.runAndWait()\n",
        "                engine.stop()\n",
        "               \n",
        "            elif (fala==\"dispensada\"):\n",
        "                engine.say(\"Tudo bem, desativando reconhecimento de fala.\")\n",
        "                engine.runAndWait()\n",
        "                engine.stop()\n",
        "                text=\"DESATIVADO\"\n",
        "           \n",
        "               \n",
        "        except:\n",
        "            print(\"Não entendi o que você disse\")\n",
        "           \n",
        "            engine.say(\"Não entendi o que você disse, pode repetir?\")\n",
        "            engine.runAndWait()\n",
        "            engine.stop()"
      ],
      "metadata": {
        "id": "iwzwMO6M2eTB"
      },
      "execution_count": null,
      "outputs": []
    }
  ]
}